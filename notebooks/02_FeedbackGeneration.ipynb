{
 "cells": [
  {
   "cell_type": "markdown",
   "id": "59e4bf77",
   "metadata": {},
   "source": [
    "# Feedback for tutors"
   ]
  },
  {
   "cell_type": "code",
   "execution_count": 1,
   "id": "f28187c1",
   "metadata": {
    "execution": {
     "iopub.execute_input": "2021-06-17T09:44:17.712680Z",
     "iopub.status.busy": "2021-06-17T09:44:17.711305Z",
     "iopub.status.idle": "2021-06-17T09:44:18.606129Z",
     "shell.execute_reply": "2021-06-17T09:44:18.606438Z"
    }
   },
   "outputs": [],
   "source": [
    "from github2pandas.utility import Utility\n",
    "from pathlib import Path\n",
    "import matplotlib.pyplot as plt\n",
    "import seaborn as sns\n",
    "import pandas as pd\n",
    "import time\n",
    "import os\n",
    "import sys\n",
    "sys.path.append('../')\n",
    "from src.DataHandling import DataHandling\n",
    "from src.Utilities import getrepofolder, getTeamName\n",
    "%load_ext autoreload\n",
    "%autoreload 2"
   ]
  },
  {
   "cell_type": "code",
   "execution_count": 2,
   "id": "7bf3880d",
   "metadata": {
    "execution": {
     "iopub.execute_input": "2021-06-17T09:44:18.608799Z",
     "iopub.status.busy": "2021-06-17T09:44:18.608470Z",
     "iopub.status.idle": "2021-06-17T09:44:18.620949Z",
     "shell.execute_reply": "2021-06-17T09:44:18.621362Z"
    }
   },
   "outputs": [
    {
     "name": "stdout",
     "output_type": "stream",
     "text": [
      "Loading parameter file ... ../data/parameter.yml\n"
     ]
    }
   ],
   "source": [
    "project_folder_name = \"../data/\"\n",
    "project_parameter_file = \"parameter.yml\"\n",
    "dataHandler = DataHandling(project_folder_name, project_parameter_file)"
   ]
  },
  {
   "cell_type": "code",
   "execution_count": 3,
   "id": "0797489d",
   "metadata": {
    "execution": {
     "iopub.execute_input": "2021-06-17T09:44:18.624412Z",
     "iopub.status.busy": "2021-06-17T09:44:18.624060Z",
     "iopub.status.idle": "2021-06-17T09:44:18.635573Z",
     "shell.execute_reply": "2021-06-17T09:44:18.635179Z"
    }
   },
   "outputs": [
    {
     "name": "stdout",
     "output_type": "stream",
     "text": [
      "Summarizing the following list of repositories\n",
      "'Softwareentwicklung_Aufgabe3_SoSe2021_MB-CaMo'\n",
      "'Softwareentwicklung_Aufgabe3_SoSe2021_MB-HeOe'\n",
      "'Softwareentwicklung_Aufgabe3_SoSe2021_MB-Jado'\n",
      "'Softwareentwicklung_Aufgabe3_SoSe2021_MB-Jury'\n",
      "'Softwareentwicklung_Aufgabe3_SoSe2021_MB-LoTe'\n",
      "'Softwareentwicklung_Aufgabe3_SoSe2021_MB-Ma-Vi'\n",
      "'Softwareentwicklung_Aufgabe3_SoSe2021_MB-RoMa'\n",
      "'Softwareentwicklung_Aufgabe3_SoSe2021_MB-Sola'\n",
      "8 repos found!\n"
     ]
    }
   ],
   "source": [
    "print(\"Summarizing the following list of repositories\") \n",
    "for entry in list(dataHandler.repos):\n",
    "    print(\"'\" + entry + \"'\")\n",
    "print(\"{} repos found!\".format(len(dataHandler.repos)))"
   ]
  },
  {
   "cell_type": "code",
   "execution_count": 4,
   "id": "6a4fa478",
   "metadata": {
    "execution": {
     "iopub.execute_input": "2021-06-17T09:44:18.639340Z",
     "iopub.status.busy": "2021-06-17T09:44:18.638922Z",
     "iopub.status.idle": "2021-06-17T09:44:18.656989Z",
     "shell.execute_reply": "2021-06-17T09:44:18.656663Z"
    }
   },
   "outputs": [],
   "source": [
    "anonym_pdCommits = dataHandler.unpickle_From_Preproc_Data_Folder(\"anonym_pdCommits.p\")\n",
    "anonym_pdReleases = dataHandler.unpickle_From_Preproc_Data_Folder(\"anonym_pdReleases.p\")\n",
    "anonym_pdEdits = dataHandler.unpickle_From_Preproc_Data_Folder(\"anonym_pdEdits.p\")\n",
    "anonym_pdIssues = dataHandler.unpickle_From_Preproc_Data_Folder(\"anonym_pdIssues.p\")\n",
    "anonym_pdBranches = dataHandler.unpickle_From_Preproc_Data_Folder(\"anonym_pdBranches.p\")\n",
    "anonym_pdPullRequests = dataHandler.unpickle_From_Preproc_Data_Folder(\"anonym_pdPullRequests.p\")\n",
    "teams_dict = dataHandler.unpickle_From_Preproc_Data_Folder(\"teams_dict.p\")"
   ]
  },
  {
   "cell_type": "markdown",
   "id": "bc48e77e",
   "metadata": {
    "execution": {
     "iopub.execute_input": "2021-06-16T04:25:24.497414Z",
     "iopub.status.busy": "2021-06-16T04:25:24.497078Z",
     "iopub.status.idle": "2021-06-16T04:25:24.506364Z",
     "shell.execute_reply": "2021-06-16T04:25:24.506035Z"
    }
   },
   "source": [
    "## Working times"
   ]
  },
  {
   "cell_type": "code",
   "execution_count": 5,
   "id": "fb6ed94c",
   "metadata": {
    "execution": {
     "iopub.execute_input": "2021-06-17T09:44:18.660461Z",
     "iopub.status.busy": "2021-06-17T09:44:18.659932Z",
     "iopub.status.idle": "2021-06-17T09:44:18.876590Z",
     "shell.execute_reply": "2021-06-17T09:44:18.876172Z"
    }
   },
   "outputs": [
    {
     "data": {
      "image/png": "[encoded data removed]",
      "text/plain": [
       "<Figure size 1296x432 with 2 Axes>"
      ]
     },
     "metadata": {
      "needs_background": "light"
     },
     "output_type": "display_data"
    }
   ],
   "source": [
    "anonym_pdCommits['days'] = anonym_pdCommits.commited_at.dt.dayofweek\n",
    "anonym_pdCommits['hours'] = anonym_pdCommits.commited_at.dt.hour\n",
    "fig, ax = plt.subplots(figsize=(18,6))\n",
    "y_axis_labels = ['Montag', 'Dienstag', 'Mittwoch', 'Donnerstag', 'Freitag', 'Sonnabend', 'Sonntag']\n",
    "\n",
    "g = sns.heatmap(anonym_pdCommits[anonym_pdCommits.commiter_role != 'github']\\\n",
    "                                             .groupby(['days', 'hours'])['commited_at']\\\n",
    "                                             .count()\\\n",
    "                                             .unstack(), \n",
    "            annot=True, yticklabels=y_axis_labels, ax=ax)\n",
    "\n",
    "plt.show()"
   ]
  },
  {
   "cell_type": "markdown",
   "id": "f9f1432b",
   "metadata": {},
   "source": [
    "## Working activities"
   ]
  },
  {
   "cell_type": "code",
   "execution_count": 6,
   "id": "53c7142d",
   "metadata": {
    "execution": {
     "iopub.execute_input": "2021-06-17T09:44:18.879068Z",
     "iopub.status.busy": "2021-06-17T09:44:18.878751Z",
     "iopub.status.idle": "2021-06-17T09:44:18.888978Z",
     "shell.execute_reply": "2021-06-17T09:44:18.888609Z"
    }
   },
   "outputs": [],
   "source": [
    "results = pd.DataFrame()\n",
    "inv_teams_dict = {teams_dict[k] : k for k in teams_dict}"
   ]
  },
  {
   "cell_type": "code",
   "execution_count": 7,
   "id": "4cc89dc7",
   "metadata": {
    "execution": {
     "iopub.execute_input": "2021-06-17T09:44:18.892727Z",
     "iopub.status.busy": "2021-06-17T09:44:18.892367Z",
     "iopub.status.idle": "2021-06-17T09:44:18.940863Z",
     "shell.execute_reply": "2021-06-17T09:44:18.941191Z"
    }
   },
   "outputs": [],
   "source": [
    "results['Team'] = \"\"\n",
    "results['Commits'] = 0\n",
    "results['Branches'] = 0\n",
    "results['Issues'] = 0\n",
    "results['PullRequests'] = 0\n",
    "results['Releases'] = 0\n",
    "\n",
    "for team_id in range(len(teams_dict)):\n",
    "    results.loc[team_id, 'Team'] = inv_teams_dict[team_id]\n",
    "    results.loc[team_id, 'Commits'] = anonym_pdCommits[anonym_pdCommits.teamKey == team_id].commit_sha.count()\n",
    "    results.loc[team_id, 'Branches'] = anonym_pdBranches[anonym_pdBranches.teamKey == team_id].branch_names.count()\n",
    "    results.loc[team_id, 'Issues'] = anonym_pdIssues[anonym_pdIssues.teamKey == team_id].task.count()\n",
    "    results.loc[team_id, 'PullRequests'] = anonym_pdPullRequests[anonym_pdPullRequests.teamKey == team_id].id.count()\n",
    "    results.loc[team_id, 'Releases'] = anonym_pdReleases[anonym_pdReleases.teamKey == team_id].team.count()"
   ]
  },
  {
   "cell_type": "code",
   "execution_count": 8,
   "id": "4465726f",
   "metadata": {
    "execution": {
     "iopub.execute_input": "2021-06-17T09:44:18.943815Z",
     "iopub.status.busy": "2021-06-17T09:44:18.943453Z",
     "iopub.status.idle": "2021-06-17T09:44:18.956676Z",
     "shell.execute_reply": "2021-06-17T09:44:18.956991Z"
    }
   },
   "outputs": [
    {
     "name": "stdout",
     "output_type": "stream",
     "text": [
      "|    | Team   |   Commits |   Branches |   Issues |   PullRequests |   Releases |\n",
      "|---:|:-------|----------:|-----------:|---------:|---------------:|-----------:|\n",
      "|  0 | camo   |         4 |          1 |        0 |              0 |          0 |\n",
      "|  1 | heoe   |         1 |          1 |        0 |              0 |          0 |\n",
      "|  2 | jado   |         3 |          1 |        0 |              0 |          0 |\n",
      "|  3 | jury   |         1 |          1 |        0 |              0 |          0 |\n",
      "|  4 | lote   |         8 |          2 |        0 |              1 |          0 |\n",
      "|  5 | mavi   |         1 |          1 |        0 |              0 |          0 |\n",
      "|  6 | roma   |         2 |          1 |        0 |              0 |          0 |\n",
      "|  7 | sola   |         1 |          1 |        0 |              0 |          0 |\n"
     ]
    }
   ],
   "source": [
    "print(results.to_markdown())"
   ]
  },
  {
   "cell_type": "code",
   "execution_count": null,
   "id": "de563e35",
   "metadata": {},
   "outputs": [],
   "source": []
  }
 ],
 "metadata": {
  "kernelspec": {
   "display_name": "My Great Env",
   "language": "python",
   "name": "mygreatenv"
  },
  "language_info": {
   "codemirror_mode": {
    "name": "ipython",
    "version": 3
   },
   "file_extension": ".py",
   "mimetype": "text/x-python",
   "name": "python",
   "nbconvert_exporter": "python",
   "pygments_lexer": "ipython3",
   "version": "3.8.5"
  }
 },
 "nbformat": 4,
 "nbformat_minor": 5
}
