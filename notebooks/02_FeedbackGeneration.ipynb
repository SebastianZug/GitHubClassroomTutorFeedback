{
 "cells": [
  {
   "cell_type": "markdown",
   "id": "c56ba604",
   "metadata": {},
   "source": [
    "# Feedback for tutors"
   ]
  },
  {
   "cell_type": "code",
   "execution_count": 1,
   "id": "94e3072f",
   "metadata": {
    "execution": {
     "iopub.execute_input": "2021-06-17T13:42:21.201699Z",
     "iopub.status.busy": "2021-06-17T13:42:21.201116Z",
     "iopub.status.idle": "2021-06-17T13:42:22.547200Z",
     "shell.execute_reply": "2021-06-17T13:42:22.546632Z"
    }
   },
   "outputs": [],
   "source": [
    "from github2pandas.utility import Utility\n",
    "from pathlib import Path\n",
    "import matplotlib.pyplot as plt\n",
    "import seaborn as sns\n",
    "import pandas as pd\n",
    "import time\n",
    "import os\n",
    "import sys\n",
    "sys.path.append('../')\n",
    "from src.DataHandling import DataHandling\n",
    "from src.Utilities import getrepofolder, getTeamName\n",
    "%load_ext autoreload\n",
    "%autoreload 2"
   ]
  },
  {
   "cell_type": "code",
   "execution_count": 2,
   "id": "ff6d60df",
   "metadata": {
    "execution": {
     "iopub.execute_input": "2021-06-17T13:42:22.551161Z",
     "iopub.status.busy": "2021-06-17T13:42:22.550275Z",
     "iopub.status.idle": "2021-06-17T13:42:22.567163Z",
     "shell.execute_reply": "2021-06-17T13:42:22.567568Z"
    }
   },
   "outputs": [],
   "source": [
    "project_folder_name = \"../data/\"\n",
    "project_parameter_file = \"parameter.yml\"\n",
    "dataHandler = DataHandling(project_folder_name, project_parameter_file)"
   ]
  },
  {
   "cell_type": "code",
   "execution_count": 3,
   "id": "02dd05a5",
   "metadata": {
    "execution": {
     "iopub.execute_input": "2021-06-17T13:42:22.572216Z",
     "iopub.status.busy": "2021-06-17T13:42:22.571661Z",
     "iopub.status.idle": "2021-06-17T13:42:22.586639Z",
     "shell.execute_reply": "2021-06-17T13:42:22.587091Z"
    }
   },
   "outputs": [
    {
     "name": "stdout",
     "output_type": "stream",
     "text": [
      "Summarizing the following list of repositories\n",
      "'Softwareentwicklung_Aufgabe3_SoSe2021_MB-CaMo'\n",
      "'Softwareentwicklung_Aufgabe3_SoSe2021_MB-HeOe'\n",
      "'Softwareentwicklung_Aufgabe3_SoSe2021_MB-Jado'\n",
      "'Softwareentwicklung_Aufgabe3_SoSe2021_MB-Jury'\n",
      "'Softwareentwicklung_Aufgabe3_SoSe2021_MB-LoTe'\n",
      "'Softwareentwicklung_Aufgabe3_SoSe2021_MB-Ma-Vi'\n",
      "'Softwareentwicklung_Aufgabe3_SoSe2021_MB-RoMa'\n",
      "'Softwareentwicklung_Aufgabe3_SoSe2021_MB-Sola'\n",
      "8 repos found!\n"
     ]
    }
   ],
   "source": [
    "print(\"Summarizing the following list of repositories\") \n",
    "for entry in list(dataHandler.repos):\n",
    "    print(\"'\" + entry + \"'\")\n",
    "print(\"{} repos found!\".format(len(dataHandler.repos)))"
   ]
  },
  {
   "cell_type": "code",
   "execution_count": 4,
   "id": "7c35b4d6",
   "metadata": {
    "execution": {
     "iopub.execute_input": "2021-06-17T13:42:22.591785Z",
     "iopub.status.busy": "2021-06-17T13:42:22.591203Z",
     "iopub.status.idle": "2021-06-17T13:42:22.619715Z",
     "shell.execute_reply": "2021-06-17T13:42:22.619159Z"
    }
   },
   "outputs": [],
   "source": [
    "anonym_pdCommits = dataHandler.unpickle_From_Preproc_Data_Folder(\"anonym_pdCommits.p\")\n",
    "anonym_pdReleases = dataHandler.unpickle_From_Preproc_Data_Folder(\"anonym_pdReleases.p\")\n",
    "anonym_pdEdits = dataHandler.unpickle_From_Preproc_Data_Folder(\"anonym_pdEdits.p\")\n",
    "anonym_pdIssues = dataHandler.unpickle_From_Preproc_Data_Folder(\"anonym_pdIssues.p\")\n",
    "anonym_pdBranches = dataHandler.unpickle_From_Preproc_Data_Folder(\"anonym_pdBranches.p\")\n",
    "anonym_pdPullRequests = dataHandler.unpickle_From_Preproc_Data_Folder(\"anonym_pdPullRequests.p\")\n",
    "teams_dict = dataHandler.unpickle_From_Preproc_Data_Folder(\"teams_dict.p\")"
   ]
  },
  {
   "cell_type": "markdown",
   "id": "c312c1e6",
   "metadata": {
    "execution": {
     "iopub.execute_input": "2021-06-16T04:25:24.497414Z",
     "iopub.status.busy": "2021-06-16T04:25:24.497078Z",
     "iopub.status.idle": "2021-06-16T04:25:24.506364Z",
     "shell.execute_reply": "2021-06-16T04:25:24.506035Z"
    }
   },
   "source": [
    "## Working times"
   ]
  },
  {
   "cell_type": "code",
   "execution_count": 1,
   "id": "0d5f5b16",
   "metadata": {},
   "outputs": [
    {
     "ename": "NameError",
     "evalue": "name 'anonym_pdCommits' is not defined",
     "output_type": "error",
     "traceback": [
      "\u001b[0;31m---------------------------------------------------------------------------\u001b[0m",
      "\u001b[0;31mNameError\u001b[0m                                 Traceback (most recent call last)",
      "\u001b[0;32m<ipython-input-1-ceee4bbbf009>\u001b[0m in \u001b[0;36m<module>\u001b[0;34m\u001b[0m\n\u001b[0;32m----> 1\u001b[0;31m \u001b[0manonym_pdCommits\u001b[0m\u001b[0;34m[\u001b[0m\u001b[0;34m'days'\u001b[0m\u001b[0;34m]\u001b[0m \u001b[0;34m=\u001b[0m \u001b[0manonym_pdCommits\u001b[0m\u001b[0;34m.\u001b[0m\u001b[0mcommited_at\u001b[0m\u001b[0;34m.\u001b[0m\u001b[0mdt\u001b[0m\u001b[0;34m.\u001b[0m\u001b[0mdayofweek\u001b[0m\u001b[0;34m\u001b[0m\u001b[0;34m\u001b[0m\u001b[0m\n\u001b[0m\u001b[1;32m      2\u001b[0m \u001b[0manonym_pdCommits\u001b[0m\u001b[0;34m[\u001b[0m\u001b[0;34m'hours'\u001b[0m\u001b[0;34m]\u001b[0m \u001b[0;34m=\u001b[0m \u001b[0manonym_pdCommits\u001b[0m\u001b[0;34m.\u001b[0m\u001b[0mcommited_at\u001b[0m\u001b[0;34m.\u001b[0m\u001b[0mdt\u001b[0m\u001b[0;34m.\u001b[0m\u001b[0mhour\u001b[0m\u001b[0;34m\u001b[0m\u001b[0;34m\u001b[0m\u001b[0m\n\u001b[1;32m      3\u001b[0m \u001b[0mfig\u001b[0m\u001b[0;34m,\u001b[0m \u001b[0max\u001b[0m \u001b[0;34m=\u001b[0m \u001b[0mplt\u001b[0m\u001b[0;34m.\u001b[0m\u001b[0msubplots\u001b[0m\u001b[0;34m(\u001b[0m\u001b[0mfigsize\u001b[0m\u001b[0;34m=\u001b[0m\u001b[0;34m(\u001b[0m\u001b[0;36m18\u001b[0m\u001b[0;34m,\u001b[0m\u001b[0;36m6\u001b[0m\u001b[0;34m)\u001b[0m\u001b[0;34m)\u001b[0m\u001b[0;34m\u001b[0m\u001b[0;34m\u001b[0m\u001b[0m\n\u001b[1;32m      4\u001b[0m \u001b[0my_axis_labels\u001b[0m \u001b[0;34m=\u001b[0m \u001b[0;34m[\u001b[0m\u001b[0;34m'Montag'\u001b[0m\u001b[0;34m,\u001b[0m \u001b[0;34m'Dienstag'\u001b[0m\u001b[0;34m,\u001b[0m \u001b[0;34m'Mittwoch'\u001b[0m\u001b[0;34m,\u001b[0m \u001b[0;34m'Donnerstag'\u001b[0m\u001b[0;34m,\u001b[0m \u001b[0;34m'Freitag'\u001b[0m\u001b[0;34m,\u001b[0m \u001b[0;34m'Sonnabend'\u001b[0m\u001b[0;34m,\u001b[0m \u001b[0;34m'Sonntag'\u001b[0m\u001b[0;34m]\u001b[0m\u001b[0;34m\u001b[0m\u001b[0;34m\u001b[0m\u001b[0m\n\u001b[1;32m      5\u001b[0m \u001b[0;34m\u001b[0m\u001b[0m\n",
      "\u001b[0;31mNameError\u001b[0m: name 'anonym_pdCommits' is not defined"
     ]
    }
   ],
   "source": [
    "anonym_pdCommits['days'] = anonym_pdCommits.commited_at.dt.dayofweek\n",
    "anonym_pdCommits['hours'] = anonym_pdCommits.commited_at.dt.hour\n",
    "fig, ax = plt.subplots(figsize=(18,6))\n",
    "y_axis_labels = ['Montag', 'Dienstag', 'Mittwoch', 'Donnerstag', 'Freitag', 'Sonnabend', 'Sonntag']\n",
    "\n",
    "g = sns.heatmap(anonym_pdCommits[anonym_pdCommits.commiter_role != 'github']\\\n",
    "                                             .groupby(['days', 'hours'])['commited_at']\\\n",
    "                                             .count()\\\n",
    "                                             .unstack(), \n",
    "            annot=True, yticklabels=y_axis_labels, ax=ax)\n",
    "\n",
    "#plt.show()"
   ]
  },
  {
   "cell_type": "code",
   "execution_count": null,
   "id": "f8f18657",
   "metadata": {},
   "outputs": [],
   "source": [
    "![image]()"
   ]
  },
  {
   "cell_type": "markdown",
   "id": "d0ef016c",
   "metadata": {},
   "source": [
    "## Working activities"
   ]
  },
  {
   "cell_type": "code",
   "execution_count": 6,
   "id": "9dee7e37",
   "metadata": {
    "execution": {
     "iopub.execute_input": "2021-06-17T13:42:22.911190Z",
     "iopub.status.busy": "2021-06-17T13:42:22.910634Z",
     "iopub.status.idle": "2021-06-17T13:42:22.928484Z",
     "shell.execute_reply": "2021-06-17T13:42:22.928956Z"
    }
   },
   "outputs": [],
   "source": [
    "results = pd.DataFrame()\n",
    "inv_teams_dict = {teams_dict[k] : k for k in teams_dict}"
   ]
  },
  {
   "cell_type": "code",
   "execution_count": 7,
   "id": "d4fd8219",
   "metadata": {
    "execution": {
     "iopub.execute_input": "2021-06-17T13:42:22.935044Z",
     "iopub.status.busy": "2021-06-17T13:42:22.934430Z",
     "iopub.status.idle": "2021-06-17T13:42:23.005179Z",
     "shell.execute_reply": "2021-06-17T13:42:23.004222Z"
    }
   },
   "outputs": [],
   "source": [
    "results['Team'] = \"\"\n",
    "results['Commits'] = 0\n",
    "results['Branches'] = 0\n",
    "results['Issues'] = 0\n",
    "results['PullRequests'] = 0\n",
    "results['Releases'] = 0\n",
    "\n",
    "for team_id in range(len(teams_dict)):\n",
    "    results.loc[team_id, 'Team'] = inv_teams_dict[team_id]\n",
    "    results.loc[team_id, 'Commits'] = anonym_pdCommits[anonym_pdCommits.teamKey == team_id].commit_sha.count()\n",
    "    results.loc[team_id, 'Branches'] = anonym_pdBranches[anonym_pdBranches.teamKey == team_id].branch_names.count()\n",
    "    results.loc[team_id, 'Issues'] = anonym_pdIssues[anonym_pdIssues.teamKey == team_id].task.count()\n",
    "    results.loc[team_id, 'PullRequests'] = anonym_pdPullRequests[anonym_pdPullRequests.teamKey == team_id].id.count()\n",
    "    results.loc[team_id, 'Releases'] = anonym_pdReleases[anonym_pdReleases.teamKey == team_id].team.count()"
   ]
  },
  {
   "cell_type": "code",
   "execution_count": 8,
   "id": "e944dc84",
   "metadata": {
    "execution": {
     "iopub.execute_input": "2021-06-17T13:42:23.009371Z",
     "iopub.status.busy": "2021-06-17T13:42:23.008414Z",
     "iopub.status.idle": "2021-06-17T13:42:23.029608Z",
     "shell.execute_reply": "2021-06-17T13:42:23.029004Z"
    }
   },
   "outputs": [
    {
     "name": "stdout",
     "output_type": "stream",
     "text": [
      "|    | Team   |   Commits |   Branches |   Issues |   PullRequests |   Releases |\n",
      "|---:|:-------|----------:|-----------:|---------:|---------------:|-----------:|\n",
      "|  0 | camo   |         4 |          1 |        0 |              0 |          0 |\n",
      "|  1 | heoe   |         1 |          1 |        0 |              0 |          0 |\n",
      "|  2 | jado   |         3 |          1 |        0 |              0 |          0 |\n",
      "|  3 | jury   |         1 |          1 |        0 |              0 |          0 |\n",
      "|  4 | lote   |         8 |          2 |        0 |              1 |          0 |\n",
      "|  5 | mavi   |         1 |          1 |        0 |              0 |          0 |\n",
      "|  6 | roma   |         2 |          1 |        0 |              0 |          0 |\n",
      "|  7 | sola   |         1 |          1 |        0 |              0 |          0 |\n"
     ]
    }
   ],
   "source": [
    "print(results.to_markdown())"
   ]
  },
  {
   "cell_type": "code",
   "execution_count": null,
   "id": "777516af",
   "metadata": {},
   "outputs": [],
   "source": []
  }
 ],
 "metadata": {
  "kernelspec": {
   "display_name": "My Great Env",
   "language": "python",
   "name": "mygreatenv"
  },
  "language_info": {
   "codemirror_mode": {
    "name": "ipython",
    "version": 3
   },
   "file_extension": ".py",
   "mimetype": "text/x-python",
   "name": "python",
   "nbconvert_exporter": "python",
   "pygments_lexer": "ipython3",
   "version": "3.8.5"
  }
 },
 "nbformat": 4,
 "nbformat_minor": 5
}
