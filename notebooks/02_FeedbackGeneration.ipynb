{
 "cells": [
  {
   "cell_type": "markdown",
   "id": "5ed7eb95",
   "metadata": {},
   "source": [
    "# Feedback for tutors"
   ]
  },
  {
   "cell_type": "code",
   "execution_count": 1,
   "id": "0c4068d7",
   "metadata": {
    "execution": {
     "iopub.execute_input": "2021-06-16T05:04:13.811092Z",
     "iopub.status.busy": "2021-06-16T05:04:13.796891Z",
     "iopub.status.idle": "2021-06-16T05:04:14.657980Z",
     "shell.execute_reply": "2021-06-16T05:04:14.657504Z"
    }
   },
   "outputs": [],
   "source": [
    "from github2pandas.utility import Utility\n",
    "from pathlib import Path\n",
    "import matplotlib.pyplot as plt\n",
    "import seaborn as sns\n",
    "import pandas as pd\n",
    "import time\n",
    "import os\n",
    "import sys\n",
    "sys.path.append('../')\n",
    "from src.DataHandling import DataHandling\n",
    "from src.Utilities import getrepofolder, getTeamName\n",
    "%load_ext autoreload\n",
    "%autoreload 2"
   ]
  },
  {
   "cell_type": "code",
   "execution_count": 2,
   "id": "1b73673a",
   "metadata": {
    "execution": {
     "iopub.execute_input": "2021-06-16T05:04:14.660845Z",
     "iopub.status.busy": "2021-06-16T05:04:14.660459Z",
     "iopub.status.idle": "2021-06-16T05:04:21.832982Z",
     "shell.execute_reply": "2021-06-16T05:04:21.833431Z"
    }
   },
   "outputs": [
    {
     "name": "stdout",
     "output_type": "stream",
     "text": [
      "Loading parameter file ... ../data/parameter.yml\n"
     ]
    }
   ],
   "source": [
    "project_folder_name = \"../data/\"\n",
    "project_parameter_file = \"parameter.yml\"\n",
    "dataHandler = DataHandling(project_folder_name, project_parameter_file)\n",
    "github_token = os.environ['TOKEN']\n",
    "\n",
    "relevant_repos = Utility.get_repos(github_token, \n",
    "                                    dataHandler.basic_folder,\n",
    "                                    dataHandler.whitelist_pattern,\n",
    "                                    dataHandler.blacklist_pattern)"
   ]
  },
  {
   "cell_type": "code",
   "execution_count": 3,
   "id": "5fb9bf06",
   "metadata": {
    "execution": {
     "iopub.execute_input": "2021-06-16T05:04:21.836570Z",
     "iopub.status.busy": "2021-06-16T05:04:21.835951Z",
     "iopub.status.idle": "2021-06-16T05:04:21.846881Z",
     "shell.execute_reply": "2021-06-16T05:04:21.846522Z"
    }
   },
   "outputs": [
    {
     "name": "stdout",
     "output_type": "stream",
     "text": [
      "While crawling the following patterns\n",
      "'softwareentwicklung_aufgabe3_sose2021'\n",
      "17 repos found!\n"
     ]
    }
   ],
   "source": [
    "print(\"While crawling the following patterns\") \n",
    "for entry in list(dataHandler.whitelist_pattern):\n",
    "    print(\"'\" + entry + \"'\")\n",
    "print(\"{} repos found!\".format(len(relevant_repos)))"
   ]
  },
  {
   "cell_type": "code",
   "execution_count": 4,
   "id": "dc0d5f78",
   "metadata": {
    "execution": {
     "iopub.execute_input": "2021-06-16T05:04:21.849693Z",
     "iopub.status.busy": "2021-06-16T05:04:21.849341Z",
     "iopub.status.idle": "2021-06-16T05:04:21.870273Z",
     "shell.execute_reply": "2021-06-16T05:04:21.869927Z"
    }
   },
   "outputs": [],
   "source": [
    "anonym_pdCommits = dataHandler.unpickle_From_Preproc_Data_Folder(\"anonym_pdCommits.p\")\n",
    "anonym_pdReleases = dataHandler.unpickle_From_Preproc_Data_Folder(\"anonym_pdReleases.p\")\n",
    "anonym_pdEdits = dataHandler.unpickle_From_Preproc_Data_Folder(\"anonym_pdEdits.p\")"
   ]
  },
  {
   "cell_type": "markdown",
   "id": "df596679",
   "metadata": {
    "execution": {
     "iopub.execute_input": "2021-06-16T04:25:24.497414Z",
     "iopub.status.busy": "2021-06-16T04:25:24.497078Z",
     "iopub.status.idle": "2021-06-16T04:25:24.506364Z",
     "shell.execute_reply": "2021-06-16T04:25:24.506035Z"
    }
   },
   "source": [
    "## Working times"
   ]
  },
  {
   "cell_type": "code",
   "execution_count": 5,
   "id": "6583f455",
   "metadata": {
    "execution": {
     "iopub.execute_input": "2021-06-16T05:04:21.874715Z",
     "iopub.status.busy": "2021-06-16T05:04:21.873839Z",
     "iopub.status.idle": "2021-06-16T05:04:22.219066Z",
     "shell.execute_reply": "2021-06-16T05:04:22.219424Z"
    }
   },
   "outputs": [
    {
     "data": {
      "image/png": "[encoded data removed]",
      "text/plain": [
       "<Figure size 1296x432 with 2 Axes>"
      ]
     },
     "metadata": {
      "needs_background": "light"
     },
     "output_type": "display_data"
    }
   ],
   "source": [
    "anonym_pdCommits['days'] = anonym_pdCommits.commited_at.dt.dayofweek\n",
    "anonym_pdCommits['hours'] = anonym_pdCommits.commited_at.dt.hour\n",
    "fig, ax = plt.subplots(figsize=(18,6))\n",
    "y_axis_labels = ['Montag', 'Dienstag', 'Mittwoch', 'Donnerstag', 'Freitag', 'Sonnabend', 'Sonntag']\n",
    "\n",
    "g = sns.heatmap(anonym_pdCommits[anonym_pdCommits.commiter_role != 'github']\\\n",
    "                                             .groupby(['days', 'hours'])['commited_at']\\\n",
    "                                             .count()\\\n",
    "                                             .unstack(), \n",
    "            annot=True, yticklabels=y_axis_labels, ax=ax)\n",
    "\n",
    "plt.show()"
   ]
  },
  {
   "cell_type": "markdown",
   "id": "59dfb743",
   "metadata": {},
   "source": [
    "## Commits per Task "
   ]
  },
  {
   "cell_type": "code",
   "execution_count": 6,
   "id": "a2acb523",
   "metadata": {
    "execution": {
     "iopub.execute_input": "2021-06-16T05:04:22.222903Z",
     "iopub.status.busy": "2021-06-16T05:04:22.222304Z",
     "iopub.status.idle": "2021-06-16T05:04:22.239835Z",
     "shell.execute_reply": "2021-06-16T05:04:22.239474Z"
    }
   },
   "outputs": [
    {
     "name": "stdout",
     "output_type": "stream",
     "text": [
      "|   task |   0 |   1 |   2 |   3 |   4 |   5 |   6 |   7 |   8 |   9 |   10 |   11 |   12 |   13 |   14 |   15 |\n",
      "|-------:|----:|----:|----:|----:|----:|----:|----:|----:|----:|----:|-----:|-----:|-----:|-----:|-----:|-----:|\n",
      "|      3 |   7 |  15 |  12 |   8 |  18 |  10 |   5 |   8 |  45 |  21 |   13 |   18 |    8 |    6 |    6 |    3 |\n"
     ]
    }
   ],
   "source": [
    "s = anonym_pdCommits[anonym_pdCommits.commiter_role != 'github']\\\n",
    "                     .groupby(['teamKey', 'task'])\\\n",
    "                     .commit_sha.count()\\\n",
    "                     .unstack().transpose()\n",
    "\n",
    "print(s.to_markdown())"
   ]
  },
  {
   "cell_type": "code",
   "execution_count": null,
   "id": "48f53724",
   "metadata": {},
   "outputs": [],
   "source": []
  }
 ],
 "metadata": {
  "kernelspec": {
   "display_name": "My Great Env",
   "language": "python",
   "name": "mygreatenv"
  },
  "language_info": {
   "codemirror_mode": {
    "name": "ipython",
    "version": 3
   },
   "file_extension": ".py",
   "mimetype": "text/x-python",
   "name": "python",
   "nbconvert_exporter": "python",
   "pygments_lexer": "ipython3",
   "version": "3.8.5"
  }
 },
 "nbformat": 4,
 "nbformat_minor": 5
}
