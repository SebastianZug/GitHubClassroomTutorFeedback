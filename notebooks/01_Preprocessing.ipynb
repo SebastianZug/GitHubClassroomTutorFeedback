{
 "cells": [
  {
   "cell_type": "code",
   "execution_count": 1,
   "id": "c5792fcb",
   "metadata": {
    "execution": {
     "iopub.execute_input": "2021-06-17T13:31:43.067729Z",
     "iopub.status.busy": "2021-06-17T13:31:43.067190Z",
     "iopub.status.idle": "2021-06-17T13:31:43.339028Z",
     "shell.execute_reply": "2021-06-17T13:31:43.338417Z"
    }
   },
   "outputs": [],
   "source": [
    "from pathlib import Path\n",
    "import pandas as pda\n",
    "import sys\n",
    "sys.path.append('../')\n",
    "from src.DataHandling import DataHandling\n",
    "%load_ext autoreload\n",
    "%autoreload 2"
   ]
  },
  {
   "cell_type": "code",
   "execution_count": 2,
   "id": "572084d4",
   "metadata": {
    "execution": {
     "iopub.execute_input": "2021-06-17T13:31:43.342911Z",
     "iopub.status.busy": "2021-06-17T13:31:43.341926Z",
     "iopub.status.idle": "2021-06-17T13:31:43.353139Z",
     "shell.execute_reply": "2021-06-17T13:31:43.352624Z"
    }
   },
   "outputs": [],
   "source": [
    "project_folder_name = \"../data/\"\n",
    "project_parameter_file = \"parameter.yml\"\n",
    "\n",
    "dataHandler = DataHandling(project_folder_name, project_parameter_file)"
   ]
  },
  {
   "cell_type": "code",
   "execution_count": 3,
   "id": "1ddbf306",
   "metadata": {
    "execution": {
     "iopub.execute_input": "2021-06-17T13:31:43.356632Z",
     "iopub.status.busy": "2021-06-17T13:31:43.356155Z",
     "iopub.status.idle": "2021-06-17T13:31:43.370400Z",
     "shell.execute_reply": "2021-06-17T13:31:43.369934Z"
    }
   },
   "outputs": [],
   "source": [
    "raw_pdCommits = dataHandler.unpickle_From_Raw_Data_Folder(\"raw_pdCommits.p\")\n",
    "raw_pdUsers = dataHandler.unpickle_From_Raw_Data_Folder(\"raw_pdUsers.p\")\n",
    "raw_pdReleases = dataHandler.unpickle_From_Raw_Data_Folder(\"raw_pdReleases.p\")\n",
    "raw_pdEdits = dataHandler.unpickle_From_Raw_Data_Folder(\"raw_pdEdits.p\")\n",
    "raw_pdIssues = dataHandler.unpickle_From_Raw_Data_Folder(\"raw_pdIssues.p\")\n",
    "raw_pdBranches = dataHandler.unpickle_From_Raw_Data_Folder(\"raw_pdBranches.p\")\n",
    "raw_pdPullRequests = dataHandler.unpickle_From_Raw_Data_Folder(\"raw_pdPullRequests.p\")"
   ]
  },
  {
   "cell_type": "markdown",
   "id": "3922623f",
   "metadata": {},
   "source": [
    "## Check user list"
   ]
  },
  {
   "cell_type": "code",
   "execution_count": 4,
   "id": "85f36104",
   "metadata": {
    "execution": {
     "iopub.execute_input": "2021-06-17T13:31:43.373964Z",
     "iopub.status.busy": "2021-06-17T13:31:43.373428Z",
     "iopub.status.idle": "2021-06-17T13:31:43.387622Z",
     "shell.execute_reply": "2021-06-17T13:31:43.388020Z"
    }
   },
   "outputs": [
    {
     "data": {
      "text/plain": [
       "['can-expect-late-month', 'would-hot-power-president']"
      ]
     },
     "execution_count": 1,
     "metadata": {},
     "output_type": "execute_result"
    }
   ],
   "source": [
    "github_users_black_list = [\"github-classroom[bot]\", \"actions-user\", \"web-flow\"]\n",
    "github_users_black_list_ids = raw_pdUsers [raw_pdUsers.login.isin(github_users_black_list)].anonym_uuid.unique().tolist() \n",
    "github_users_black_list_ids"
   ]
  },
  {
   "cell_type": "code",
   "execution_count": 5,
   "id": "8f573c8b",
   "metadata": {
    "execution": {
     "iopub.execute_input": "2021-06-17T13:31:43.391242Z",
     "iopub.status.busy": "2021-06-17T13:31:43.390781Z",
     "iopub.status.idle": "2021-06-17T13:31:43.399609Z",
     "shell.execute_reply": "2021-06-17T13:31:43.399084Z"
    }
   },
   "outputs": [],
   "source": [
    "raw_pdCommits['commiter_role'] = \"student\"\n",
    "raw_pdCommits.loc[raw_pdCommits.author.isin(github_users_black_list_ids), \"commiter_role\"] = 'github'"
   ]
  },
  {
   "cell_type": "code",
   "execution_count": 6,
   "id": "80d8e0ed",
   "metadata": {
    "execution": {
     "iopub.execute_input": "2021-06-17T13:31:43.403044Z",
     "iopub.status.busy": "2021-06-17T13:31:43.402399Z",
     "iopub.status.idle": "2021-06-17T13:31:43.418773Z",
     "shell.execute_reply": "2021-06-17T13:31:43.419142Z"
    }
   },
   "outputs": [
    {
     "data": {
      "text/html": [
       "<div>\n",
       "<style scoped>\n",
       "    .dataframe tbody tr th:only-of-type {\n",
       "        vertical-align: middle;\n",
       "    }\n",
       "\n",
       "    .dataframe tbody tr th {\n",
       "        vertical-align: top;\n",
       "    }\n",
       "\n",
       "    .dataframe thead th {\n",
       "        text-align: right;\n",
       "    }\n",
       "</style>\n",
       "<table border=\"1\" class=\"dataframe\">\n",
       "  <thead>\n",
       "    <tr style=\"text-align: right;\">\n",
       "      <th></th>\n",
       "      <th>anonym_uuid</th>\n",
       "      <th>id</th>\n",
       "      <th>login</th>\n",
       "      <th>name</th>\n",
       "      <th>team</th>\n",
       "    </tr>\n",
       "  </thead>\n",
       "  <tbody>\n",
       "    <tr>\n",
       "      <th>0</th>\n",
       "      <td>start-ready-open-hour</td>\n",
       "      <td>MDQ6VXNlcjgyMDE5OTI0</td>\n",
       "      <td>mokekei</td>\n",
       "      <td>None</td>\n",
       "      <td>camo</td>\n",
       "    </tr>\n",
       "    <tr>\n",
       "      <th>2</th>\n",
       "      <td>turn-democratic-month-house</td>\n",
       "      <td>MDQ6VXNlcjgyMDI5OTIz</td>\n",
       "      <td>Carl-Schade</td>\n",
       "      <td>None</td>\n",
       "      <td>camo</td>\n",
       "    </tr>\n",
       "    <tr>\n",
       "      <th>5</th>\n",
       "      <td>include-sit-best-father</td>\n",
       "      <td>MDQ6VXNlcjgyMTY0ODQ4</td>\n",
       "      <td>exe16</td>\n",
       "      <td>None</td>\n",
       "      <td>jado</td>\n",
       "    </tr>\n",
       "    <tr>\n",
       "      <th>7</th>\n",
       "      <td>use-can-red-family</td>\n",
       "      <td>MDQ6VXNlcjgyMDE2MDY5</td>\n",
       "      <td>DominikEbneter</td>\n",
       "      <td>None</td>\n",
       "      <td>jado</td>\n",
       "    </tr>\n",
       "    <tr>\n",
       "      <th>10</th>\n",
       "      <td>walk-wait-only-week</td>\n",
       "      <td>MDQ6VXNlcjgyMTcyMTc1</td>\n",
       "      <td>TheoPfannenschmidt</td>\n",
       "      <td>None</td>\n",
       "      <td>lote</td>\n",
       "    </tr>\n",
       "    <tr>\n",
       "      <th>11</th>\n",
       "      <td>tell-will-old-hand</td>\n",
       "      <td>MDQ6VXNlcjgyNzYxNjk2</td>\n",
       "      <td>lkunze304</td>\n",
       "      <td>None</td>\n",
       "      <td>lote</td>\n",
       "    </tr>\n",
       "    <tr>\n",
       "      <th>15</th>\n",
       "      <td>turn-serve-current-hand</td>\n",
       "      <td>MDQ6VXNlcjgyMzc3MzY2</td>\n",
       "      <td>MaxWilhelm65734</td>\n",
       "      <td>None</td>\n",
       "      <td>roma</td>\n",
       "    </tr>\n",
       "  </tbody>\n",
       "</table>\n",
       "</div>"
      ],
      "text/plain": [
       "                    anonym_uuid                    id               login  \\\n",
       "0         start-ready-open-hour  MDQ6VXNlcjgyMDE5OTI0             mokekei   \n",
       "2   turn-democratic-month-house  MDQ6VXNlcjgyMDI5OTIz         Carl-Schade   \n",
       "5       include-sit-best-father  MDQ6VXNlcjgyMTY0ODQ4               exe16   \n",
       "7            use-can-red-family  MDQ6VXNlcjgyMDE2MDY5      DominikEbneter   \n",
       "10          walk-wait-only-week  MDQ6VXNlcjgyMTcyMTc1  TheoPfannenschmidt   \n",
       "11           tell-will-old-hand  MDQ6VXNlcjgyNzYxNjk2           lkunze304   \n",
       "15      turn-serve-current-hand  MDQ6VXNlcjgyMzc3MzY2     MaxWilhelm65734   \n",
       "\n",
       "    name  team  \n",
       "0   None  camo  \n",
       "2   None  camo  \n",
       "5   None  jado  \n",
       "7   None  jado  \n",
       "10  None  lote  \n",
       "11  None  lote  \n",
       "15  None  roma  "
      ]
     },
     "execution_count": 1,
     "metadata": {},
     "output_type": "execute_result"
    }
   ],
   "source": [
    "raw_pdUsers[~raw_pdUsers.anonym_uuid.isin(github_users_black_list_ids)]"
   ]
  },
  {
   "cell_type": "markdown",
   "id": "d38b3e5c",
   "metadata": {},
   "source": [
    "## Eliminate none authors"
   ]
  },
  {
   "cell_type": "code",
   "execution_count": 7,
   "id": "420fe2d8",
   "metadata": {
    "execution": {
     "iopub.execute_input": "2021-06-17T13:31:43.421950Z",
     "iopub.status.busy": "2021-06-17T13:31:43.421502Z",
     "iopub.status.idle": "2021-06-17T13:31:43.434630Z",
     "shell.execute_reply": "2021-06-17T13:31:43.434941Z"
    }
   },
   "outputs": [
    {
     "data": {
      "text/html": [
       "<div>\n",
       "<style scoped>\n",
       "    .dataframe tbody tr th:only-of-type {\n",
       "        vertical-align: middle;\n",
       "    }\n",
       "\n",
       "    .dataframe tbody tr th {\n",
       "        vertical-align: top;\n",
       "    }\n",
       "\n",
       "    .dataframe thead th {\n",
       "        text-align: right;\n",
       "    }\n",
       "</style>\n",
       "<table border=\"1\" class=\"dataframe\">\n",
       "  <thead>\n",
       "    <tr style=\"text-align: right;\">\n",
       "      <th></th>\n",
       "      <th>commit_sha</th>\n",
       "      <th>commited_at</th>\n",
       "      <th>no_of_modifications</th>\n",
       "      <th>commit_message</th>\n",
       "      <th>parent_sha</th>\n",
       "      <th>in_main_branch</th>\n",
       "      <th>author</th>\n",
       "      <th>committer</th>\n",
       "      <th>tag</th>\n",
       "      <th>branch_ids</th>\n",
       "      <th>team</th>\n",
       "      <th>task</th>\n",
       "      <th>commiter_role</th>\n",
       "    </tr>\n",
       "  </thead>\n",
       "  <tbody>\n",
       "  </tbody>\n",
       "</table>\n",
       "</div>"
      ],
      "text/plain": [
       "Empty DataFrame\n",
       "Columns: [commit_sha, commited_at, no_of_modifications, commit_message, parent_sha, in_main_branch, author, committer, tag, branch_ids, team, task, commiter_role]\n",
       "Index: []"
      ]
     },
     "execution_count": 1,
     "metadata": {},
     "output_type": "execute_result"
    }
   ],
   "source": [
    "raw_pdCommits[raw_pdCommits.author.isnull()]"
   ]
  },
  {
   "cell_type": "code",
   "execution_count": 8,
   "id": "8841a985",
   "metadata": {
    "execution": {
     "iopub.execute_input": "2021-06-17T13:31:43.438606Z",
     "iopub.status.busy": "2021-06-17T13:31:43.438141Z",
     "iopub.status.idle": "2021-06-17T13:31:43.446678Z",
     "shell.execute_reply": "2021-06-17T13:31:43.446184Z"
    }
   },
   "outputs": [],
   "source": [
    "missing_authors = {'robert.mende@chemie.tu-freiberg.de': 'mean-grow-real-child',\n",
    "                   'RaginRain': \"look-spend-dead-side\",\n",
    "                   'Divino': 'bring-political-fact-time'}\n",
    "\n",
    "missing_authors_names = []\n",
    "\n",
    "for index, row in raw_pdCommits[raw_pdCommits.author.isnull()].iterrows():\n",
    "    print(row.author, \", \", row.unknown_user, \" --> \", missing_authors[row.unknown_user])\n",
    "    raw_pdCommits.at[index, \"author\"]  =  missing_authors[row.unknown_user]\n",
    "    raw_pdCommits.at[index, \"committer\"]  =  missing_authors[row.unknown_user]"
   ]
  },
  {
   "cell_type": "markdown",
   "id": "2fd70c87",
   "metadata": {},
   "source": [
    "## Anonymize authors and teams"
   ]
  },
  {
   "cell_type": "code",
   "execution_count": 9,
   "id": "1c1f7582",
   "metadata": {
    "execution": {
     "iopub.execute_input": "2021-06-17T13:31:43.451353Z",
     "iopub.status.busy": "2021-06-17T13:31:43.449834Z",
     "iopub.status.idle": "2021-06-17T13:31:43.459066Z",
     "shell.execute_reply": "2021-06-17T13:31:43.458626Z"
    }
   },
   "outputs": [],
   "source": [
    "authors = raw_pdCommits.author.unique()\n",
    "authors_dict = dict(zip(authors, range(len(authors))))\n",
    "\n",
    "teams = raw_pdCommits.team.unique()\n",
    "teams_dict = dict(zip(teams, range(len(teams))))"
   ]
  },
  {
   "cell_type": "code",
   "execution_count": 10,
   "id": "f3673b25",
   "metadata": {
    "execution": {
     "iopub.execute_input": "2021-06-17T13:31:43.464139Z",
     "iopub.status.busy": "2021-06-17T13:31:43.463494Z",
     "iopub.status.idle": "2021-06-17T13:31:43.478171Z",
     "shell.execute_reply": "2021-06-17T13:31:43.477673Z"
    }
   },
   "outputs": [],
   "source": [
    "def annoymizeDataFrame(raw_df, teams_dict, authors_dict):\n",
    "    df = raw_df.copy()\n",
    "    if 'author' in df.columns:\n",
    "        df['authorKey'] = df['author'].apply(lambda s: authors_dict.get(s) if s in authors_dict else s)\n",
    "    if 'team' in df.columns:\n",
    "        df['teamKey'] = df['team'].apply(lambda s: teams_dict.get(s) if s in teams_dict else s)\n",
    "    return df\n",
    "\n",
    "anonym_pdCommits = annoymizeDataFrame(raw_pdCommits, teams_dict, authors_dict)\n",
    "anonym_pdReleases = annoymizeDataFrame(raw_pdReleases, teams_dict, authors_dict)\n",
    "anonym_pdEdits = annoymizeDataFrame(raw_pdEdits, teams_dict, authors_dict)\n",
    "anonym_pdIssues = annoymizeDataFrame(raw_pdIssues, teams_dict, authors_dict)\n",
    "anonym_pdBranches = annoymizeDataFrame(raw_pdBranches, teams_dict, authors_dict)\n",
    "anonym_pdPullRequests = annoymizeDataFrame(raw_pdPullRequests, teams_dict, authors_dict)"
   ]
  },
  {
   "cell_type": "markdown",
   "id": "6383b158",
   "metadata": {},
   "source": [
    "## Save files"
   ]
  },
  {
   "cell_type": "code",
   "execution_count": 11,
   "id": "8e3c44af",
   "metadata": {
    "execution": {
     "iopub.execute_input": "2021-06-17T13:31:43.481566Z",
     "iopub.status.busy": "2021-06-17T13:31:43.481100Z",
     "iopub.status.idle": "2021-06-17T13:31:43.492507Z",
     "shell.execute_reply": "2021-06-17T13:31:43.492076Z"
    }
   },
   "outputs": [],
   "source": [
    "dataHandler.pickle_File_To_Preproc_Data_Folder(anonym_pdCommits, \"anonym_pdCommits.p\")\n",
    "dataHandler.pickle_File_To_Preproc_Data_Folder(anonym_pdReleases, \"anonym_pdReleases.p\")\n",
    "dataHandler.pickle_File_To_Preproc_Data_Folder(anonym_pdEdits, \"anonym_pdEdits.p\")\n",
    "dataHandler.pickle_File_To_Preproc_Data_Folder(anonym_pdIssues, \"anonym_pdIssues.p\")\n",
    "dataHandler.pickle_File_To_Preproc_Data_Folder(anonym_pdBranches, \"anonym_pdBranches.p\")\n",
    "dataHandler.pickle_File_To_Preproc_Data_Folder(anonym_pdPullRequests, \"anonym_pdPullRequests.p\")\n",
    "dataHandler.pickle_File_To_Preproc_Data_Folder(teams_dict, \"teams_dict.p\")"
   ]
  },
  {
   "cell_type": "code",
   "execution_count": null,
   "id": "37d80b37",
   "metadata": {},
   "outputs": [],
   "source": []
  }
 ],
 "metadata": {
  "kernelspec": {
   "display_name": "My Great Env",
   "language": "python",
   "name": "mygreatenv"
  },
  "language_info": {
   "codemirror_mode": {
    "name": "ipython",
    "version": 3
   },
   "file_extension": ".py",
   "mimetype": "text/x-python",
   "name": "python",
   "nbconvert_exporter": "python",
   "pygments_lexer": "ipython3",
   "version": "3.8.5"
  }
 },
 "nbformat": 4,
 "nbformat_minor": 5
}
