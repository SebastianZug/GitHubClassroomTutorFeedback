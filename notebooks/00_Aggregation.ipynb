{
 "cells": [
  {
   "cell_type": "code",
   "execution_count": 1,
   "metadata": {
    "execution": {
     "iopub.execute_input": "2021-06-16T05:02:26.186025Z",
     "iopub.status.busy": "2021-06-16T05:02:26.183785Z",
     "iopub.status.idle": "2021-06-16T05:02:26.788328Z",
     "shell.execute_reply": "2021-06-16T05:02:26.788633Z"
    }
   },
   "outputs": [],
   "source": [
    "from github2pandas.issues import Issues\n",
    "from github2pandas.pull_requests import PullRequests\n",
    "from github2pandas.version import Version\n",
    "from github2pandas.workflows import Workflows\n",
    "from github2pandas.utility import Utility\n",
    "from github2pandas.git_releases import GitReleases\n",
    "from pathlib import Path\n",
    "import pandas as pd\n",
    "import os\n",
    "import sys\n",
    "sys.path.append('../')\n",
    "from src.DataHandling import DataHandling\n",
    "from src.Utilities import getrepofolder, getTeamName, getTaskName"
   ]
  },
  {
   "cell_type": "code",
   "execution_count": 2,
   "metadata": {
    "execution": {
     "iopub.execute_input": "2021-06-16T05:02:26.792079Z",
     "iopub.status.busy": "2021-06-16T05:02:26.791126Z",
     "iopub.status.idle": "2021-06-16T05:02:26.794600Z",
     "shell.execute_reply": "2021-06-16T05:02:26.794295Z"
    }
   },
   "outputs": [
    {
     "name": "stdout",
     "output_type": "stream",
     "text": [
      "Loading parameter file ... ../data/parameter.yml\n"
     ]
    }
   ],
   "source": [
    "project_folder_name = \"../data/\"\n",
    "project_parameter_file = \"parameter.yml\"\n",
    "\n",
    "dataHandler = DataHandling(project_folder_name, project_parameter_file)\n",
    "github_token = os.environ['TOKEN']"
   ]
  },
  {
   "cell_type": "code",
   "execution_count": 3,
   "metadata": {
    "execution": {
     "iopub.execute_input": "2021-06-16T05:02:26.797452Z",
     "iopub.status.busy": "2021-06-16T05:02:26.797103Z",
     "iopub.status.idle": "2021-06-16T05:02:33.845473Z",
     "shell.execute_reply": "2021-06-16T05:02:33.843999Z"
    }
   },
   "outputs": [
    {
     "name": "stdout",
     "output_type": "stream",
     "text": [
      "17 repos found!\n"
     ]
    }
   ],
   "source": [
    "relevant_repos = Utility.get_repos(github_token, \n",
    "                                    dataHandler.basic_folder,\n",
    "                                    dataHandler.whitelist_pattern,\n",
    "                                    dataHandler.blacklist_pattern)\n",
    "\n",
    "print(\"{} repos found!\".format(len(relevant_repos)))"
   ]
  },
  {
   "cell_type": "code",
   "execution_count": 4,
   "metadata": {
    "execution": {
     "iopub.execute_input": "2021-06-16T05:02:33.855049Z",
     "iopub.status.busy": "2021-06-16T05:02:33.854723Z",
     "iopub.status.idle": "2021-06-16T05:04:09.447331Z",
     "shell.execute_reply": "2021-06-16T05:04:09.446188Z"
    }
   },
   "outputs": [
    {
     "name": "stdout",
     "output_type": "stream",
     "text": [
      " -> An exception occurred\n",
      "Found no database on provided path. Starting from scratch.\n"
     ]
    },
    {
     "name": "stderr",
     "output_type": "stream",
     "text": [
      "Parallel (4 processes): 100%|██████████| 9/9 [00:00<00:00, 15.24it/s]\n"
     ]
    },
    {
     "name": "stdout",
     "output_type": "stream",
     "text": [
      "1\n",
      " -> An exception occurred\n",
      "Found no database on provided path. Starting from scratch.\n"
     ]
    },
    {
     "name": "stderr",
     "output_type": "stream",
     "text": [
      "Parallel (4 processes): 100%|██████████| 17/17 [00:00<00:00, 20.96it/s]\n"
     ]
    },
    {
     "name": "stdout",
     "output_type": "stream",
     "text": [
      "1\n",
      "Found no database on provided path. Starting from scratch.\n"
     ]
    },
    {
     "name": "stderr",
     "output_type": "stream",
     "text": [
      "Parallel (4 processes): 100%|██████████| 14/14 [00:00<00:00, 24.41it/s]\n"
     ]
    },
    {
     "name": "stdout",
     "output_type": "stream",
     "text": [
      "1\n",
      " -> An exception occurred\n",
      "Found no database on provided path. Starting from scratch.\n"
     ]
    },
    {
     "name": "stderr",
     "output_type": "stream",
     "text": [
      "Parallel (4 processes): 100%|██████████| 10/10 [00:01<00:00,  7.53it/s]\n"
     ]
    },
    {
     "name": "stdout",
     "output_type": "stream",
     "text": [
      "1\n",
      " -> An exception occurred\n",
      "Found no database on provided path. Starting from scratch.\n"
     ]
    },
    {
     "name": "stderr",
     "output_type": "stream",
     "text": [
      "Parallel (4 processes): 100%|██████████| 20/20 [00:00<00:00, 25.86it/s]\n"
     ]
    },
    {
     "name": "stdout",
     "output_type": "stream",
     "text": [
      "1\n",
      " -> An exception occurred\n",
      "Found no database on provided path. Starting from scratch.\n"
     ]
    },
    {
     "name": "stderr",
     "output_type": "stream",
     "text": [
      "Parallel (4 processes): 100%|██████████| 12/12 [00:00<00:00, 27.47it/s]\n"
     ]
    },
    {
     "name": "stdout",
     "output_type": "stream",
     "text": [
      "1\n",
      " -> An exception occurred\n",
      " -> An exception occurred\n",
      "Found no database on provided path. Starting from scratch.\n"
     ]
    },
    {
     "name": "stderr",
     "output_type": "stream",
     "text": [
      "Parallel (4 processes): 100%|██████████| 7/7 [00:00<00:00, 19.61it/s]\n"
     ]
    },
    {
     "name": "stdout",
     "output_type": "stream",
     "text": [
      "1\n",
      " -> An exception occurred\n",
      "Found no database on provided path. Starting from scratch.\n"
     ]
    },
    {
     "name": "stderr",
     "output_type": "stream",
     "text": [
      "Parallel (4 processes): 100%|██████████| 10/10 [00:00<00:00, 18.32it/s]\n"
     ]
    },
    {
     "name": "stdout",
     "output_type": "stream",
     "text": [
      "1\n",
      "Found no database on provided path. Starting from scratch.\n"
     ]
    },
    {
     "name": "stderr",
     "output_type": "stream",
     "text": [
      "Parallel (4 processes): 100%|██████████| 47/47 [00:01<00:00, 33.63it/s]\n"
     ]
    },
    {
     "name": "stdout",
     "output_type": "stream",
     "text": [
      "1\n",
      " -> An exception occurred\n",
      "Found no database on provided path. Starting from scratch.\n"
     ]
    },
    {
     "name": "stderr",
     "output_type": "stream",
     "text": [
      "Parallel (4 processes): 100%|██████████| 23/23 [00:01<00:00, 14.60it/s]\n"
     ]
    },
    {
     "name": "stdout",
     "output_type": "stream",
     "text": [
      "1\n",
      " -> An exception occurred\n",
      "Found no database on provided path. Starting from scratch.\n"
     ]
    },
    {
     "name": "stderr",
     "output_type": "stream",
     "text": [
      "Parallel (4 processes): 100%|██████████| 7/7 [00:00<00:00, 15.50it/s]\n"
     ]
    },
    {
     "name": "stdout",
     "output_type": "stream",
     "text": [
      "1\n",
      " -> An exception occurred\n",
      "Found no database on provided path. Starting from scratch.\n"
     ]
    },
    {
     "name": "stderr",
     "output_type": "stream",
     "text": [
      "Parallel (4 processes): 100%|██████████| 10/10 [00:00<00:00, 28.28it/s]\n"
     ]
    },
    {
     "name": "stdout",
     "output_type": "stream",
     "text": [
      "1\n",
      " -> An exception occurred\n",
      "Found no database on provided path. Starting from scratch.\n"
     ]
    },
    {
     "name": "stderr",
     "output_type": "stream",
     "text": [
      "Parallel (4 processes): 100%|██████████| 20/20 [00:01<00:00, 19.26it/s]\n"
     ]
    },
    {
     "name": "stdout",
     "output_type": "stream",
     "text": [
      "1\n",
      "Found no database on provided path. Starting from scratch.\n"
     ]
    },
    {
     "name": "stderr",
     "output_type": "stream",
     "text": [
      "Parallel (4 processes): 100%|██████████| 10/10 [00:00<00:00, 16.48it/s]\n"
     ]
    },
    {
     "name": "stdout",
     "output_type": "stream",
     "text": [
      "1\n",
      "Found no database on provided path. Starting from scratch.\n"
     ]
    },
    {
     "name": "stderr",
     "output_type": "stream",
     "text": [
      "Parallel (4 processes): 100%|██████████| 8/8 [00:00<00:00, 19.79it/s]\n"
     ]
    },
    {
     "name": "stdout",
     "output_type": "stream",
     "text": [
      "1\n",
      " -> An exception occurred\n",
      "Found no database on provided path. Starting from scratch.\n"
     ]
    },
    {
     "name": "stderr",
     "output_type": "stream",
     "text": [
      "Parallel (4 processes): 100%|██████████| 8/8 [00:00<00:00, 15.15it/s]\n"
     ]
    },
    {
     "name": "stdout",
     "output_type": "stream",
     "text": [
      "1\n",
      "Found no database on provided path. Starting from scratch.\n"
     ]
    },
    {
     "name": "stderr",
     "output_type": "stream",
     "text": [
      "Parallel (4 processes): 100%|██████████| 5/5 [00:00<00:00, 17.29it/s]\n"
     ]
    },
    {
     "name": "stdout",
     "output_type": "stream",
     "text": [
      "1\n"
     ]
    }
   ],
   "source": [
    "raw_pdUsers = pd.DataFrame()\n",
    "raw_pdCommits = pd.DataFrame()\n",
    "raw_pdEdits = pd.DataFrame()\n",
    "raw_pdReleases = pd.DataFrame()\n",
    "\n",
    "for repo in relevant_repos:\n",
    "    repo_folder = getrepofolder(repo, dataHandler.basic_folder)\n",
    "    Version.no_of_proceses = 4\n",
    "    Version.clone_repository(repo=repo, data_root_dir=repo_folder, github_token=github_token)\n",
    "    Version.generate_version_pandas_tables(repo = repo, data_root_dir=repo_folder)\n",
    "\n",
    "    team_users = Utility.get_users(repo_folder)\n",
    "    team_users['team'] = getTeamName(repo, dataHandler.whitelist_pattern)\n",
    "    raw_pdUsers = raw_pdUsers.append(team_users, ignore_index=True)\n",
    "    \n",
    "    team_commits = Version.get_version(repo_folder)\n",
    "    team_commits['team'] = getTeamName(repo, dataHandler.whitelist_pattern)\n",
    "    team_commits['task'] = getTaskName(repo)\n",
    "    raw_pdCommits = raw_pdCommits.append(team_commits, ignore_index=True)\n",
    "    \n",
    "    team_edits = Version.get_version(repo_folder, Version.VERSION_EDITS)\n",
    "    team_edits['team'] = getTeamName(repo, dataHandler.whitelist_pattern)\n",
    "    team_edits['task'] = getTaskName(repo)\n",
    "    raw_pdEdits = raw_pdEdits.append(team_edits, ignore_index=True)\n",
    "    \n",
    "    GitReleases.generate_git_releases_pandas_tables(repo, repo_folder)\n",
    "    git_releases = GitReleases.get_git_releases(repo_folder) \n",
    "    git_releases['team'] = getTeamName(repo, dataHandler.whitelist_pattern)\n",
    "    git_releases['task'] = getTaskName(repo)\n",
    "    raw_pdReleases = raw_pdReleases.append(git_releases, ignore_index=True)\n"
   ]
  },
  {
   "cell_type": "code",
   "execution_count": 5,
   "metadata": {
    "execution": {
     "iopub.execute_input": "2021-06-16T05:04:09.456505Z",
     "iopub.status.busy": "2021-06-16T05:04:09.456163Z",
     "iopub.status.idle": "2021-06-16T05:04:09.470644Z",
     "shell.execute_reply": "2021-06-16T05:04:09.470910Z"
    }
   },
   "outputs": [],
   "source": [
    "raw_pdUsers.drop([\"email\"], axis = 1, inplace = True)\n",
    "raw_pdUsers.drop_duplicates(subset=['anonym_uuid', 'id', 'login', 'team'], inplace = True)\n",
    "raw_pdCommits.drop([\"committer_timezone\"], axis = 1, inplace = True)\n",
    "\n",
    "dataHandler.pickle_File_To_Raw_Data_Folder(raw_pdCommits, \"raw_pdCommits.p\")\n",
    "dataHandler.pickle_File_To_Raw_Data_Folder(raw_pdUsers, \"raw_pdUsers.p\")\n",
    "dataHandler.pickle_File_To_Raw_Data_Folder(raw_pdReleases, \"raw_pdReleases.p\")\n",
    "dataHandler.pickle_File_To_Raw_Data_Folder(raw_pdEdits, \"raw_pdEdits.p\")"
   ]
  },
  {
   "cell_type": "code",
   "execution_count": null,
   "metadata": {},
   "outputs": [],
   "source": []
  }
 ],
 "metadata": {
  "kernelspec": {
   "display_name": "My Great Env",
   "language": "python",
   "name": "mygreatenv"
  },
  "language_info": {
   "codemirror_mode": {
    "name": "ipython",
    "version": 3
   },
   "file_extension": ".py",
   "mimetype": "text/x-python",
   "name": "python",
   "nbconvert_exporter": "python",
   "pygments_lexer": "ipython3",
   "version": "3.8.5"
  }
 },
 "nbformat": 4,
 "nbformat_minor": 4
}
