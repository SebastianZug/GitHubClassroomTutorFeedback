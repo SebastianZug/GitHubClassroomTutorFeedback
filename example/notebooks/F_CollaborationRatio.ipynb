{
 "cells": [
  {
   "cell_type": "markdown",
   "id": "4215506f",
   "metadata": {},
   "source": [
    "# Generate collaboration metrics"
   ]
  },
  {
   "cell_type": "code",
   "execution_count": 1,
   "id": "ab08eda8",
   "metadata": {},
   "outputs": [],
   "source": [
    "import pandas as pd\n",
    "from pathlib import Path, PurePath\n",
    "import os\n",
    "import sys\n",
    "import numpy as np"
   ]
  },
  {
   "cell_type": "code",
   "execution_count": 2,
   "id": "36014c24",
   "metadata": {},
   "outputs": [],
   "source": [
    "from github2pandas_manager.config_parser import YAML_RequestDefinition\n",
    "import aux"
   ]
  },
  {
   "cell_type": "code",
   "execution_count": 3,
   "id": "51b81287",
   "metadata": {},
   "outputs": [],
   "source": [
    "sys.path.append(os.path.join(sys.path[0],'..','..','FeedbackGeneration'))\n",
    "from DataHandler import DataHandler"
   ]
  },
  {
   "cell_type": "code",
   "execution_count": 4,
   "id": "bbbfe615",
   "metadata": {
    "execution": {
     "iopub.execute_input": "2021-06-24T14:58:20.818028Z",
     "iopub.status.busy": "2021-06-24T14:58:20.817637Z",
     "iopub.status.idle": "2021-06-24T14:58:21.171369Z",
     "shell.execute_reply": "2021-06-24T14:58:21.170890Z"
    }
   },
   "outputs": [],
   "source": [
    "%load_ext autoreload\n",
    "%autoreload 2"
   ]
  },
  {
   "cell_type": "code",
   "execution_count": 5,
   "id": "4cd24a27",
   "metadata": {
    "execution": {
     "iopub.execute_input": "2021-06-24T14:58:21.174178Z",
     "iopub.status.busy": "2021-06-24T14:58:21.173795Z",
     "iopub.status.idle": "2021-06-24T14:58:21.183388Z",
     "shell.execute_reply": "2021-06-24T14:58:21.182999Z"
    }
   },
   "outputs": [],
   "source": [
    "result_folder = \"./example/notebooks/\"\n",
    "result_file_name = \"F_CollaborationRatio\""
   ]
  },
  {
   "cell_type": "code",
   "execution_count": 6,
   "id": "b95f36aa",
   "metadata": {
    "execution": {
     "iopub.execute_input": "2021-06-24T14:58:21.185761Z",
     "iopub.status.busy": "2021-06-24T14:58:21.185392Z",
     "iopub.status.idle": "2021-06-24T14:58:21.201399Z",
     "shell.execute_reply": "2021-06-24T14:58:21.201078Z"
    }
   },
   "outputs": [],
   "source": [
    "project_folder_name = \"../\"\n",
    "project_parameter_file = \"config.yml\""
   ]
  },
  {
   "cell_type": "code",
   "execution_count": 7,
   "id": "74f8adac",
   "metadata": {},
   "outputs": [],
   "source": [
    "# Just for local testing purposes \n",
    "# project_folder_name = \"./example/\""
   ]
  },
  {
   "cell_type": "code",
   "execution_count": 8,
   "id": "7155eeb8",
   "metadata": {
    "execution": {
     "iopub.execute_input": "2021-06-24T14:58:21.203660Z",
     "iopub.status.busy": "2021-06-24T14:58:21.203204Z",
     "iopub.status.idle": "2021-06-24T14:58:21.215628Z",
     "shell.execute_reply": "2021-06-24T14:58:21.215288Z"
    }
   },
   "outputs": [
    {
     "name": "stdout",
     "output_type": "stream",
     "text": [
      "./example/data/TaskExamples\n"
     ]
    }
   ],
   "source": [
    "request_params = YAML_RequestDefinition(project_folder_name+project_parameter_file)\n",
    "print(request_params.parameters.project_folder)"
   ]
  },
  {
   "cell_type": "code",
   "execution_count": 9,
   "id": "f62e9641",
   "metadata": {},
   "outputs": [
    {
     "name": "stdout",
     "output_type": "stream",
     "text": [
      "/home/zug/Desktop/github2pandas/GitHubClassroomTutorFeedback/example/notebooks\n",
      "/home/zug/Desktop/github2pandas/GitHubClassroomTutorFeedback\n"
     ]
    }
   ],
   "source": [
    "path = PurePath(os.getcwd())\n",
    "if path.name == \"notebooks\":\n",
    "    print(os.getcwd())\n",
    "    os.chdir(\"../../\")\n",
    "    print(os.getcwd())"
   ]
  },
  {
   "cell_type": "code",
   "execution_count": 10,
   "id": "9205ab6e",
   "metadata": {},
   "outputs": [
    {
     "name": "stdout",
     "output_type": "stream",
     "text": [
      "example/data/TaskExamples\n"
     ]
    }
   ],
   "source": [
    "dh = DataHandler(request_params.parameters.project_folder)"
   ]
  },
  {
   "cell_type": "code",
   "execution_count": 11,
   "id": "a248872d",
   "metadata": {},
   "outputs": [],
   "source": [
    "dh.raw_pdCommits['team'] =  dh.raw_pdCommits['repo_name'].apply(aux.getTeamName)\n",
    "dh.raw_pdEdits['team'] =  dh.raw_pdEdits['repo_name'].apply(aux.getTeamName)\n",
    "dh.raw_pdIssues['team'] =  dh.raw_pdIssues['repo_name'].apply(aux.getTeamName)\n",
    "dh.raw_pdRepositories['team'] =  dh.raw_pdRepositories['repo_name'].apply(aux.getTeamName)\n",
    "dh.raw_pdUsers['team'] =  dh.raw_pdUsers['repo_name'].apply(aux.getTeamName)"
   ]
  },
  {
   "cell_type": "code",
   "execution_count": 12,
   "id": "fc98710e",
   "metadata": {},
   "outputs": [
    {
     "data": {
      "text/plain": [
       "['can-expect-late-month', 'would-hot-power-president']"
      ]
     },
     "execution_count": 12,
     "metadata": {},
     "output_type": "execute_result"
    }
   ],
   "source": [
    "github_users_black_list = [\"github-classroom[bot]\", \"actions-user\", \"web-flow\", \"github-actions[bot]\", \"GitHubAction\"]\n",
    "github_users_black_list_ids = dh.raw_pdUsers [dh.raw_pdUsers.login.isin(github_users_black_list)].anonym_uuid.unique().tolist() \n",
    "\n",
    "tutor_black_list = [\"SebastianZug\", \"andre-dietrich\", \"JayTee42\", \"galinarudollf\", \"bpaulwitz\",\n",
    "                    \"Sebastian Zug\", \"gjaeger1\", \"Florian Richter\", \"RiFlorian\", \"JayTee\"]\n",
    "tutor_black_list_ids = dh.raw_pdUsers [dh.raw_pdUsers.login.isin(tutor_black_list)].anonym_uuid.unique().tolist() \n",
    "\n",
    "black_list_ids = tutor_black_list_ids + github_users_black_list_ids\n",
    "black_list_ids"
   ]
  },
  {
   "cell_type": "code",
   "execution_count": 13,
   "id": "e7397690",
   "metadata": {},
   "outputs": [],
   "source": [
    "dh.raw_pdUsers['role'] = \"student\"\n",
    "dh.raw_pdUsers.loc[dh.raw_pdUsers.anonym_uuid.isin(github_users_black_list_ids), \"role\"] = 'github'\n",
    "dh.raw_pdUsers.loc[dh.raw_pdUsers.anonym_uuid.isin(tutor_black_list_ids), \"role\"] = 'tutor'"
   ]
  },
  {
   "cell_type": "code",
   "execution_count": 14,
   "id": "5436dead",
   "metadata": {},
   "outputs": [],
   "source": [
    "df = pd.merge(dh.raw_pdEdits, dh.raw_pdCommits[['commit_sha', 'author']], how='left', left_on=['commit_sha'], right_on = ['commit_sha'])\n",
    "df = pd.merge(df, dh.raw_pdUsers[['anonym_uuid', 'role']], how='left', left_on=['author'], right_on = ['anonym_uuid'])"
   ]
  },
  {
   "cell_type": "code",
   "execution_count": 34,
   "id": "1059d972",
   "metadata": {},
   "outputs": [],
   "source": [
    "df_files = df[df.role != \"github\"].groupby(['team', 'author']).filename.unique().to_frame()\n",
    "df_files_separated = pd.DataFrame(df_files.to_records(),\n",
    "                                  columns=df_files.index.names + list(df_files.columns))\n",
    "\n",
    "teams = df_files_separated.groupby('team').author.unique()\n",
    "dict_teams =teams.to_dict()"
   ]
  },
  {
   "cell_type": "code",
   "execution_count": 39,
   "id": "3f3467d7",
   "metadata": {},
   "outputs": [
    {
     "data": {
      "text/html": [
       "<div>\n",
       "<style scoped>\n",
       "    .dataframe tbody tr th:only-of-type {\n",
       "        vertical-align: middle;\n",
       "    }\n",
       "\n",
       "    .dataframe tbody tr th {\n",
       "        vertical-align: top;\n",
       "    }\n",
       "\n",
       "    .dataframe thead th {\n",
       "        text-align: right;\n",
       "    }\n",
       "</style>\n",
       "<table border=\"1\" class=\"dataframe\">\n",
       "  <thead>\n",
       "    <tr style=\"text-align: right;\">\n",
       "      <th>authorID</th>\n",
       "      <th>Orga</th>\n",
       "      <th>author_A</th>\n",
       "      <th>author_B</th>\n",
       "    </tr>\n",
       "    <tr>\n",
       "      <th>team</th>\n",
       "      <th></th>\n",
       "      <th></th>\n",
       "      <th></th>\n",
       "    </tr>\n",
       "  </thead>\n",
       "  <tbody>\n",
       "    <tr>\n",
       "      <th>42</th>\n",
       "      <td>[README.md, team.config]</td>\n",
       "      <td>[team.config]</td>\n",
       "      <td>NaN</td>\n",
       "    </tr>\n",
       "    <tr>\n",
       "      <th>aufgabe3</th>\n",
       "      <td>[README.md, team.config]</td>\n",
       "      <td>[UML-Diagramm vorher, Pet-administration.cs]</td>\n",
       "      <td>NaN</td>\n",
       "    </tr>\n",
       "    <tr>\n",
       "      <th>computerministers</th>\n",
       "      <td>[README.md, team.config]</td>\n",
       "      <td>NaN</td>\n",
       "      <td>NaN</td>\n",
       "    </tr>\n",
       "    <tr>\n",
       "      <th>ichhabkeinteam</th>\n",
       "      <td>[team.config, README.md, .gitignore, Bunny.cs,...</td>\n",
       "      <td>[team.config, Pet.cs, App, App.dll, App.csproj...</td>\n",
       "      <td>NaN</td>\n",
       "    </tr>\n",
       "    <tr>\n",
       "      <th>irgendwas</th>\n",
       "      <td>[README.md, team.config]</td>\n",
       "      <td>[IStokeable.cs, pet.cs, cat.cs, mammal.cs, rab...</td>\n",
       "      <td>[Aufg6_Fisch.cs, Aufg6_Goldfisch.cs, Aufg6_Pet...</td>\n",
       "    </tr>\n",
       "    <tr>\n",
       "      <th>linux</th>\n",
       "      <td>[README.md, team.config]</td>\n",
       "      <td>NaN</td>\n",
       "      <td>NaN</td>\n",
       "    </tr>\n",
       "    <tr>\n",
       "      <th>nobodyexpectsthespanishinquisition</th>\n",
       "      <td>[Program.cs, .gitignore, softwareentwicklung_a...</td>\n",
       "      <td>NaN</td>\n",
       "      <td>NaN</td>\n",
       "    </tr>\n",
       "    <tr>\n",
       "      <th>plantpoweredprogrammers</th>\n",
       "      <td>[README.md, team.config]</td>\n",
       "      <td>[mammal.cs, cat.cs, rabbit.cs, pet.cs]</td>\n",
       "      <td>[goldfish.cs, fish.cs, guppy.cs, main.cs, kang...</td>\n",
       "    </tr>\n",
       "    <tr>\n",
       "      <th>poorgrammer</th>\n",
       "      <td>[README.md, team.config, ClassDiagram.puml, Ma...</td>\n",
       "      <td>[ClassDiagram.puml, team.config, Fish.cs, Gold...</td>\n",
       "      <td>[team.config]</td>\n",
       "    </tr>\n",
       "    <tr>\n",
       "      <th>suppengrun</th>\n",
       "      <td>[README.md, team.config]</td>\n",
       "      <td>[team.config, UML_code.txt]</td>\n",
       "      <td>[team.config, .gitignore, Program.cs, .NETCore...</td>\n",
       "    </tr>\n",
       "    <tr>\n",
       "      <th>systemoverload</th>\n",
       "      <td>[README.md, team.config]</td>\n",
       "      <td>NaN</td>\n",
       "      <td>NaN</td>\n",
       "    </tr>\n",
       "    <tr>\n",
       "      <th>tubaf_swe</th>\n",
       "      <td>[README.md, team.config]</td>\n",
       "      <td>NaN</td>\n",
       "      <td>NaN</td>\n",
       "    </tr>\n",
       "    <tr>\n",
       "      <th>void</th>\n",
       "      <td>[README.md, team.config]</td>\n",
       "      <td>[team.config]</td>\n",
       "      <td>NaN</td>\n",
       "    </tr>\n",
       "    <tr>\n",
       "      <th>wwwyoutubecomwatchvdqw4w9wgxcq</th>\n",
       "      <td>[README.md, team.config, Fish.cs, Goldfisch.cs...</td>\n",
       "      <td>[Bunny.cs, Cat.cs, Mammal.cs, Pet.cs, Program....</td>\n",
       "      <td>NaN</td>\n",
       "    </tr>\n",
       "  </tbody>\n",
       "</table>\n",
       "</div>"
      ],
      "text/plain": [
       "authorID                                                                         Orga  \\\n",
       "team                                                                                    \n",
       "42                                                           [README.md, team.config]   \n",
       "aufgabe3                                                     [README.md, team.config]   \n",
       "computerministers                                            [README.md, team.config]   \n",
       "ichhabkeinteam                      [team.config, README.md, .gitignore, Bunny.cs,...   \n",
       "irgendwas                                                    [README.md, team.config]   \n",
       "linux                                                        [README.md, team.config]   \n",
       "nobodyexpectsthespanishinquisition  [Program.cs, .gitignore, softwareentwicklung_a...   \n",
       "plantpoweredprogrammers                                      [README.md, team.config]   \n",
       "poorgrammer                         [README.md, team.config, ClassDiagram.puml, Ma...   \n",
       "suppengrun                                                   [README.md, team.config]   \n",
       "systemoverload                                               [README.md, team.config]   \n",
       "tubaf_swe                                                    [README.md, team.config]   \n",
       "void                                                         [README.md, team.config]   \n",
       "wwwyoutubecomwatchvdqw4w9wgxcq      [README.md, team.config, Fish.cs, Goldfisch.cs...   \n",
       "\n",
       "authorID                                                                     author_A  \\\n",
       "team                                                                                    \n",
       "42                                                                      [team.config]   \n",
       "aufgabe3                                 [UML-Diagramm vorher, Pet-administration.cs]   \n",
       "computerministers                                                                 NaN   \n",
       "ichhabkeinteam                      [team.config, Pet.cs, App, App.dll, App.csproj...   \n",
       "irgendwas                           [IStokeable.cs, pet.cs, cat.cs, mammal.cs, rab...   \n",
       "linux                                                                             NaN   \n",
       "nobodyexpectsthespanishinquisition                                                NaN   \n",
       "plantpoweredprogrammers                        [mammal.cs, cat.cs, rabbit.cs, pet.cs]   \n",
       "poorgrammer                         [ClassDiagram.puml, team.config, Fish.cs, Gold...   \n",
       "suppengrun                                                [team.config, UML_code.txt]   \n",
       "systemoverload                                                                    NaN   \n",
       "tubaf_swe                                                                         NaN   \n",
       "void                                                                    [team.config]   \n",
       "wwwyoutubecomwatchvdqw4w9wgxcq      [Bunny.cs, Cat.cs, Mammal.cs, Pet.cs, Program....   \n",
       "\n",
       "authorID                                                                     author_B  \n",
       "team                                                                                   \n",
       "42                                                                                NaN  \n",
       "aufgabe3                                                                          NaN  \n",
       "computerministers                                                                 NaN  \n",
       "ichhabkeinteam                                                                    NaN  \n",
       "irgendwas                           [Aufg6_Fisch.cs, Aufg6_Goldfisch.cs, Aufg6_Pet...  \n",
       "linux                                                                             NaN  \n",
       "nobodyexpectsthespanishinquisition                                                NaN  \n",
       "plantpoweredprogrammers             [goldfish.cs, fish.cs, guppy.cs, main.cs, kang...  \n",
       "poorgrammer                                                             [team.config]  \n",
       "suppengrun                          [team.config, .gitignore, Program.cs, .NETCore...  \n",
       "systemoverload                                                                    NaN  \n",
       "tubaf_swe                                                                         NaN  \n",
       "void                                                                              NaN  \n",
       "wwwyoutubecomwatchvdqw4w9wgxcq                                                    NaN  "
      ]
     },
     "execution_count": 39,
     "metadata": {},
     "output_type": "execute_result"
    }
   ],
   "source": [
    "count = 0\n",
    "authors_list =  ['author_A', 'author_B']\n",
    "df['authorID'] = \"Orga\"\n",
    "for index, row in df[df.role != \"github\"].iterrows():\n",
    "    if row.team in dict_teams:\n",
    "        members = dict_teams[row.team]\n",
    "        if row.author in members:\n",
    "            idx = list(members).index(row.author)\n",
    "            df.at[index, 'authorID'] = authors_list[idx]\n",
    "\n",
    "pdResults = df.groupby(['team', 'authorID']).filename.unique().unstack()\n",
    "pdResults"
   ]
  },
  {
   "cell_type": "code",
   "execution_count": 40,
   "id": "41f494e4",
   "metadata": {},
   "outputs": [],
   "source": [
    "pdResults['CollaborationRatio'] = 0\n",
    "for index, row in pdResults.iterrows():\n",
    "    if (not isinstance(row.author_A,float)):\n",
    "        A_files = list(row.author_A)\n",
    "    else:\n",
    "        A_files = []\n",
    "    if (not isinstance(row.author_B,float)):\n",
    "        B_files = list(row.author_B)\n",
    "    else:\n",
    "        B_files = []\n",
    "    \n",
    "    if A_files and B_files:\n",
    "        all_files = set(A_files) | set(B_files)\n",
    "    if A_files and not B_files:\n",
    "        all_files = set(A_files)\n",
    "    if not A_files and B_files:\n",
    "        all_files = set(B_files)\n",
    "\n",
    "    pdResults.at[index, 'CollaborationRatio'] = len(set(A_files) & set(B_files)) / len(all_files)"
   ]
  },
  {
   "cell_type": "code",
   "execution_count": 41,
   "id": "b9fc01c6",
   "metadata": {},
   "outputs": [
    {
     "data": {
      "text/html": [
       "<div>\n",
       "<style scoped>\n",
       "    .dataframe tbody tr th:only-of-type {\n",
       "        vertical-align: middle;\n",
       "    }\n",
       "\n",
       "    .dataframe tbody tr th {\n",
       "        vertical-align: top;\n",
       "    }\n",
       "\n",
       "    .dataframe thead th {\n",
       "        text-align: right;\n",
       "    }\n",
       "</style>\n",
       "<table border=\"1\" class=\"dataframe\">\n",
       "  <thead>\n",
       "    <tr style=\"text-align: right;\">\n",
       "      <th>authorID</th>\n",
       "      <th>team</th>\n",
       "      <th>Orga</th>\n",
       "      <th>author_A</th>\n",
       "      <th>author_B</th>\n",
       "      <th>CollaborationRatio</th>\n",
       "    </tr>\n",
       "  </thead>\n",
       "  <tbody>\n",
       "    <tr>\n",
       "      <th>0</th>\n",
       "      <td>`42`</td>\n",
       "      <td>[README.md, team.config]</td>\n",
       "      <td>[team.config]</td>\n",
       "      <td>NaN</td>\n",
       "      <td>0.000000</td>\n",
       "    </tr>\n",
       "    <tr>\n",
       "      <th>1</th>\n",
       "      <td>`aufgabe3`</td>\n",
       "      <td>[README.md, team.config]</td>\n",
       "      <td>[UML-Diagramm vorher, Pet-administration.cs]</td>\n",
       "      <td>NaN</td>\n",
       "      <td>0.000000</td>\n",
       "    </tr>\n",
       "    <tr>\n",
       "      <th>2</th>\n",
       "      <td>`computerministers`</td>\n",
       "      <td>[README.md, team.config]</td>\n",
       "      <td>NaN</td>\n",
       "      <td>NaN</td>\n",
       "      <td>0.000000</td>\n",
       "    </tr>\n",
       "    <tr>\n",
       "      <th>3</th>\n",
       "      <td>`ichhabkeinteam`</td>\n",
       "      <td>[team.config, README.md, .gitignore, Bunny.cs,...</td>\n",
       "      <td>[team.config, Pet.cs, App, App.dll, App.csproj...</td>\n",
       "      <td>NaN</td>\n",
       "      <td>0.000000</td>\n",
       "    </tr>\n",
       "    <tr>\n",
       "      <th>4</th>\n",
       "      <td>`irgendwas`</td>\n",
       "      <td>[README.md, team.config]</td>\n",
       "      <td>[IStokeable.cs, pet.cs, cat.cs, mammal.cs, rab...</td>\n",
       "      <td>[Aufg6_Fisch.cs, Aufg6_Goldfisch.cs, Aufg6_Pet...</td>\n",
       "      <td>0.000000</td>\n",
       "    </tr>\n",
       "    <tr>\n",
       "      <th>5</th>\n",
       "      <td>`linux`</td>\n",
       "      <td>[README.md, team.config]</td>\n",
       "      <td>NaN</td>\n",
       "      <td>NaN</td>\n",
       "      <td>0.000000</td>\n",
       "    </tr>\n",
       "    <tr>\n",
       "      <th>6</th>\n",
       "      <td>`nobodyexpectsthespanishinquisition`</td>\n",
       "      <td>[Program.cs, .gitignore, softwareentwicklung_a...</td>\n",
       "      <td>NaN</td>\n",
       "      <td>NaN</td>\n",
       "      <td>0.000000</td>\n",
       "    </tr>\n",
       "    <tr>\n",
       "      <th>7</th>\n",
       "      <td>`plantpoweredprogrammers`</td>\n",
       "      <td>[README.md, team.config]</td>\n",
       "      <td>[mammal.cs, cat.cs, rabbit.cs, pet.cs]</td>\n",
       "      <td>[goldfish.cs, fish.cs, guppy.cs, main.cs, kang...</td>\n",
       "      <td>0.000000</td>\n",
       "    </tr>\n",
       "    <tr>\n",
       "      <th>8</th>\n",
       "      <td>`poorgrammer`</td>\n",
       "      <td>[README.md, team.config, ClassDiagram.puml, Ma...</td>\n",
       "      <td>[ClassDiagram.puml, team.config, Fish.cs, Gold...</td>\n",
       "      <td>[team.config]</td>\n",
       "      <td>0.100000</td>\n",
       "    </tr>\n",
       "    <tr>\n",
       "      <th>9</th>\n",
       "      <td>`suppengrun`</td>\n",
       "      <td>[README.md, team.config]</td>\n",
       "      <td>[team.config, UML_code.txt]</td>\n",
       "      <td>[team.config, .gitignore, Program.cs, .NETCore...</td>\n",
       "      <td>0.090909</td>\n",
       "    </tr>\n",
       "    <tr>\n",
       "      <th>10</th>\n",
       "      <td>`systemoverload`</td>\n",
       "      <td>[README.md, team.config]</td>\n",
       "      <td>NaN</td>\n",
       "      <td>NaN</td>\n",
       "      <td>0.000000</td>\n",
       "    </tr>\n",
       "    <tr>\n",
       "      <th>11</th>\n",
       "      <td>`tubaf_swe`</td>\n",
       "      <td>[README.md, team.config]</td>\n",
       "      <td>NaN</td>\n",
       "      <td>NaN</td>\n",
       "      <td>0.000000</td>\n",
       "    </tr>\n",
       "    <tr>\n",
       "      <th>12</th>\n",
       "      <td>`void`</td>\n",
       "      <td>[README.md, team.config]</td>\n",
       "      <td>[team.config]</td>\n",
       "      <td>NaN</td>\n",
       "      <td>0.000000</td>\n",
       "    </tr>\n",
       "    <tr>\n",
       "      <th>13</th>\n",
       "      <td>`wwwyoutubecomwatchvdqw4w9wgxcq`</td>\n",
       "      <td>[README.md, team.config, Fish.cs, Goldfisch.cs...</td>\n",
       "      <td>[Bunny.cs, Cat.cs, Mammal.cs, Pet.cs, Program....</td>\n",
       "      <td>NaN</td>\n",
       "      <td>0.000000</td>\n",
       "    </tr>\n",
       "  </tbody>\n",
       "</table>\n",
       "</div>"
      ],
      "text/plain": [
       "authorID                                  team  \\\n",
       "0                                         `42`   \n",
       "1                                   `aufgabe3`   \n",
       "2                          `computerministers`   \n",
       "3                             `ichhabkeinteam`   \n",
       "4                                  `irgendwas`   \n",
       "5                                      `linux`   \n",
       "6         `nobodyexpectsthespanishinquisition`   \n",
       "7                    `plantpoweredprogrammers`   \n",
       "8                                `poorgrammer`   \n",
       "9                                 `suppengrun`   \n",
       "10                            `systemoverload`   \n",
       "11                                 `tubaf_swe`   \n",
       "12                                      `void`   \n",
       "13            `wwwyoutubecomwatchvdqw4w9wgxcq`   \n",
       "\n",
       "authorID                                               Orga  \\\n",
       "0                                  [README.md, team.config]   \n",
       "1                                  [README.md, team.config]   \n",
       "2                                  [README.md, team.config]   \n",
       "3         [team.config, README.md, .gitignore, Bunny.cs,...   \n",
       "4                                  [README.md, team.config]   \n",
       "5                                  [README.md, team.config]   \n",
       "6         [Program.cs, .gitignore, softwareentwicklung_a...   \n",
       "7                                  [README.md, team.config]   \n",
       "8         [README.md, team.config, ClassDiagram.puml, Ma...   \n",
       "9                                  [README.md, team.config]   \n",
       "10                                 [README.md, team.config]   \n",
       "11                                 [README.md, team.config]   \n",
       "12                                 [README.md, team.config]   \n",
       "13        [README.md, team.config, Fish.cs, Goldfisch.cs...   \n",
       "\n",
       "authorID                                           author_A  \\\n",
       "0                                             [team.config]   \n",
       "1              [UML-Diagramm vorher, Pet-administration.cs]   \n",
       "2                                                       NaN   \n",
       "3         [team.config, Pet.cs, App, App.dll, App.csproj...   \n",
       "4         [IStokeable.cs, pet.cs, cat.cs, mammal.cs, rab...   \n",
       "5                                                       NaN   \n",
       "6                                                       NaN   \n",
       "7                    [mammal.cs, cat.cs, rabbit.cs, pet.cs]   \n",
       "8         [ClassDiagram.puml, team.config, Fish.cs, Gold...   \n",
       "9                               [team.config, UML_code.txt]   \n",
       "10                                                      NaN   \n",
       "11                                                      NaN   \n",
       "12                                            [team.config]   \n",
       "13        [Bunny.cs, Cat.cs, Mammal.cs, Pet.cs, Program....   \n",
       "\n",
       "authorID                                           author_B  \\\n",
       "0                                                       NaN   \n",
       "1                                                       NaN   \n",
       "2                                                       NaN   \n",
       "3                                                       NaN   \n",
       "4         [Aufg6_Fisch.cs, Aufg6_Goldfisch.cs, Aufg6_Pet...   \n",
       "5                                                       NaN   \n",
       "6                                                       NaN   \n",
       "7         [goldfish.cs, fish.cs, guppy.cs, main.cs, kang...   \n",
       "8                                             [team.config]   \n",
       "9         [team.config, .gitignore, Program.cs, .NETCore...   \n",
       "10                                                      NaN   \n",
       "11                                                      NaN   \n",
       "12                                                      NaN   \n",
       "13                                                      NaN   \n",
       "\n",
       "authorID  CollaborationRatio  \n",
       "0                   0.000000  \n",
       "1                   0.000000  \n",
       "2                   0.000000  \n",
       "3                   0.000000  \n",
       "4                   0.000000  \n",
       "5                   0.000000  \n",
       "6                   0.000000  \n",
       "7                   0.000000  \n",
       "8                   0.100000  \n",
       "9                   0.090909  \n",
       "10                  0.000000  \n",
       "11                  0.000000  \n",
       "12                  0.000000  \n",
       "13                  0.000000  "
      ]
     },
     "execution_count": 41,
     "metadata": {},
     "output_type": "execute_result"
    }
   ],
   "source": [
    "pdResults.reset_index(inplace=True)\n",
    "pdResults['team'] = \"`\" + pdResults['team'] + \"`\" \n",
    "pdResults"
   ]
  },
  {
   "cell_type": "code",
   "execution_count": 42,
   "id": "94dda1a6",
   "metadata": {
    "execution": {
     "iopub.execute_input": "2021-06-24T14:58:21.327619Z",
     "iopub.status.busy": "2021-06-24T14:58:21.327239Z",
     "iopub.status.idle": "2021-06-24T14:58:21.337719Z",
     "shell.execute_reply": "2021-06-24T14:58:21.338042Z"
    }
   },
   "outputs": [],
   "source": [
    "with open(result_folder + result_file_name + '.txt', 'w') as f:\n",
    "    f.write(pdResults[['team', 'author_A', 'author_B', 'CollaborationRatio']].to_markdown())"
   ]
  },
  {
   "cell_type": "code",
   "execution_count": null,
   "id": "c865d004",
   "metadata": {},
   "outputs": [],
   "source": []
  }
 ],
 "metadata": {
  "interpreter": {
   "hash": "cab5110823f2123256dd3865d0cc139994b41dbc253d281a2185f480080b4372"
  },
  "kernelspec": {
   "display_name": "Python 3.9.12 ('GitHubClassroomTutorFeedback-0MA8VVWg')",
   "language": "python",
   "name": "python3"
  },
  "language_info": {
   "codemirror_mode": {
    "name": "ipython",
    "version": 3
   },
   "file_extension": ".py",
   "mimetype": "text/x-python",
   "name": "python",
   "nbconvert_exporter": "python",
   "pygments_lexer": "ipython3",
   "version": "3.9.13"
  }
 },
 "nbformat": 4,
 "nbformat_minor": 5
}
