{
 "cells": [
  {
   "cell_type": "markdown",
   "id": "4215506f",
   "metadata": {},
   "source": [
    "# Generate collaboration metrics"
   ]
  },
  {
   "cell_type": "code",
   "execution_count": 29,
   "id": "ab08eda8",
   "metadata": {},
   "outputs": [],
   "source": [
    "import pandas as pd\n",
    "from pathlib import Path, PurePath\n",
    "import os\n",
    "import sys\n",
    "import numpy as np"
   ]
  },
  {
   "cell_type": "code",
   "execution_count": 3,
   "id": "36014c24",
   "metadata": {},
   "outputs": [],
   "source": [
    "from github2pandas_manager.config_parser import YAML_RequestDefinition\n",
    "import aux"
   ]
  },
  {
   "cell_type": "code",
   "execution_count": 4,
   "id": "51b81287",
   "metadata": {},
   "outputs": [],
   "source": [
    "sys.path.append(os.path.join(sys.path[0],'..','..','FeedbackGeneration'))\n",
    "from DataHandler import DataHandler"
   ]
  },
  {
   "cell_type": "code",
   "execution_count": 12,
   "id": "bbbfe615",
   "metadata": {
    "execution": {
     "iopub.execute_input": "2021-06-24T14:58:20.818028Z",
     "iopub.status.busy": "2021-06-24T14:58:20.817637Z",
     "iopub.status.idle": "2021-06-24T14:58:21.171369Z",
     "shell.execute_reply": "2021-06-24T14:58:21.170890Z"
    }
   },
   "outputs": [
    {
     "name": "stdout",
     "output_type": "stream",
     "text": [
      "The autoreload extension is already loaded. To reload it, use:\n",
      "  %reload_ext autoreload\n"
     ]
    }
   ],
   "source": [
    "%load_ext autoreload\n",
    "%autoreload 2"
   ]
  },
  {
   "cell_type": "code",
   "execution_count": 13,
   "id": "4cd24a27",
   "metadata": {
    "execution": {
     "iopub.execute_input": "2021-06-24T14:58:21.174178Z",
     "iopub.status.busy": "2021-06-24T14:58:21.173795Z",
     "iopub.status.idle": "2021-06-24T14:58:21.183388Z",
     "shell.execute_reply": "2021-06-24T14:58:21.182999Z"
    }
   },
   "outputs": [],
   "source": [
    "result_folder = \"./example/notebooks/\"\n",
    "result_file_name = \"F_CollaborationRatio\""
   ]
  },
  {
   "cell_type": "code",
   "execution_count": 14,
   "id": "b95f36aa",
   "metadata": {
    "execution": {
     "iopub.execute_input": "2021-06-24T14:58:21.185761Z",
     "iopub.status.busy": "2021-06-24T14:58:21.185392Z",
     "iopub.status.idle": "2021-06-24T14:58:21.201399Z",
     "shell.execute_reply": "2021-06-24T14:58:21.201078Z"
    }
   },
   "outputs": [],
   "source": [
    "project_folder_name = \"../\"\n",
    "project_parameter_file = \"config.yml\""
   ]
  },
  {
   "cell_type": "code",
   "execution_count": 15,
   "id": "74f8adac",
   "metadata": {},
   "outputs": [],
   "source": [
    "# Just for local testing purposes \n",
    "# project_folder_name = \"./example/\""
   ]
  },
  {
   "cell_type": "code",
   "execution_count": 16,
   "id": "7155eeb8",
   "metadata": {
    "execution": {
     "iopub.execute_input": "2021-06-24T14:58:21.203660Z",
     "iopub.status.busy": "2021-06-24T14:58:21.203204Z",
     "iopub.status.idle": "2021-06-24T14:58:21.215628Z",
     "shell.execute_reply": "2021-06-24T14:58:21.215288Z"
    }
   },
   "outputs": [
    {
     "name": "stdout",
     "output_type": "stream",
     "text": [
      "./example/data/TaskExamples\n"
     ]
    }
   ],
   "source": [
    "request_params = YAML_RequestDefinition(project_folder_name+project_parameter_file)\n",
    "print(request_params.parameters.project_folder)"
   ]
  },
  {
   "cell_type": "code",
   "execution_count": 17,
   "id": "f62e9641",
   "metadata": {},
   "outputs": [],
   "source": [
    "path = PurePath(os.getcwd())\n",
    "if path.name == \"notebooks\":\n",
    "    print(os.getcwd())\n",
    "    os.chdir(\"../../\")\n",
    "    print(os.getcwd())"
   ]
  },
  {
   "cell_type": "code",
   "execution_count": 18,
   "id": "9205ab6e",
   "metadata": {},
   "outputs": [
    {
     "name": "stdout",
     "output_type": "stream",
     "text": [
      "example/data/TaskExamples\n"
     ]
    }
   ],
   "source": [
    "dh = DataHandler(request_params.parameters.project_folder)"
   ]
  },
  {
   "cell_type": "code",
   "execution_count": 19,
   "id": "a248872d",
   "metadata": {},
   "outputs": [],
   "source": [
    "dh.raw_pdCommits['team'] =  dh.raw_pdCommits['repo_name'].apply(aux.getTeamName)\n",
    "dh.raw_pdEdits['team'] =  dh.raw_pdEdits['repo_name'].apply(aux.getTeamName)\n",
    "dh.raw_pdIssues['team'] =  dh.raw_pdIssues['repo_name'].apply(aux.getTeamName)\n",
    "dh.raw_pdRepositories['team'] =  dh.raw_pdRepositories['repo_name'].apply(aux.getTeamName)\n",
    "dh.raw_pdUsers['team'] =  dh.raw_pdUsers['repo_name'].apply(aux.getTeamName)"
   ]
  },
  {
   "cell_type": "code",
   "execution_count": 20,
   "id": "fc98710e",
   "metadata": {},
   "outputs": [
    {
     "data": {
      "text/plain": [
       "['open-young-friend-night',\n",
       " 'take-certain-word-end',\n",
       " 'happen-democratic-early-game',\n",
       " 'expect-bring-medical-lot',\n",
       " 'serve-stay-cultural-reason',\n",
       " 'would-hot-power-president',\n",
       " 'can-expect-late-month']"
      ]
     },
     "execution_count": 20,
     "metadata": {},
     "output_type": "execute_result"
    }
   ],
   "source": [
    "github_users_black_list = [\"github-classroom[bot]\", \"actions-user\", \"web-flow\", \"github-actions[bot]\", \"GitHubAction\"]\n",
    "github_users_black_list_ids = dh.raw_pdUsers [dh.raw_pdUsers.login.isin(github_users_black_list)].anonym_uuid.unique().tolist() \n",
    "\n",
    "tutor_black_list = [\"SebastianZug\", \"andre-dietrich\", \"JayTee42\", \"galinarudollf\", \"bpaulwitz\",\n",
    "                    \"Sebastian Zug\", \"gjaeger1\", \"Florian Richter\", \"RiFlorian\", \"JayTee\"]\n",
    "tutor_black_list_ids = dh.raw_pdUsers [dh.raw_pdUsers.login.isin(tutor_black_list)].anonym_uuid.unique().tolist() \n",
    "\n",
    "black_list_ids = tutor_black_list_ids + github_users_black_list_ids\n",
    "black_list_ids"
   ]
  },
  {
   "cell_type": "code",
   "execution_count": 21,
   "id": "e7397690",
   "metadata": {},
   "outputs": [],
   "source": [
    "dh.raw_pdUsers['role'] = \"student\"\n",
    "dh.raw_pdUsers.loc[dh.raw_pdUsers.anonym_uuid.isin(github_users_black_list_ids), \"role\"] = 'github'\n",
    "dh.raw_pdUsers.loc[dh.raw_pdUsers.anonym_uuid.isin(tutor_black_list_ids), \"role\"] = 'tutor'"
   ]
  },
  {
   "cell_type": "code",
   "execution_count": 22,
   "id": "5436dead",
   "metadata": {},
   "outputs": [],
   "source": [
    "df = pd.merge(dh.raw_pdEdits, dh.raw_pdCommits[['commit_sha', 'author']], how='left', left_on=['commit_sha'], right_on = ['commit_sha'])\n",
    "df = pd.merge(df, dh.raw_pdUsers[['anonym_uuid', 'role']], how='left', left_on=['author'], right_on = ['anonym_uuid'])"
   ]
  },
  {
   "cell_type": "code",
   "execution_count": 23,
   "id": "1059d972",
   "metadata": {},
   "outputs": [
    {
     "name": "stdout",
     "output_type": "stream",
     "text": [
      "False\n"
     ]
    }
   ],
   "source": [
    "df_files = df[df.role != \"github\"].groupby(['team', 'author']).filename.unique().to_frame()\n",
    "df_files_separated = pd.DataFrame(df_files.to_records(),\n",
    "                                  columns=df_files.index.names + list(df_files.columns))\n",
    "\n",
    "teams = df_files_separated.groupby('team').author.unique()\n",
    "dict_teams =teams.to_dict()\n",
    "print('open-yong-friend-night'  in dict_teams['andre_und_sebastian1'])"
   ]
  },
  {
   "cell_type": "code",
   "execution_count": 27,
   "id": "3f3467d7",
   "metadata": {},
   "outputs": [
    {
     "data": {
      "text/html": [
       "<div>\n",
       "<style scoped>\n",
       "    .dataframe tbody tr th:only-of-type {\n",
       "        vertical-align: middle;\n",
       "    }\n",
       "\n",
       "    .dataframe tbody tr th {\n",
       "        vertical-align: top;\n",
       "    }\n",
       "\n",
       "    .dataframe thead th {\n",
       "        text-align: right;\n",
       "    }\n",
       "</style>\n",
       "<table border=\"1\" class=\"dataframe\">\n",
       "  <thead>\n",
       "    <tr style=\"text-align: right;\">\n",
       "      <th>authorID</th>\n",
       "      <th>Orga</th>\n",
       "      <th>author_A</th>\n",
       "      <th>author_B</th>\n",
       "    </tr>\n",
       "    <tr>\n",
       "      <th>team</th>\n",
       "      <th></th>\n",
       "      <th></th>\n",
       "      <th></th>\n",
       "    </tr>\n",
       "  </thead>\n",
       "  <tbody>\n",
       "    <tr>\n",
       "      <th>andre_und_sebastian1</th>\n",
       "      <td>[CSharpBasics.txt, README.md, team.config]</td>\n",
       "      <td>[Task.md]</td>\n",
       "      <td>NaN</td>\n",
       "    </tr>\n",
       "    <tr>\n",
       "      <th>galina_und_jonas</th>\n",
       "      <td>[CSharpBasics.txt, README.md, team.config]</td>\n",
       "      <td>[team.config]</td>\n",
       "      <td>[team.config, CSharpBasics.md, HelloWorld.cs]</td>\n",
       "    </tr>\n",
       "    <tr>\n",
       "      <th>nico_und_baldur</th>\n",
       "      <td>[CSharpBasics.txt, README.md, team.config]</td>\n",
       "      <td>[team.config, CSharpBasics.md, CSharpBasics.txt]</td>\n",
       "      <td>[team.config]</td>\n",
       "    </tr>\n",
       "  </tbody>\n",
       "</table>\n",
       "</div>"
      ],
      "text/plain": [
       "authorID                                                    Orga  \\\n",
       "team                                                               \n",
       "andre_und_sebastian1  [CSharpBasics.txt, README.md, team.config]   \n",
       "galina_und_jonas      [CSharpBasics.txt, README.md, team.config]   \n",
       "nico_und_baldur       [CSharpBasics.txt, README.md, team.config]   \n",
       "\n",
       "authorID                                                      author_A  \\\n",
       "team                                                                     \n",
       "andre_und_sebastian1                                         [Task.md]   \n",
       "galina_und_jonas                                         [team.config]   \n",
       "nico_und_baldur       [team.config, CSharpBasics.md, CSharpBasics.txt]   \n",
       "\n",
       "authorID                                                   author_B  \n",
       "team                                                                 \n",
       "andre_und_sebastian1                                            NaN  \n",
       "galina_und_jonas      [team.config, CSharpBasics.md, HelloWorld.cs]  \n",
       "nico_und_baldur                                       [team.config]  "
      ]
     },
     "execution_count": 27,
     "metadata": {},
     "output_type": "execute_result"
    }
   ],
   "source": [
    "df_files = df[df.role != \"github\"].groupby(['team', 'author']).filename.unique().to_frame()\n",
    "df_files_separated = pd.DataFrame(df_files.to_records(),\n",
    "                                  columns=df_files.index.names + list(df_files.columns))\n",
    "\n",
    "count = 0\n",
    "authors_list =  ['author_A', 'author_B']\n",
    "df['authorID'] = \"Orga\"\n",
    "for index, row in df[df.role != \"github\"].iterrows():\n",
    "    idx = list(dict_teams[row.team]).index(row.author)\n",
    "    df.at[index, 'authorID'] = authors_list[idx]\n",
    "\n",
    "pdResults = df.groupby(['team', 'authorID']).filename.unique().unstack()\n",
    "pdResults"
   ]
  },
  {
   "cell_type": "code",
   "execution_count": 68,
   "id": "41f494e4",
   "metadata": {},
   "outputs": [
    {
     "name": "stdout",
     "output_type": "stream",
     "text": [
      "---------------------\n",
      "['Task.md']\n",
      "[]\n",
      "{'Task.md'}\n",
      "---------------------\n",
      "['team.config']\n",
      "['team.config', 'CSharpBasics.md', 'HelloWorld.cs']\n",
      "{'team.config', 'HelloWorld.cs', 'CSharpBasics.md'}\n",
      "---------------------\n",
      "['team.config', 'CSharpBasics.md', 'CSharpBasics.txt']\n",
      "['team.config']\n",
      "{'CSharpBasics.txt', 'team.config', 'CSharpBasics.md'}\n"
     ]
    }
   ],
   "source": [
    "pdResults['CollaborationRatio'] = 0\n",
    "for index, row in pdResults.iterrows():\n",
    "    print(\"---------------------\")\n",
    "    if (not isinstance(row.author_A,float)):\n",
    "        A_files = list(row.author_A)\n",
    "    else:\n",
    "        A_files = []\n",
    "    if (not isinstance(row.author_B,float)):\n",
    "        B_files = list(row.author_B)\n",
    "    else:\n",
    "        B_files = []\n",
    "    \n",
    "    if A_files and B_files:\n",
    "        all_files = set(A_files) | set(B_files)\n",
    "    if A_files and not B_files:\n",
    "        all_files = set(A_files)\n",
    "    if not A_files and B_files:\n",
    "        all_files = set(B_files)\n",
    "\n",
    "    pdResults.at[index, 'CollaborationRatio'] = len(set(A_files) & set(B_files)) / len(all_files)"
   ]
  },
  {
   "cell_type": "code",
   "execution_count": 69,
   "id": "b9fc01c6",
   "metadata": {},
   "outputs": [
    {
     "data": {
      "text/html": [
       "<div>\n",
       "<style scoped>\n",
       "    .dataframe tbody tr th:only-of-type {\n",
       "        vertical-align: middle;\n",
       "    }\n",
       "\n",
       "    .dataframe tbody tr th {\n",
       "        vertical-align: top;\n",
       "    }\n",
       "\n",
       "    .dataframe thead th {\n",
       "        text-align: right;\n",
       "    }\n",
       "</style>\n",
       "<table border=\"1\" class=\"dataframe\">\n",
       "  <thead>\n",
       "    <tr style=\"text-align: right;\">\n",
       "      <th>authorID</th>\n",
       "      <th>team</th>\n",
       "      <th>Orga</th>\n",
       "      <th>author_A</th>\n",
       "      <th>author_B</th>\n",
       "      <th>CollaborationRatio</th>\n",
       "    </tr>\n",
       "  </thead>\n",
       "  <tbody>\n",
       "    <tr>\n",
       "      <th>0</th>\n",
       "      <td>`andre_und_sebastian1`</td>\n",
       "      <td>[CSharpBasics.txt, README.md, team.config]</td>\n",
       "      <td>[Task.md]</td>\n",
       "      <td>NaN</td>\n",
       "      <td>0.000000</td>\n",
       "    </tr>\n",
       "    <tr>\n",
       "      <th>1</th>\n",
       "      <td>`galina_und_jonas`</td>\n",
       "      <td>[CSharpBasics.txt, README.md, team.config]</td>\n",
       "      <td>[team.config]</td>\n",
       "      <td>[team.config, CSharpBasics.md, HelloWorld.cs]</td>\n",
       "      <td>0.333333</td>\n",
       "    </tr>\n",
       "    <tr>\n",
       "      <th>2</th>\n",
       "      <td>`nico_und_baldur`</td>\n",
       "      <td>[CSharpBasics.txt, README.md, team.config]</td>\n",
       "      <td>[team.config, CSharpBasics.md, CSharpBasics.txt]</td>\n",
       "      <td>[team.config]</td>\n",
       "      <td>0.333333</td>\n",
       "    </tr>\n",
       "  </tbody>\n",
       "</table>\n",
       "</div>"
      ],
      "text/plain": [
       "authorID                    team                                        Orga  \\\n",
       "0         `andre_und_sebastian1`  [CSharpBasics.txt, README.md, team.config]   \n",
       "1             `galina_und_jonas`  [CSharpBasics.txt, README.md, team.config]   \n",
       "2              `nico_und_baldur`  [CSharpBasics.txt, README.md, team.config]   \n",
       "\n",
       "authorID                                          author_A  \\\n",
       "0                                                [Task.md]   \n",
       "1                                            [team.config]   \n",
       "2         [team.config, CSharpBasics.md, CSharpBasics.txt]   \n",
       "\n",
       "authorID                                       author_B  CollaborationRatio  \n",
       "0                                                   NaN            0.000000  \n",
       "1         [team.config, CSharpBasics.md, HelloWorld.cs]            0.333333  \n",
       "2                                         [team.config]            0.333333  "
      ]
     },
     "execution_count": 69,
     "metadata": {},
     "output_type": "execute_result"
    }
   ],
   "source": [
    "pdResults.reset_index(inplace=True)\n",
    "pdResults['team'] = \"`\" + pdResults['team'] + \"`\" \n",
    "pdResults"
   ]
  },
  {
   "cell_type": "code",
   "execution_count": 26,
   "id": "94dda1a6",
   "metadata": {
    "execution": {
     "iopub.execute_input": "2021-06-24T14:58:21.327619Z",
     "iopub.status.busy": "2021-06-24T14:58:21.327239Z",
     "iopub.status.idle": "2021-06-24T14:58:21.337719Z",
     "shell.execute_reply": "2021-06-24T14:58:21.338042Z"
    }
   },
   "outputs": [],
   "source": [
    "with open(result_folder + result_file_name + '.txt', 'w') as f:\n",
    "    f.write(pdResults[['team', 'Orga', 'author_A', 'author_B']].to_markdown())"
   ]
  },
  {
   "cell_type": "code",
   "execution_count": null,
   "id": "c865d004",
   "metadata": {},
   "outputs": [],
   "source": []
  }
 ],
 "metadata": {
  "interpreter": {
   "hash": "cab5110823f2123256dd3865d0cc139994b41dbc253d281a2185f480080b4372"
  },
  "kernelspec": {
   "display_name": "Python 3.9.12 ('GitHubClassroomTutorFeedback-0MA8VVWg')",
   "language": "python",
   "name": "python3"
  },
  "language_info": {
   "codemirror_mode": {
    "name": "ipython",
    "version": 3
   },
   "file_extension": ".py",
   "mimetype": "text/x-python",
   "name": "python",
   "nbconvert_exporter": "python",
   "pygments_lexer": "ipython3",
   "version": "3.9.12"
  }
 },
 "nbformat": 4,
 "nbformat_minor": 5
}
