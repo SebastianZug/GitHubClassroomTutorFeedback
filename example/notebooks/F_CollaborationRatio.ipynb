{
 "cells": [
  {
   "cell_type": "markdown",
   "id": "4215506f",
   "metadata": {},
   "source": [
    "# Generate collaboration metrics"
   ]
  },
  {
   "cell_type": "code",
   "execution_count": 2,
   "id": "ab08eda8",
   "metadata": {},
   "outputs": [],
   "source": [
    "import pandas as pd\n",
    "from pathlib import Path, PurePath\n",
    "import os\n",
    "import sys\n",
    "import numpy as np"
   ]
  },
  {
   "cell_type": "code",
   "execution_count": 3,
   "id": "36014c24",
   "metadata": {},
   "outputs": [],
   "source": [
    "from github2pandas_manager.config_parser import YAML_RequestDefinition\n",
    "import aux"
   ]
  },
  {
   "cell_type": "code",
   "execution_count": 4,
   "id": "51b81287",
   "metadata": {},
   "outputs": [],
   "source": [
    "sys.path.append(os.path.join(sys.path[0],'..','..','FeedbackGeneration'))\n",
    "from DataHandler import DataHandler"
   ]
  },
  {
   "cell_type": "code",
   "execution_count": 13,
   "id": "bbbfe615",
   "metadata": {
    "execution": {
     "iopub.execute_input": "2021-06-24T14:58:20.818028Z",
     "iopub.status.busy": "2021-06-24T14:58:20.817637Z",
     "iopub.status.idle": "2021-06-24T14:58:21.171369Z",
     "shell.execute_reply": "2021-06-24T14:58:21.170890Z"
    }
   },
   "outputs": [
    {
     "name": "stdout",
     "output_type": "stream",
     "text": [
      "The autoreload extension is already loaded. To reload it, use:\n",
      "  %reload_ext autoreload\n"
     ]
    }
   ],
   "source": [
    "%load_ext autoreload\n",
    "%autoreload 2"
   ]
  },
  {
   "cell_type": "code",
   "execution_count": 14,
   "id": "4cd24a27",
   "metadata": {
    "execution": {
     "iopub.execute_input": "2021-06-24T14:58:21.174178Z",
     "iopub.status.busy": "2021-06-24T14:58:21.173795Z",
     "iopub.status.idle": "2021-06-24T14:58:21.183388Z",
     "shell.execute_reply": "2021-06-24T14:58:21.182999Z"
    }
   },
   "outputs": [],
   "source": [
    "result_folder = \"./example/notebooks/\"\n",
    "result_file_name = \"F_CollaborationRatio\""
   ]
  },
  {
   "cell_type": "code",
   "execution_count": 15,
   "id": "b95f36aa",
   "metadata": {
    "execution": {
     "iopub.execute_input": "2021-06-24T14:58:21.185761Z",
     "iopub.status.busy": "2021-06-24T14:58:21.185392Z",
     "iopub.status.idle": "2021-06-24T14:58:21.201399Z",
     "shell.execute_reply": "2021-06-24T14:58:21.201078Z"
    }
   },
   "outputs": [],
   "source": [
    "project_folder_name = \"../\"\n",
    "project_parameter_file = \"config.yml\""
   ]
  },
  {
   "cell_type": "code",
   "execution_count": 16,
   "id": "74f8adac",
   "metadata": {},
   "outputs": [],
   "source": [
    "# Just for local testing purposes \n",
    "# project_folder_name = \"./example/\""
   ]
  },
  {
   "cell_type": "code",
   "execution_count": 19,
   "id": "7155eeb8",
   "metadata": {
    "execution": {
     "iopub.execute_input": "2021-06-24T14:58:21.203660Z",
     "iopub.status.busy": "2021-06-24T14:58:21.203204Z",
     "iopub.status.idle": "2021-06-24T14:58:21.215628Z",
     "shell.execute_reply": "2021-06-24T14:58:21.215288Z"
    }
   },
   "outputs": [
    {
     "name": "stdout",
     "output_type": "stream",
     "text": [
      "./example/data/TaskExamples\n"
     ]
    }
   ],
   "source": [
    "request_params = YAML_RequestDefinition(project_folder_name+project_parameter_file)\n",
    "print(request_params.parameters.project_folder)"
   ]
  },
  {
   "cell_type": "code",
   "execution_count": 18,
   "id": "f62e9641",
   "metadata": {},
   "outputs": [
    {
     "name": "stdout",
     "output_type": "stream",
     "text": [
      "/home/zug/Desktop/github2pandas/TutorFeedback_StudentRepos_5/example/notebooks\n",
      "/home/zug/Desktop/github2pandas/TutorFeedback_StudentRepos_5\n"
     ]
    }
   ],
   "source": [
    "path = PurePath(os.getcwd())\n",
    "if path.name == \"notebooks\":\n",
    "    print(os.getcwd())\n",
    "    os.chdir(\"../../\")\n",
    "    print(os.getcwd())"
   ]
  },
  {
   "cell_type": "code",
   "execution_count": 20,
   "id": "9205ab6e",
   "metadata": {},
   "outputs": [
    {
     "name": "stdout",
     "output_type": "stream",
     "text": [
      "example/data/TaskExamples\n"
     ]
    }
   ],
   "source": [
    "dh = DataHandler(request_params.parameters.project_folder)"
   ]
  },
  {
   "cell_type": "code",
   "execution_count": 21,
   "id": "a248872d",
   "metadata": {},
   "outputs": [],
   "source": [
    "dh.raw_pdCommits['team'] =  dh.raw_pdCommits['repo_name'].apply(aux.getTeamName)\n",
    "dh.raw_pdEdits['team'] =  dh.raw_pdEdits['repo_name'].apply(aux.getTeamName)\n",
    "dh.raw_pdIssues['team'] =  dh.raw_pdIssues['repo_name'].apply(aux.getTeamName)\n",
    "dh.raw_pdRepositories['team'] =  dh.raw_pdRepositories['repo_name'].apply(aux.getTeamName)\n",
    "dh.raw_pdUsers['team'] =  dh.raw_pdUsers['repo_name'].apply(aux.getTeamName)"
   ]
  },
  {
   "cell_type": "code",
   "execution_count": 22,
   "id": "fc98710e",
   "metadata": {},
   "outputs": [
    {
     "data": {
      "text/plain": [
       "['can-expect-late-month', 'would-hot-power-president']"
      ]
     },
     "execution_count": 22,
     "metadata": {},
     "output_type": "execute_result"
    }
   ],
   "source": [
    "github_users_black_list = [\"github-classroom[bot]\", \"actions-user\", \"web-flow\", \"github-actions[bot]\", \"GitHubAction\"]\n",
    "github_users_black_list_ids = dh.raw_pdUsers [dh.raw_pdUsers.login.isin(github_users_black_list)].anonym_uuid.unique().tolist() \n",
    "\n",
    "tutor_black_list = [\"SebastianZug\", \"andre-dietrich\", \"JayTee42\", \"galinarudollf\", \"bpaulwitz\",\n",
    "                    \"Sebastian Zug\", \"gjaeger1\", \"Florian Richter\", \"RiFlorian\", \"JayTee\"]\n",
    "tutor_black_list_ids = dh.raw_pdUsers [dh.raw_pdUsers.login.isin(tutor_black_list)].anonym_uuid.unique().tolist() \n",
    "\n",
    "black_list_ids = tutor_black_list_ids + github_users_black_list_ids\n",
    "black_list_ids"
   ]
  },
  {
   "cell_type": "code",
   "execution_count": 23,
   "id": "e7397690",
   "metadata": {},
   "outputs": [],
   "source": [
    "dh.raw_pdUsers['role'] = \"student\"\n",
    "dh.raw_pdUsers.loc[dh.raw_pdUsers.anonym_uuid.isin(github_users_black_list_ids), \"role\"] = 'github'\n",
    "dh.raw_pdUsers.loc[dh.raw_pdUsers.anonym_uuid.isin(tutor_black_list_ids), \"role\"] = 'tutor'"
   ]
  },
  {
   "cell_type": "code",
   "execution_count": 24,
   "id": "5436dead",
   "metadata": {},
   "outputs": [],
   "source": [
    "df = pd.merge(dh.raw_pdEdits, dh.raw_pdCommits[['commit_sha', 'author']], how='left', left_on=['commit_sha'], right_on = ['commit_sha'])\n",
    "df = pd.merge(df, dh.raw_pdUsers[['anonym_uuid', 'role']], how='left', left_on=['author'], right_on = ['anonym_uuid'])"
   ]
  },
  {
   "cell_type": "code",
   "execution_count": 29,
   "id": "1059d972",
   "metadata": {},
   "outputs": [],
   "source": [
    "df_files = df[df.role != \"github\"].groupby(['team', 'author']).filename.unique().to_frame()\n",
    "df_files_separated = pd.DataFrame(df_files.to_records(),\n",
    "                                  columns=df_files.index.names + list(df_files.columns))\n",
    "\n",
    "teams = df_files_separated.groupby('team').author.unique()\n",
    "dict_teams =teams.to_dict()"
   ]
  },
  {
   "cell_type": "code",
   "execution_count": 30,
   "id": "21102efe",
   "metadata": {},
   "outputs": [
    {
     "data": {
      "text/plain": [
       "{'42': array(['kill-ask-poor-service', 'let-other-medical-state'], dtype=object),\n",
       " '_blank_': array(['become-new-city-house', 'seem-religious-car-family'], dtype=object),\n",
       " 'aufgabe3': array(['use-clear-low-night'], dtype=object),\n",
       " 'computerministers': array(['see-should-serious-person'], dtype=object),\n",
       " 'hier_kreativen_namen_einfugen': array(['pay-walk-short-day', 'see-environmental-low-hand'], dtype=object),\n",
       " 'ichhabkeinteam': array(['like-past-cold-girl', 'tell-long-mother-health'], dtype=object),\n",
       " 'irgendwas': array(['hold-get-other-fact', 'stay-general-main-money'], dtype=object),\n",
       " 'linux': array(['tell-environmental-clear-home'], dtype=object),\n",
       " 'nobodyexpectsthespanishinquisition': array(['know-live-big-right', 'read-main-serious-party'], dtype=object),\n",
       " 'plantpoweredprogrammers': array(['bring-cold-common-face', 'put-understand-possible-education'],\n",
       "       dtype=object),\n",
       " 'poorgrammer': array(['lead-natural-full-family'], dtype=object),\n",
       " 'suppengrun': array(['be-full-certain-home', 'take-hold-bad-law'], dtype=object),\n",
       " 'systemoverload': array(['get-remember-democratic-minute', 'reach-strong-man-art'],\n",
       "       dtype=object),\n",
       " 'tubaf_swe': array(['hear-current-main-right', 'live-foreign-past-life'], dtype=object),\n",
       " 'void': array(['expect-think-local-back', 'hear-important-poor-man'], dtype=object),\n",
       " 'wwwyoutubecomwatchvdqw4w9wgxcq': array(['grow-appear-long-teacher', 'stay-stand-real-week'], dtype=object),\n",
       " 'youllneverwalkalone': array(['grow-open-hour-area'], dtype=object)}"
      ]
     },
     "execution_count": 30,
     "metadata": {},
     "output_type": "execute_result"
    }
   ],
   "source": [
    "dict_teams"
   ]
  },
  {
   "cell_type": "code",
   "execution_count": 35,
   "id": "3f3467d7",
   "metadata": {},
   "outputs": [
    {
     "data": {
      "text/html": [
       "<div>\n",
       "<style scoped>\n",
       "    .dataframe tbody tr th:only-of-type {\n",
       "        vertical-align: middle;\n",
       "    }\n",
       "\n",
       "    .dataframe tbody tr th {\n",
       "        vertical-align: top;\n",
       "    }\n",
       "\n",
       "    .dataframe thead th {\n",
       "        text-align: right;\n",
       "    }\n",
       "</style>\n",
       "<table border=\"1\" class=\"dataframe\">\n",
       "  <thead>\n",
       "    <tr style=\"text-align: right;\">\n",
       "      <th>authorID</th>\n",
       "      <th>Orga</th>\n",
       "      <th>author_A</th>\n",
       "      <th>author_B</th>\n",
       "    </tr>\n",
       "    <tr>\n",
       "      <th>team</th>\n",
       "      <th></th>\n",
       "      <th></th>\n",
       "      <th></th>\n",
       "    </tr>\n",
       "  </thead>\n",
       "  <tbody>\n",
       "    <tr>\n",
       "      <th>42</th>\n",
       "      <td>[startYourImplementationHere, README.md, team....</td>\n",
       "      <td>[team.config, Program.cs]</td>\n",
       "      <td>[.gitignore, Aufgabe_2.csproj, Program.cs, Auf...</td>\n",
       "    </tr>\n",
       "    <tr>\n",
       "      <th>_blank_</th>\n",
       "      <td>[startYourImplementationHere, README.md, team....</td>\n",
       "      <td>[.gitignore]</td>\n",
       "      <td>[team.config]</td>\n",
       "    </tr>\n",
       "    <tr>\n",
       "      <th>aufgabe3</th>\n",
       "      <td>[startYourImplementationHere, README.md, team....</td>\n",
       "      <td>[README.md, Aufgabe_05, startYourImplementatio...</td>\n",
       "      <td>NaN</td>\n",
       "    </tr>\n",
       "    <tr>\n",
       "      <th>computerministers</th>\n",
       "      <td>[team.config, startYourImplementationHere, REA...</td>\n",
       "      <td>[Aufgabe_1.csproj, Program.cs, startYourImplem...</td>\n",
       "      <td>NaN</td>\n",
       "    </tr>\n",
       "    <tr>\n",
       "      <th>hier_kreativen_namen_einfugen</th>\n",
       "      <td>[startYourImplementationHere, README.md, team....</td>\n",
       "      <td>[team.config, .gitignore, Aufgabe_1.csproj, Pr...</td>\n",
       "      <td>[.gitignore, Aufgabe_2.csproj, Program.cs]</td>\n",
       "    </tr>\n",
       "    <tr>\n",
       "      <th>ichhabkeinteam</th>\n",
       "      <td>[Aufgabe_1.csproj, Program.cs, startYourImplem...</td>\n",
       "      <td>[team.config]</td>\n",
       "      <td>[launch.json, tasks.json, Aufgabe1.code-worksp...</td>\n",
       "    </tr>\n",
       "    <tr>\n",
       "      <th>irgendwas</th>\n",
       "      <td>[startYourImplementationHere, README.md, team....</td>\n",
       "      <td>[team.config, .gitignore, A5-2.csproj, Program...</td>\n",
       "      <td>[team.config, Aufgabe_1.cs, Aufgabe_1_v2.cs]</td>\n",
       "    </tr>\n",
       "    <tr>\n",
       "      <th>linux</th>\n",
       "      <td>[startYourImplementationHere, README.md, team....</td>\n",
       "      <td>[Helm.cs, Helmtiger.cs, Program.cs, Tiger.cs, ...</td>\n",
       "      <td>NaN</td>\n",
       "    </tr>\n",
       "    <tr>\n",
       "      <th>nobodyexpectsthespanishinquisition</th>\n",
       "      <td>[startYourImplementationHere, README.md, team....</td>\n",
       "      <td>[team.config]</td>\n",
       "      <td>[team.config]</td>\n",
       "    </tr>\n",
       "    <tr>\n",
       "      <th>plantpoweredprogrammers</th>\n",
       "      <td>[startYourImplementationHere, README.md, team....</td>\n",
       "      <td>[aufgabe1-2, aufgabe1-2.cs]</td>\n",
       "      <td>[startYourImplementationHere]</td>\n",
       "    </tr>\n",
       "    <tr>\n",
       "      <th>poorgrammer</th>\n",
       "      <td>[startYourImplementationHere, startYourImpleme...</td>\n",
       "      <td>[.gitignore, startYourImplementationHere, star...</td>\n",
       "      <td>NaN</td>\n",
       "    </tr>\n",
       "    <tr>\n",
       "      <th>suppengrun</th>\n",
       "      <td>[startYourImplementationHere, README.md, team....</td>\n",
       "      <td>[team.config]</td>\n",
       "      <td>[team.config, Program.cs, .gitignore, Aufgabe_...</td>\n",
       "    </tr>\n",
       "    <tr>\n",
       "      <th>systemoverload</th>\n",
       "      <td>[.gitignore, startYourImplementationHere, READ...</td>\n",
       "      <td>[team.config]</td>\n",
       "      <td>[team.config]</td>\n",
       "    </tr>\n",
       "    <tr>\n",
       "      <th>tubaf_swe</th>\n",
       "      <td>[startYourImplementationHere, README.md, team....</td>\n",
       "      <td>[startYourImplementationHere, team.config]</td>\n",
       "      <td>[Schritt1.cs, Schritt2.cs]</td>\n",
       "    </tr>\n",
       "    <tr>\n",
       "      <th>void</th>\n",
       "      <td>[startYourImplementationHere, README.md, team....</td>\n",
       "      <td>[startYourImplementationHere, .gitignore, Aufg...</td>\n",
       "      <td>[Program.cs, Zahl.cs, Aufgabe_2.csproj]</td>\n",
       "    </tr>\n",
       "    <tr>\n",
       "      <th>wwwyoutubecomwatchvdqw4w9wgxcq</th>\n",
       "      <td>[startYourImplementationHere, README.md, team....</td>\n",
       "      <td>[team.config, Helm.cs, Helmtiger.cs, Tiger.cs,...</td>\n",
       "      <td>[team.config, Aufgabe2.cs, Aufgabe_2.Generated...</td>\n",
       "    </tr>\n",
       "    <tr>\n",
       "      <th>youllneverwalkalone</th>\n",
       "      <td>[startYourImplementationHere, README.md, team....</td>\n",
       "      <td>[team.config, tiger.cs]</td>\n",
       "      <td>NaN</td>\n",
       "    </tr>\n",
       "  </tbody>\n",
       "</table>\n",
       "</div>"
      ],
      "text/plain": [
       "authorID                                                                         Orga  \\\n",
       "team                                                                                    \n",
       "42                                  [startYourImplementationHere, README.md, team....   \n",
       "_blank_                             [startYourImplementationHere, README.md, team....   \n",
       "aufgabe3                            [startYourImplementationHere, README.md, team....   \n",
       "computerministers                   [team.config, startYourImplementationHere, REA...   \n",
       "hier_kreativen_namen_einfugen       [startYourImplementationHere, README.md, team....   \n",
       "ichhabkeinteam                      [Aufgabe_1.csproj, Program.cs, startYourImplem...   \n",
       "irgendwas                           [startYourImplementationHere, README.md, team....   \n",
       "linux                               [startYourImplementationHere, README.md, team....   \n",
       "nobodyexpectsthespanishinquisition  [startYourImplementationHere, README.md, team....   \n",
       "plantpoweredprogrammers             [startYourImplementationHere, README.md, team....   \n",
       "poorgrammer                         [startYourImplementationHere, startYourImpleme...   \n",
       "suppengrun                          [startYourImplementationHere, README.md, team....   \n",
       "systemoverload                      [.gitignore, startYourImplementationHere, READ...   \n",
       "tubaf_swe                           [startYourImplementationHere, README.md, team....   \n",
       "void                                [startYourImplementationHere, README.md, team....   \n",
       "wwwyoutubecomwatchvdqw4w9wgxcq      [startYourImplementationHere, README.md, team....   \n",
       "youllneverwalkalone                 [startYourImplementationHere, README.md, team....   \n",
       "\n",
       "authorID                                                                     author_A  \\\n",
       "team                                                                                    \n",
       "42                                                          [team.config, Program.cs]   \n",
       "_blank_                                                                  [.gitignore]   \n",
       "aufgabe3                            [README.md, Aufgabe_05, startYourImplementatio...   \n",
       "computerministers                   [Aufgabe_1.csproj, Program.cs, startYourImplem...   \n",
       "hier_kreativen_namen_einfugen       [team.config, .gitignore, Aufgabe_1.csproj, Pr...   \n",
       "ichhabkeinteam                                                          [team.config]   \n",
       "irgendwas                           [team.config, .gitignore, A5-2.csproj, Program...   \n",
       "linux                               [Helm.cs, Helmtiger.cs, Program.cs, Tiger.cs, ...   \n",
       "nobodyexpectsthespanishinquisition                                      [team.config]   \n",
       "plantpoweredprogrammers                                   [aufgabe1-2, aufgabe1-2.cs]   \n",
       "poorgrammer                         [.gitignore, startYourImplementationHere, star...   \n",
       "suppengrun                                                              [team.config]   \n",
       "systemoverload                                                          [team.config]   \n",
       "tubaf_swe                                  [startYourImplementationHere, team.config]   \n",
       "void                                [startYourImplementationHere, .gitignore, Aufg...   \n",
       "wwwyoutubecomwatchvdqw4w9wgxcq      [team.config, Helm.cs, Helmtiger.cs, Tiger.cs,...   \n",
       "youllneverwalkalone                                           [team.config, tiger.cs]   \n",
       "\n",
       "authorID                                                                     author_B  \n",
       "team                                                                                   \n",
       "42                                  [.gitignore, Aufgabe_2.csproj, Program.cs, Auf...  \n",
       "_blank_                                                                 [team.config]  \n",
       "aufgabe3                                                                          NaN  \n",
       "computerministers                                                                 NaN  \n",
       "hier_kreativen_namen_einfugen              [.gitignore, Aufgabe_2.csproj, Program.cs]  \n",
       "ichhabkeinteam                      [launch.json, tasks.json, Aufgabe1.code-worksp...  \n",
       "irgendwas                                [team.config, Aufgabe_1.cs, Aufgabe_1_v2.cs]  \n",
       "linux                                                                             NaN  \n",
       "nobodyexpectsthespanishinquisition                                      [team.config]  \n",
       "plantpoweredprogrammers                                 [startYourImplementationHere]  \n",
       "poorgrammer                                                                       NaN  \n",
       "suppengrun                          [team.config, Program.cs, .gitignore, Aufgabe_...  \n",
       "systemoverload                                                          [team.config]  \n",
       "tubaf_swe                                                  [Schritt1.cs, Schritt2.cs]  \n",
       "void                                          [Program.cs, Zahl.cs, Aufgabe_2.csproj]  \n",
       "wwwyoutubecomwatchvdqw4w9wgxcq      [team.config, Aufgabe2.cs, Aufgabe_2.Generated...  \n",
       "youllneverwalkalone                                                               NaN  "
      ]
     },
     "execution_count": 35,
     "metadata": {},
     "output_type": "execute_result"
    }
   ],
   "source": [
    "df_files = df[df.role != \"github\"].groupby(['team', 'author']).filename.unique().to_frame()\n",
    "df_files_separated = pd.DataFrame(df_files.to_records(),\n",
    "                                  columns=df_files.index.names + list(df_files.columns))\n",
    "\n",
    "count = 0\n",
    "authors_list =  ['author_A', 'author_B']\n",
    "df['authorID'] = \"Orga\"\n",
    "for index, row in df[df.role != \"github\"].iterrows():\n",
    "    members = dict_teams[row.team]\n",
    "    if row.author in members:\n",
    "        idx = list(members).index(row.author)\n",
    "        df.at[index, 'authorID'] = authors_list[idx]\n",
    "\n",
    "pdResults = df.groupby(['team', 'authorID']).filename.unique().unstack()\n",
    "pdResults"
   ]
  },
  {
   "cell_type": "code",
   "execution_count": 36,
   "id": "41f494e4",
   "metadata": {},
   "outputs": [],
   "source": [
    "pdResults['CollaborationRatio'] = 0\n",
    "for index, row in pdResults.iterrows():\n",
    "    if (not isinstance(row.author_A,float)):\n",
    "        A_files = list(row.author_A)\n",
    "    else:\n",
    "        A_files = []\n",
    "    if (not isinstance(row.author_B,float)):\n",
    "        B_files = list(row.author_B)\n",
    "    else:\n",
    "        B_files = []\n",
    "    \n",
    "    if A_files and B_files:\n",
    "        all_files = set(A_files) | set(B_files)\n",
    "    if A_files and not B_files:\n",
    "        all_files = set(A_files)\n",
    "    if not A_files and B_files:\n",
    "        all_files = set(B_files)\n",
    "\n",
    "    pdResults.at[index, 'CollaborationRatio'] = len(set(A_files) & set(B_files)) / len(all_files)"
   ]
  },
  {
   "cell_type": "code",
   "execution_count": 37,
   "id": "b9fc01c6",
   "metadata": {},
   "outputs": [
    {
     "data": {
      "text/html": [
       "<div>\n",
       "<style scoped>\n",
       "    .dataframe tbody tr th:only-of-type {\n",
       "        vertical-align: middle;\n",
       "    }\n",
       "\n",
       "    .dataframe tbody tr th {\n",
       "        vertical-align: top;\n",
       "    }\n",
       "\n",
       "    .dataframe thead th {\n",
       "        text-align: right;\n",
       "    }\n",
       "</style>\n",
       "<table border=\"1\" class=\"dataframe\">\n",
       "  <thead>\n",
       "    <tr style=\"text-align: right;\">\n",
       "      <th>authorID</th>\n",
       "      <th>team</th>\n",
       "      <th>Orga</th>\n",
       "      <th>author_A</th>\n",
       "      <th>author_B</th>\n",
       "      <th>CollaborationRatio</th>\n",
       "    </tr>\n",
       "  </thead>\n",
       "  <tbody>\n",
       "    <tr>\n",
       "      <th>0</th>\n",
       "      <td>`42`</td>\n",
       "      <td>[startYourImplementationHere, README.md, team....</td>\n",
       "      <td>[team.config, Program.cs]</td>\n",
       "      <td>[.gitignore, Aufgabe_2.csproj, Program.cs, Auf...</td>\n",
       "      <td>0.100000</td>\n",
       "    </tr>\n",
       "    <tr>\n",
       "      <th>1</th>\n",
       "      <td>`_blank_`</td>\n",
       "      <td>[startYourImplementationHere, README.md, team....</td>\n",
       "      <td>[.gitignore]</td>\n",
       "      <td>[team.config]</td>\n",
       "      <td>0.000000</td>\n",
       "    </tr>\n",
       "    <tr>\n",
       "      <th>2</th>\n",
       "      <td>`aufgabe3`</td>\n",
       "      <td>[startYourImplementationHere, README.md, team....</td>\n",
       "      <td>[README.md, Aufgabe_05, startYourImplementatio...</td>\n",
       "      <td>NaN</td>\n",
       "      <td>0.000000</td>\n",
       "    </tr>\n",
       "    <tr>\n",
       "      <th>3</th>\n",
       "      <td>`computerministers`</td>\n",
       "      <td>[team.config, startYourImplementationHere, REA...</td>\n",
       "      <td>[Aufgabe_1.csproj, Program.cs, startYourImplem...</td>\n",
       "      <td>NaN</td>\n",
       "      <td>0.000000</td>\n",
       "    </tr>\n",
       "    <tr>\n",
       "      <th>4</th>\n",
       "      <td>`hier_kreativen_namen_einfugen`</td>\n",
       "      <td>[startYourImplementationHere, README.md, team....</td>\n",
       "      <td>[team.config, .gitignore, Aufgabe_1.csproj, Pr...</td>\n",
       "      <td>[.gitignore, Aufgabe_2.csproj, Program.cs]</td>\n",
       "      <td>0.400000</td>\n",
       "    </tr>\n",
       "    <tr>\n",
       "      <th>5</th>\n",
       "      <td>`ichhabkeinteam`</td>\n",
       "      <td>[Aufgabe_1.csproj, Program.cs, startYourImplem...</td>\n",
       "      <td>[team.config]</td>\n",
       "      <td>[launch.json, tasks.json, Aufgabe1.code-worksp...</td>\n",
       "      <td>0.000000</td>\n",
       "    </tr>\n",
       "    <tr>\n",
       "      <th>6</th>\n",
       "      <td>`irgendwas`</td>\n",
       "      <td>[startYourImplementationHere, README.md, team....</td>\n",
       "      <td>[team.config, .gitignore, A5-2.csproj, Program...</td>\n",
       "      <td>[team.config, Aufgabe_1.cs, Aufgabe_1_v2.cs]</td>\n",
       "      <td>0.285714</td>\n",
       "    </tr>\n",
       "    <tr>\n",
       "      <th>7</th>\n",
       "      <td>`linux`</td>\n",
       "      <td>[startYourImplementationHere, README.md, team....</td>\n",
       "      <td>[Helm.cs, Helmtiger.cs, Program.cs, Tiger.cs, ...</td>\n",
       "      <td>NaN</td>\n",
       "      <td>0.000000</td>\n",
       "    </tr>\n",
       "    <tr>\n",
       "      <th>8</th>\n",
       "      <td>`nobodyexpectsthespanishinquisition`</td>\n",
       "      <td>[startYourImplementationHere, README.md, team....</td>\n",
       "      <td>[team.config]</td>\n",
       "      <td>[team.config]</td>\n",
       "      <td>1.000000</td>\n",
       "    </tr>\n",
       "    <tr>\n",
       "      <th>9</th>\n",
       "      <td>`plantpoweredprogrammers`</td>\n",
       "      <td>[startYourImplementationHere, README.md, team....</td>\n",
       "      <td>[aufgabe1-2, aufgabe1-2.cs]</td>\n",
       "      <td>[startYourImplementationHere]</td>\n",
       "      <td>0.000000</td>\n",
       "    </tr>\n",
       "    <tr>\n",
       "      <th>10</th>\n",
       "      <td>`poorgrammer`</td>\n",
       "      <td>[startYourImplementationHere, startYourImpleme...</td>\n",
       "      <td>[.gitignore, startYourImplementationHere, star...</td>\n",
       "      <td>NaN</td>\n",
       "      <td>0.000000</td>\n",
       "    </tr>\n",
       "    <tr>\n",
       "      <th>11</th>\n",
       "      <td>`suppengrun`</td>\n",
       "      <td>[startYourImplementationHere, README.md, team....</td>\n",
       "      <td>[team.config]</td>\n",
       "      <td>[team.config, Program.cs, .gitignore, Aufgabe_...</td>\n",
       "      <td>0.038462</td>\n",
       "    </tr>\n",
       "    <tr>\n",
       "      <th>12</th>\n",
       "      <td>`systemoverload`</td>\n",
       "      <td>[.gitignore, startYourImplementationHere, READ...</td>\n",
       "      <td>[team.config]</td>\n",
       "      <td>[team.config]</td>\n",
       "      <td>1.000000</td>\n",
       "    </tr>\n",
       "    <tr>\n",
       "      <th>13</th>\n",
       "      <td>`tubaf_swe`</td>\n",
       "      <td>[startYourImplementationHere, README.md, team....</td>\n",
       "      <td>[startYourImplementationHere, team.config]</td>\n",
       "      <td>[Schritt1.cs, Schritt2.cs]</td>\n",
       "      <td>0.000000</td>\n",
       "    </tr>\n",
       "    <tr>\n",
       "      <th>14</th>\n",
       "      <td>`void`</td>\n",
       "      <td>[startYourImplementationHere, README.md, team....</td>\n",
       "      <td>[startYourImplementationHere, .gitignore, Aufg...</td>\n",
       "      <td>[Program.cs, Zahl.cs, Aufgabe_2.csproj]</td>\n",
       "      <td>0.200000</td>\n",
       "    </tr>\n",
       "    <tr>\n",
       "      <th>15</th>\n",
       "      <td>`wwwyoutubecomwatchvdqw4w9wgxcq`</td>\n",
       "      <td>[startYourImplementationHere, README.md, team....</td>\n",
       "      <td>[team.config, Helm.cs, Helmtiger.cs, Tiger.cs,...</td>\n",
       "      <td>[team.config, Aufgabe2.cs, Aufgabe_2.Generated...</td>\n",
       "      <td>0.300000</td>\n",
       "    </tr>\n",
       "    <tr>\n",
       "      <th>16</th>\n",
       "      <td>`youllneverwalkalone`</td>\n",
       "      <td>[startYourImplementationHere, README.md, team....</td>\n",
       "      <td>[team.config, tiger.cs]</td>\n",
       "      <td>NaN</td>\n",
       "      <td>0.000000</td>\n",
       "    </tr>\n",
       "  </tbody>\n",
       "</table>\n",
       "</div>"
      ],
      "text/plain": [
       "authorID                                  team  \\\n",
       "0                                         `42`   \n",
       "1                                    `_blank_`   \n",
       "2                                   `aufgabe3`   \n",
       "3                          `computerministers`   \n",
       "4              `hier_kreativen_namen_einfugen`   \n",
       "5                             `ichhabkeinteam`   \n",
       "6                                  `irgendwas`   \n",
       "7                                      `linux`   \n",
       "8         `nobodyexpectsthespanishinquisition`   \n",
       "9                    `plantpoweredprogrammers`   \n",
       "10                               `poorgrammer`   \n",
       "11                                `suppengrun`   \n",
       "12                            `systemoverload`   \n",
       "13                                 `tubaf_swe`   \n",
       "14                                      `void`   \n",
       "15            `wwwyoutubecomwatchvdqw4w9wgxcq`   \n",
       "16                       `youllneverwalkalone`   \n",
       "\n",
       "authorID                                               Orga  \\\n",
       "0         [startYourImplementationHere, README.md, team....   \n",
       "1         [startYourImplementationHere, README.md, team....   \n",
       "2         [startYourImplementationHere, README.md, team....   \n",
       "3         [team.config, startYourImplementationHere, REA...   \n",
       "4         [startYourImplementationHere, README.md, team....   \n",
       "5         [Aufgabe_1.csproj, Program.cs, startYourImplem...   \n",
       "6         [startYourImplementationHere, README.md, team....   \n",
       "7         [startYourImplementationHere, README.md, team....   \n",
       "8         [startYourImplementationHere, README.md, team....   \n",
       "9         [startYourImplementationHere, README.md, team....   \n",
       "10        [startYourImplementationHere, startYourImpleme...   \n",
       "11        [startYourImplementationHere, README.md, team....   \n",
       "12        [.gitignore, startYourImplementationHere, READ...   \n",
       "13        [startYourImplementationHere, README.md, team....   \n",
       "14        [startYourImplementationHere, README.md, team....   \n",
       "15        [startYourImplementationHere, README.md, team....   \n",
       "16        [startYourImplementationHere, README.md, team....   \n",
       "\n",
       "authorID                                           author_A  \\\n",
       "0                                 [team.config, Program.cs]   \n",
       "1                                              [.gitignore]   \n",
       "2         [README.md, Aufgabe_05, startYourImplementatio...   \n",
       "3         [Aufgabe_1.csproj, Program.cs, startYourImplem...   \n",
       "4         [team.config, .gitignore, Aufgabe_1.csproj, Pr...   \n",
       "5                                             [team.config]   \n",
       "6         [team.config, .gitignore, A5-2.csproj, Program...   \n",
       "7         [Helm.cs, Helmtiger.cs, Program.cs, Tiger.cs, ...   \n",
       "8                                             [team.config]   \n",
       "9                               [aufgabe1-2, aufgabe1-2.cs]   \n",
       "10        [.gitignore, startYourImplementationHere, star...   \n",
       "11                                            [team.config]   \n",
       "12                                            [team.config]   \n",
       "13               [startYourImplementationHere, team.config]   \n",
       "14        [startYourImplementationHere, .gitignore, Aufg...   \n",
       "15        [team.config, Helm.cs, Helmtiger.cs, Tiger.cs,...   \n",
       "16                                  [team.config, tiger.cs]   \n",
       "\n",
       "authorID                                           author_B  \\\n",
       "0         [.gitignore, Aufgabe_2.csproj, Program.cs, Auf...   \n",
       "1                                             [team.config]   \n",
       "2                                                       NaN   \n",
       "3                                                       NaN   \n",
       "4                [.gitignore, Aufgabe_2.csproj, Program.cs]   \n",
       "5         [launch.json, tasks.json, Aufgabe1.code-worksp...   \n",
       "6              [team.config, Aufgabe_1.cs, Aufgabe_1_v2.cs]   \n",
       "7                                                       NaN   \n",
       "8                                             [team.config]   \n",
       "9                             [startYourImplementationHere]   \n",
       "10                                                      NaN   \n",
       "11        [team.config, Program.cs, .gitignore, Aufgabe_...   \n",
       "12                                            [team.config]   \n",
       "13                               [Schritt1.cs, Schritt2.cs]   \n",
       "14                  [Program.cs, Zahl.cs, Aufgabe_2.csproj]   \n",
       "15        [team.config, Aufgabe2.cs, Aufgabe_2.Generated...   \n",
       "16                                                      NaN   \n",
       "\n",
       "authorID  CollaborationRatio  \n",
       "0                   0.100000  \n",
       "1                   0.000000  \n",
       "2                   0.000000  \n",
       "3                   0.000000  \n",
       "4                   0.400000  \n",
       "5                   0.000000  \n",
       "6                   0.285714  \n",
       "7                   0.000000  \n",
       "8                   1.000000  \n",
       "9                   0.000000  \n",
       "10                  0.000000  \n",
       "11                  0.038462  \n",
       "12                  1.000000  \n",
       "13                  0.000000  \n",
       "14                  0.200000  \n",
       "15                  0.300000  \n",
       "16                  0.000000  "
      ]
     },
     "execution_count": 37,
     "metadata": {},
     "output_type": "execute_result"
    }
   ],
   "source": [
    "pdResults.reset_index(inplace=True)\n",
    "pdResults['team'] = \"`\" + pdResults['team'] + \"`\" \n",
    "pdResults"
   ]
  },
  {
   "cell_type": "code",
   "execution_count": 38,
   "id": "94dda1a6",
   "metadata": {
    "execution": {
     "iopub.execute_input": "2021-06-24T14:58:21.327619Z",
     "iopub.status.busy": "2021-06-24T14:58:21.327239Z",
     "iopub.status.idle": "2021-06-24T14:58:21.337719Z",
     "shell.execute_reply": "2021-06-24T14:58:21.338042Z"
    }
   },
   "outputs": [],
   "source": [
    "with open(result_folder + result_file_name + '.txt', 'w') as f:\n",
    "    f.write(pdResults[['team', 'author_A', 'author_B', 'CollaborationRatio']].to_markdown())"
   ]
  },
  {
   "cell_type": "code",
   "execution_count": null,
   "id": "c865d004",
   "metadata": {},
   "outputs": [],
   "source": []
  }
 ],
 "metadata": {
  "interpreter": {
   "hash": "cab5110823f2123256dd3865d0cc139994b41dbc253d281a2185f480080b4372"
  },
  "kernelspec": {
   "display_name": "Python 3.9.12 ('GitHubClassroomTutorFeedback-0MA8VVWg')",
   "language": "python",
   "name": "python3"
  },
  "language_info": {
   "codemirror_mode": {
    "name": "ipython",
    "version": 3
   },
   "file_extension": ".py",
   "mimetype": "text/x-python",
   "name": "python",
   "nbconvert_exporter": "python",
   "pygments_lexer": "ipython3",
   "version": "3.9.13"
  }
 },
 "nbformat": 4,
 "nbformat_minor": 5
}
