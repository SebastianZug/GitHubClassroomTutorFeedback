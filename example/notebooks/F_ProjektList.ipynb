{
 "cells": [
  {
   "cell_type": "markdown",
   "metadata": {},
   "source": [
    "# Feedback for tutors"
   ]
  },
  {
   "cell_type": "code",
   "execution_count": null,
   "metadata": {
    "execution": {
     "iopub.execute_input": "2021-06-24T14:58:24.190026Z",
     "iopub.status.busy": "2021-06-24T14:58:24.183697Z",
     "iopub.status.idle": "2021-06-24T14:58:24.856162Z",
     "shell.execute_reply": "2021-06-24T14:58:24.855785Z"
    }
   },
   "outputs": [],
   "source": [
    "from github2pandas.utility import Utility\n",
    "from pathlib import Path, PurePath\n",
    "import pandas as pd\n",
    "import os\n",
    "import sys\n",
    "sys.path.append(os.path.join(sys.path[0],'..','..','GithubActivities'))\n",
    "from DataHandling import DataManager\n",
    "from Aggregation import RawDataAggregator\n",
    "%load_ext autoreload\n",
    "%autoreload 2"
   ]
  },
  {
   "cell_type": "code",
   "execution_count": null,
   "metadata": {
    "execution": {
     "iopub.execute_input": "2021-06-24T14:58:24.858783Z",
     "iopub.status.busy": "2021-06-24T14:58:24.858434Z",
     "iopub.status.idle": "2021-06-24T14:58:24.869238Z",
     "shell.execute_reply": "2021-06-24T14:58:24.868935Z"
    }
   },
   "outputs": [],
   "source": [
    "path = PurePath(os.getcwd())\n",
    "if path.name == \"notebooks\":\n",
    "    print(os.getcwd())\n",
    "    os.chdir(\"../../\")\n",
    "    print(os.getcwd())"
   ]
  },
  {
   "cell_type": "code",
   "execution_count": null,
   "metadata": {
    "execution": {
     "iopub.execute_input": "2021-06-24T14:58:24.871831Z",
     "iopub.status.busy": "2021-06-24T14:58:24.871464Z",
     "iopub.status.idle": "2021-06-24T14:58:24.885213Z",
     "shell.execute_reply": "2021-06-24T14:58:24.885533Z"
    }
   },
   "outputs": [],
   "source": [
    "project_folder_name = \"./example/\"\n",
    "project_parameter_file = \"parameter.yml\"\n",
    "\n",
    "dm = DataManager(project_folder_name + project_parameter_file)\n",
    "dm.pro_conf.set_github_token(os.environ['EXT_TOKEN'])"
   ]
  },
  {
   "cell_type": "code",
   "execution_count": null,
   "metadata": {
    "execution": {
     "iopub.execute_input": "2021-06-24T14:58:24.887713Z",
     "iopub.status.busy": "2021-06-24T14:58:24.887363Z",
     "iopub.status.idle": "2021-06-24T14:58:24.897748Z",
     "shell.execute_reply": "2021-06-24T14:58:24.897352Z"
    }
   },
   "outputs": [],
   "source": [
    "result_folder = \"./example/notebooks/\"\n",
    "result_file_name = \"F_ProjektList\""
   ]
  },
  {
   "cell_type": "code",
   "execution_count": null,
   "metadata": {
    "execution": {
     "iopub.execute_input": "2021-06-24T14:58:24.900032Z",
     "iopub.status.busy": "2021-06-24T14:58:24.899657Z",
     "iopub.status.idle": "2021-06-24T14:58:28.084591Z",
     "shell.execute_reply": "2021-06-24T14:58:28.085407Z"
    }
   },
   "outputs": [],
   "source": [
    "rda = RawDataAggregator(dm)"
   ]
  },
  {
   "cell_type": "code",
   "execution_count": null,
   "metadata": {
    "execution": {
     "iopub.execute_input": "2021-06-24T14:58:28.093603Z",
     "iopub.status.busy": "2021-06-24T14:58:28.092598Z",
     "iopub.status.idle": "2021-06-24T14:58:28.114864Z",
     "shell.execute_reply": "2021-06-24T14:58:28.114141Z"
    }
   },
   "outputs": [],
   "source": [
    "def getTeamName(repo, datahandler=None):\n",
    "    repo_name = repo.full_name.split('/')[-1]\n",
    "    team_name = \"\".join(repo_name.split('-')[1:])\n",
    "    return team_name\n",
    "\n",
    "def getTaskName(repo, datahandler=None):\n",
    "    repo_name = repo.full_name.split('/')[-1]\n",
    "    return int(repo_name.split('_')[1].replace(\"aufgabe\", \"\"))"
   ]
  },
  {
   "cell_type": "code",
   "execution_count": null,
   "metadata": {
    "execution": {
     "iopub.execute_input": "2021-06-24T14:58:28.119194Z",
     "iopub.status.busy": "2021-06-24T14:58:28.118686Z",
     "iopub.status.idle": "2021-06-24T14:58:28.131697Z",
     "shell.execute_reply": "2021-06-24T14:58:28.131361Z"
    }
   },
   "outputs": [],
   "source": [
    "results = []\n",
    "\n",
    "for repo in rda.relevant_repos:\n",
    "    result = {}\n",
    "    result['Team name'] = getTeamName(repo)\n",
    "    result['Task nummer'] = getTaskName(repo)\n",
    "    result['Repository URL'] = f\"[Link]({repo.git_url})\"\n",
    "    results.append(result)\n",
    "\n",
    "pdResults = pd.DataFrame(results)"
   ]
  },
  {
   "cell_type": "code",
   "execution_count": null,
   "metadata": {
    "execution": {
     "iopub.execute_input": "2021-06-24T14:58:28.134085Z",
     "iopub.status.busy": "2021-06-24T14:58:28.133755Z",
     "iopub.status.idle": "2021-06-24T14:58:28.146167Z",
     "shell.execute_reply": "2021-06-24T14:58:28.145773Z"
    }
   },
   "outputs": [],
   "source": [
    "print(pdResults.to_markdown())"
   ]
  },
  {
   "cell_type": "code",
   "execution_count": null,
   "metadata": {
    "execution": {
     "iopub.execute_input": "2021-06-24T14:58:28.148601Z",
     "iopub.status.busy": "2021-06-24T14:58:28.148266Z",
     "iopub.status.idle": "2021-06-24T14:58:28.158730Z",
     "shell.execute_reply": "2021-06-24T14:58:28.158425Z"
    }
   },
   "outputs": [],
   "source": [
    "with open(result_folder + result_file_name + '.txt', 'w') as f:\n",
    "    f.write(pdResults.to_markdown())"
   ]
  },
  {
   "cell_type": "code",
   "execution_count": null,
   "metadata": {},
   "outputs": [],
   "source": []
  }
 ],
 "metadata": {
  "kernelspec": {
   "display_name": "Python 3.8.5 64-bit ('GitHubClassroomTutorFeedback-7zyloHGC': pipenv)",
   "name": "mygreatenv"
  },
  "language_info": {
   "codemirror_mode": {
    "name": "ipython",
    "version": 3
   },
   "file_extension": ".py",
   "mimetype": "text/x-python",
   "name": "python",
   "nbconvert_exporter": "python",
   "pygments_lexer": "ipython3",
   "version": "3.8.5"
  }
 },
 "nbformat": 4,
 "nbformat_minor": 5
}