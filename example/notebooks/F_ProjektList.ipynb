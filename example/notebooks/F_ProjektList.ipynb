{
 "cells": [
  {
   "cell_type": "markdown",
   "id": "ec7c47b2",
   "metadata": {},
   "source": [
    "# Generate team and repository list"
   ]
  },
  {
   "cell_type": "code",
   "execution_count": null,
   "id": "6b20f58f",
   "metadata": {},
   "outputs": [],
   "source": [
    "import pandas as pd\n",
    "from pathlib import Path, PurePath\n",
    "import os\n",
    "import sys"
   ]
  },
  {
   "cell_type": "code",
   "execution_count": null,
   "id": "0cbe3cbf",
   "metadata": {},
   "outputs": [],
   "source": [
    "from github2pandas_manager.config_parser import YAML_RequestDefinition\n",
    "import aux"
   ]
  },
  {
   "cell_type": "code",
   "execution_count": null,
   "id": "741ff6ad",
   "metadata": {},
   "outputs": [],
   "source": [
    "sys.path.append(os.path.join(sys.path[0],'..','..','FeedbackGeneration'))\n",
    "from DataHandler import DataHandler"
   ]
  },
  {
   "cell_type": "code",
   "execution_count": null,
   "id": "30b43f44",
   "metadata": {},
   "outputs": [],
   "source": [
    "%load_ext autoreload\n",
    "%autoreload 2"
   ]
  },
  {
   "cell_type": "code",
   "execution_count": null,
   "id": "a250546e",
   "metadata": {},
   "outputs": [],
   "source": [
    "result_folder = \"./example/notebooks/\"\n",
    "result_file_name = \"F_ProjectList\""
   ]
  },
  {
   "cell_type": "code",
   "execution_count": null,
   "id": "216afe25",
   "metadata": {},
   "outputs": [],
   "source": [
    "project_folder_name = \"../\"\n",
    "project_parameter_file = \"config.yml\""
   ]
  },
  {
   "cell_type": "code",
   "execution_count": null,
   "id": "0edfa5f1",
   "metadata": {},
   "outputs": [],
   "source": [
    "# Just for local testing purposes \n",
    "#project_folder_name = \"./example/\""
   ]
  },
  {
   "cell_type": "code",
   "execution_count": null,
   "id": "383f5a96",
   "metadata": {},
   "outputs": [],
   "source": [
    "request_params = YAML_RequestDefinition(project_folder_name+project_parameter_file)\n",
    "print(request_params.parameters.project_folder)"
   ]
  },
  {
   "cell_type": "code",
   "execution_count": null,
   "id": "cfa3386f",
   "metadata": {},
   "outputs": [],
   "source": [
    "path = PurePath(os.getcwd())\n",
    "if path.name == \"notebooks\":\n",
    "    print(os.getcwd())\n",
    "    os.chdir(\"../../\")\n",
    "    print(os.getcwd())"
   ]
  },
  {
   "cell_type": "code",
   "execution_count": null,
   "id": "974fedc7",
   "metadata": {},
   "outputs": [],
   "source": [
    "dh = DataHandler(request_params.parameters.project_folder)"
   ]
  },
  {
   "cell_type": "code",
   "execution_count": null,
   "id": "c058f0c7",
   "metadata": {
    "execution": {
     "iopub.execute_input": "2021-06-24T14:58:28.119194Z",
     "iopub.status.busy": "2021-06-24T14:58:28.118686Z",
     "iopub.status.idle": "2021-06-24T14:58:28.131697Z",
     "shell.execute_reply": "2021-06-24T14:58:28.131361Z"
    }
   },
   "outputs": [],
   "source": [
    "results = []\n",
    "\n",
    "for index, repo in dh.raw_pdRepositories.iterrows():\n",
    "    result = {}\n",
    "    result['Team name'] = aux.getTeamName(repo.repo_name)\n",
    "    result['Repository URL'] = f\"[Link]({repo.repo_html_url})\"\n",
    "    results.append(result)\n",
    "\n",
    "pdResults = pd.DataFrame(results)"
   ]
  },
  {
   "cell_type": "code",
   "execution_count": null,
   "id": "7a6623b5",
   "metadata": {
    "execution": {
     "iopub.execute_input": "2021-06-24T14:58:28.134085Z",
     "iopub.status.busy": "2021-06-24T14:58:28.133755Z",
     "iopub.status.idle": "2021-06-24T14:58:28.146167Z",
     "shell.execute_reply": "2021-06-24T14:58:28.145773Z"
    }
   },
   "outputs": [],
   "source": [
    "pdResults['Team name'] = \"`\" + pdResults['Team name'] + \"`\" \n",
    "print(pdResults.to_markdown())"
   ]
  },
  {
   "cell_type": "code",
   "execution_count": null,
   "id": "82003bb5",
   "metadata": {
    "execution": {
     "iopub.execute_input": "2021-06-24T14:58:28.148601Z",
     "iopub.status.busy": "2021-06-24T14:58:28.148266Z",
     "iopub.status.idle": "2021-06-24T14:58:28.158730Z",
     "shell.execute_reply": "2021-06-24T14:58:28.158425Z"
    }
   },
   "outputs": [],
   "source": [
    "with open(result_folder + result_file_name + '.txt', 'w') as f:\n",
    "    f.write(pdResults.to_markdown())"
   ]
  },
  {
   "cell_type": "code",
   "execution_count": null,
   "id": "7ff78c62",
   "metadata": {},
   "outputs": [],
   "source": []
  }
 ],
 "metadata": {
  "interpreter": {
   "hash": "cab5110823f2123256dd3865d0cc139994b41dbc253d281a2185f480080b4372"
  },
  "kernelspec": {
   "display_name": "Python 3.9.12 ('GitHubClassroomTutorFeedback-0MA8VVWg')",
   "language": "python",
   "name": "python3"
  },
  "language_info": {
   "codemirror_mode": {
    "name": "ipython",
    "version": 3
   },
   "file_extension": ".py",
   "mimetype": "text/x-python",
   "name": "python",
   "nbconvert_exporter": "python",
   "pygments_lexer": "ipython3",
   "version": "3.9.12"
  }
 },
 "nbformat": 4,
 "nbformat_minor": 5
}
