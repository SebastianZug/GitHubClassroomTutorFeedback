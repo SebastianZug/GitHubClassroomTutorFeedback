{
 "cells": [
  {
   "cell_type": "markdown",
   "id": "ec7c47b2",
   "metadata": {},
   "source": [
    "# Generate team and repository list"
   ]
  },
  {
   "cell_type": "code",
   "execution_count": 1,
   "id": "6b20f58f",
   "metadata": {
    "execution": {
     "iopub.execute_input": "2022-06-15T11:19:19.435937Z",
     "iopub.status.busy": "2022-06-15T11:19:19.435735Z",
     "iopub.status.idle": "2022-06-15T11:19:19.614185Z",
     "shell.execute_reply": "2022-06-15T11:19:19.613743Z"
    }
   },
   "outputs": [],
   "source": [
    "import pandas as pd\n",
    "from pathlib import Path, PurePath\n",
    "import os\n",
    "import sys"
   ]
  },
  {
   "cell_type": "code",
   "execution_count": 2,
   "id": "0cbe3cbf",
   "metadata": {
    "execution": {
     "iopub.execute_input": "2022-06-15T11:19:19.616500Z",
     "iopub.status.busy": "2022-06-15T11:19:19.616286Z",
     "iopub.status.idle": "2022-06-15T11:19:19.665121Z",
     "shell.execute_reply": "2022-06-15T11:19:19.664581Z"
    }
   },
   "outputs": [],
   "source": [
    "from github2pandas_manager.config_parser import YAML_RequestDefinition\n",
    "import aux"
   ]
  },
  {
   "cell_type": "code",
   "execution_count": 3,
   "id": "741ff6ad",
   "metadata": {
    "execution": {
     "iopub.execute_input": "2022-06-15T11:19:19.667381Z",
     "iopub.status.busy": "2022-06-15T11:19:19.667183Z",
     "iopub.status.idle": "2022-06-15T11:19:19.669802Z",
     "shell.execute_reply": "2022-06-15T11:19:19.669527Z"
    }
   },
   "outputs": [],
   "source": [
    "sys.path.append(os.path.join(sys.path[0],'..','..','FeedbackGeneration'))\n",
    "from DataHandler import DataHandler"
   ]
  },
  {
   "cell_type": "code",
   "execution_count": 4,
   "id": "30b43f44",
   "metadata": {
    "execution": {
     "iopub.execute_input": "2022-06-15T11:19:19.671453Z",
     "iopub.status.busy": "2022-06-15T11:19:19.671295Z",
     "iopub.status.idle": "2022-06-15T11:19:19.681179Z",
     "shell.execute_reply": "2022-06-15T11:19:19.680876Z"
    }
   },
   "outputs": [],
   "source": [
    "%load_ext autoreload\n",
    "%autoreload 2"
   ]
  },
  {
   "cell_type": "code",
   "execution_count": 5,
   "id": "a250546e",
   "metadata": {
    "execution": {
     "iopub.execute_input": "2022-06-15T11:19:19.682877Z",
     "iopub.status.busy": "2022-06-15T11:19:19.682721Z",
     "iopub.status.idle": "2022-06-15T11:19:19.690221Z",
     "shell.execute_reply": "2022-06-15T11:19:19.689922Z"
    }
   },
   "outputs": [],
   "source": [
    "result_folder = \"./example/notebooks/\"\n",
    "result_file_name = \"F_ProjectList\""
   ]
  },
  {
   "cell_type": "code",
   "execution_count": 6,
   "id": "216afe25",
   "metadata": {
    "execution": {
     "iopub.execute_input": "2022-06-15T11:19:19.691899Z",
     "iopub.status.busy": "2022-06-15T11:19:19.691782Z",
     "iopub.status.idle": "2022-06-15T11:19:19.699347Z",
     "shell.execute_reply": "2022-06-15T11:19:19.699014Z"
    }
   },
   "outputs": [],
   "source": [
    "project_folder_name = \"../\"\n",
    "project_parameter_file = \"config.yml\""
   ]
  },
  {
   "cell_type": "code",
   "execution_count": 7,
   "id": "0edfa5f1",
   "metadata": {
    "execution": {
     "iopub.execute_input": "2022-06-15T11:19:19.701197Z",
     "iopub.status.busy": "2022-06-15T11:19:19.701048Z",
     "iopub.status.idle": "2022-06-15T11:19:19.708469Z",
     "shell.execute_reply": "2022-06-15T11:19:19.708062Z"
    }
   },
   "outputs": [],
   "source": [
    "# Just for local testing purposes \n",
    "#project_folder_name = \"./example/\""
   ]
  },
  {
   "cell_type": "code",
   "execution_count": 8,
   "id": "383f5a96",
   "metadata": {
    "execution": {
     "iopub.execute_input": "2022-06-15T11:19:19.710715Z",
     "iopub.status.busy": "2022-06-15T11:19:19.710492Z",
     "iopub.status.idle": "2022-06-15T11:19:19.721286Z",
     "shell.execute_reply": "2022-06-15T11:19:19.720853Z"
    }
   },
   "outputs": [
    {
     "name": "stdout",
     "output_type": "stream",
     "text": [
      "./example/data/TaskExamples\n"
     ]
    }
   ],
   "source": [
    "request_params = YAML_RequestDefinition(project_folder_name+project_parameter_file)\n",
    "print(request_params.parameters.project_folder)"
   ]
  },
  {
   "cell_type": "code",
   "execution_count": 9,
   "id": "cfa3386f",
   "metadata": {
    "execution": {
     "iopub.execute_input": "2022-06-15T11:19:19.723035Z",
     "iopub.status.busy": "2022-06-15T11:19:19.722854Z",
     "iopub.status.idle": "2022-06-15T11:19:19.731426Z",
     "shell.execute_reply": "2022-06-15T11:19:19.731089Z"
    }
   },
   "outputs": [
    {
     "name": "stdout",
     "output_type": "stream",
     "text": [
      "/home/zug/Desktop/github2pandas/GitHubClassroomTutorFeedback/example/notebooks\n",
      "/home/zug/Desktop/github2pandas/GitHubClassroomTutorFeedback\n"
     ]
    }
   ],
   "source": [
    "path = PurePath(os.getcwd())\n",
    "if path.name == \"notebooks\":\n",
    "    print(os.getcwd())\n",
    "    os.chdir(\"../../\")\n",
    "    print(os.getcwd())"
   ]
  },
  {
   "cell_type": "code",
   "execution_count": 10,
   "id": "974fedc7",
   "metadata": {
    "execution": {
     "iopub.execute_input": "2022-06-15T11:19:19.732957Z",
     "iopub.status.busy": "2022-06-15T11:19:19.732810Z",
     "iopub.status.idle": "2022-06-15T11:19:19.745932Z",
     "shell.execute_reply": "2022-06-15T11:19:19.745533Z"
    }
   },
   "outputs": [
    {
     "name": "stdout",
     "output_type": "stream",
     "text": [
      "example/data/TaskExamples\n"
     ]
    }
   ],
   "source": [
    "dh = DataHandler(request_params.parameters.project_folder)"
   ]
  },
  {
   "cell_type": "code",
   "execution_count": 11,
   "id": "c058f0c7",
   "metadata": {
    "execution": {
     "iopub.execute_input": "2022-06-15T11:19:19.747672Z",
     "iopub.status.busy": "2022-06-15T11:19:19.747511Z",
     "iopub.status.idle": "2022-06-15T11:19:19.757507Z",
     "shell.execute_reply": "2022-06-15T11:19:19.757162Z"
    }
   },
   "outputs": [],
   "source": [
    "results = []\n",
    "\n",
    "for index, repo in dh.raw_pdRepositories.iterrows():\n",
    "    result = {}\n",
    "    result['Team name'] = aux.getTeamName(repo.repo_name)\n",
    "    result['Repository URL'] = f\"[Link]({repo.repo_html_url})\"\n",
    "    results.append(result)\n",
    "\n",
    "pdResults = pd.DataFrame(results)"
   ]
  },
  {
   "cell_type": "code",
   "execution_count": 12,
   "id": "7a6623b5",
   "metadata": {
    "execution": {
     "iopub.execute_input": "2022-06-15T11:19:19.759310Z",
     "iopub.status.busy": "2022-06-15T11:19:19.759142Z",
     "iopub.status.idle": "2022-06-15T11:19:19.770670Z",
     "shell.execute_reply": "2022-06-15T11:19:19.770326Z"
    }
   },
   "outputs": [
    {
     "name": "stdout",
     "output_type": "stream",
     "text": [
      "|    | Team name                            | Repository URL                                                                                                                           |\n",
      "|---:|:-------------------------------------|:-----------------------------------------------------------------------------------------------------------------------------------------|\n",
      "|  0 | `42`                                 | [Link](https://github.com/Ifi-Softwareentwicklung-SoSe2022/softwareentwicklung_aufgabe6_sose2022-42)                                     |\n",
      "|  1 | `aufgabe3`                           | [Link](https://github.com/Ifi-Softwareentwicklung-SoSe2022/softwareentwicklung_aufgabe6_sose2022-aufgabe-3)                              |\n",
      "|  2 | `computerministers`                  | [Link](https://github.com/Ifi-Softwareentwicklung-SoSe2022/softwareentwicklung_aufgabe6_sose2022-computer-ministers)                     |\n",
      "|  3 | `ichhabkeinteam`                     | [Link](https://github.com/Ifi-Softwareentwicklung-SoSe2022/softwareentwicklung_aufgabe6_sose2022-ich-hab-kein-team)                      |\n",
      "|  4 | `irgendwas`                          | [Link](https://github.com/Ifi-Softwareentwicklung-SoSe2022/softwareentwicklung_aufgabe6_sose2022-irgendwas)                              |\n",
      "|  5 | `linux`                              | [Link](https://github.com/Ifi-Softwareentwicklung-SoSe2022/softwareentwicklung_aufgabe6_sose2022-linux)                                  |\n",
      "|  6 | `nobodyexpectsthespanishinquisition` | [Link](https://github.com/Ifi-Softwareentwicklung-SoSe2022/softwareentwicklung_aufgabe6_sose2022-nobody-expects-the-spanish-inquisition) |\n",
      "|  7 | `plantpoweredprogrammers`            | [Link](https://github.com/Ifi-Softwareentwicklung-SoSe2022/softwareentwicklung_aufgabe6_sose2022-plantpoweredprogrammers)                |\n",
      "|  8 | `poorgrammer`                        | [Link](https://github.com/Ifi-Softwareentwicklung-SoSe2022/softwareentwicklung_aufgabe6_sose2022-poorgrammer)                            |\n",
      "|  9 | `suppengrun`                         | [Link](https://github.com/Ifi-Softwareentwicklung-SoSe2022/softwareentwicklung_aufgabe6_sose2022-suppengrun)                             |\n",
      "| 10 | `systemoverload`                     | [Link](https://github.com/Ifi-Softwareentwicklung-SoSe2022/softwareentwicklung_aufgabe6_sose2022-systemoverload)                         |\n",
      "| 11 | `tubaf_swe`                          | [Link](https://github.com/Ifi-Softwareentwicklung-SoSe2022/softwareentwicklung_aufgabe6_sose2022-tubaf_swe)                              |\n",
      "| 12 | `void`                               | [Link](https://github.com/Ifi-Softwareentwicklung-SoSe2022/softwareentwicklung_aufgabe6_sose2022-void)                                   |\n",
      "| 13 | `wwwyoutubecomwatchvdqw4w9wgxcq`     | [Link](https://github.com/Ifi-Softwareentwicklung-SoSe2022/softwareentwicklung_aufgabe6_sose2022-www-youtube-com-watch-v-dqw4w9wgxcq)    |\n"
     ]
    }
   ],
   "source": [
    "pdResults['Team name'] = \"`\" + pdResults['Team name'] + \"`\" \n",
    "print(pdResults.to_markdown())"
   ]
  },
  {
   "cell_type": "code",
   "execution_count": 13,
   "id": "82003bb5",
   "metadata": {
    "execution": {
     "iopub.execute_input": "2022-06-15T11:19:19.772271Z",
     "iopub.status.busy": "2022-06-15T11:19:19.772149Z",
     "iopub.status.idle": "2022-06-15T11:19:19.781359Z",
     "shell.execute_reply": "2022-06-15T11:19:19.781053Z"
    }
   },
   "outputs": [],
   "source": [
    "with open(result_folder + result_file_name + '.txt', 'w') as f:\n",
    "    f.write(pdResults.to_markdown())"
   ]
  },
  {
   "cell_type": "code",
   "execution_count": null,
   "id": "7ff78c62",
   "metadata": {},
   "outputs": [],
   "source": []
  }
 ],
 "metadata": {
  "interpreter": {
   "hash": "cab5110823f2123256dd3865d0cc139994b41dbc253d281a2185f480080b4372"
  },
  "kernelspec": {
   "display_name": "Python 3.9.12 ('GitHubClassroomTutorFeedback-0MA8VVWg')",
   "language": "python",
   "name": "python3"
  },
  "language_info": {
   "codemirror_mode": {
    "name": "ipython",
    "version": 3
   },
   "file_extension": ".py",
   "mimetype": "text/x-python",
   "name": "python",
   "nbconvert_exporter": "python",
   "pygments_lexer": "ipython3",
   "version": "3.9.13"
  }
 },
 "nbformat": 4,
 "nbformat_minor": 5
}
