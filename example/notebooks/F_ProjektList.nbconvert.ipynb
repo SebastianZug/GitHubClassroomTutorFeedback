{
 "cells": [
  {
   "cell_type": "markdown",
   "id": "ec7c47b2",
   "metadata": {},
   "source": [
    "# Generate team and repository list"
   ]
  },
  {
   "cell_type": "code",
   "execution_count": 1,
   "id": "6b20f58f",
   "metadata": {
    "execution": {
     "iopub.execute_input": "2021-12-12T19:02:29.586474Z",
     "iopub.status.busy": "2021-12-12T19:02:29.585600Z",
     "iopub.status.idle": "2021-12-12T19:02:29.900283Z",
     "shell.execute_reply": "2021-12-12T19:02:29.899419Z"
    }
   },
   "outputs": [],
   "source": [
    "import pandas as pd\n",
    "from pathlib import Path, PurePath\n",
    "import os\n",
    "import sys"
   ]
  },
  {
   "cell_type": "code",
   "execution_count": 2,
   "id": "0cbe3cbf",
   "metadata": {
    "execution": {
     "iopub.execute_input": "2021-12-12T19:02:29.904426Z",
     "iopub.status.busy": "2021-12-12T19:02:29.903718Z",
     "iopub.status.idle": "2021-12-12T19:02:29.992225Z",
     "shell.execute_reply": "2021-12-12T19:02:29.991841Z"
    }
   },
   "outputs": [],
   "source": [
    "from github2pandas_manager.config_parser import YAML_RequestDefinition\n",
    "import aux"
   ]
  },
  {
   "cell_type": "code",
   "execution_count": 3,
   "id": "741ff6ad",
   "metadata": {
    "execution": {
     "iopub.execute_input": "2021-12-12T19:02:29.996113Z",
     "iopub.status.busy": "2021-12-12T19:02:29.995577Z",
     "iopub.status.idle": "2021-12-12T19:02:29.997940Z",
     "shell.execute_reply": "2021-12-12T19:02:29.998358Z"
    }
   },
   "outputs": [],
   "source": [
    "sys.path.append(os.path.join(sys.path[0],'..','..','FeedbackGeneration'))\n",
    "from DataHandler import DataHandler"
   ]
  },
  {
   "cell_type": "code",
   "execution_count": 4,
   "id": "30b43f44",
   "metadata": {
    "execution": {
     "iopub.execute_input": "2021-12-12T19:02:30.002033Z",
     "iopub.status.busy": "2021-12-12T19:02:30.001622Z",
     "iopub.status.idle": "2021-12-12T19:02:30.012872Z",
     "shell.execute_reply": "2021-12-12T19:02:30.012537Z"
    }
   },
   "outputs": [],
   "source": [
    "%load_ext autoreload\n",
    "%autoreload 2"
   ]
  },
  {
   "cell_type": "code",
   "execution_count": 5,
   "id": "a250546e",
   "metadata": {
    "execution": {
     "iopub.execute_input": "2021-12-12T19:02:30.015599Z",
     "iopub.status.busy": "2021-12-12T19:02:30.015185Z",
     "iopub.status.idle": "2021-12-12T19:02:30.026015Z",
     "shell.execute_reply": "2021-12-12T19:02:30.025691Z"
    }
   },
   "outputs": [],
   "source": [
    "result_folder = \"./example/notebooks/\"\n",
    "result_file_name = \"F_ProjectList\""
   ]
  },
  {
   "cell_type": "code",
   "execution_count": 6,
   "id": "216afe25",
   "metadata": {
    "execution": {
     "iopub.execute_input": "2021-12-12T19:02:30.028682Z",
     "iopub.status.busy": "2021-12-12T19:02:30.028306Z",
     "iopub.status.idle": "2021-12-12T19:02:30.039195Z",
     "shell.execute_reply": "2021-12-12T19:02:30.038843Z"
    }
   },
   "outputs": [],
   "source": [
    "project_folder_name = \"../\"\n",
    "project_parameter_file = \"config.yml\""
   ]
  },
  {
   "cell_type": "code",
   "execution_count": 7,
   "id": "383f5a96",
   "metadata": {
    "execution": {
     "iopub.execute_input": "2021-12-12T19:02:30.041758Z",
     "iopub.status.busy": "2021-12-12T19:02:30.041383Z",
     "iopub.status.idle": "2021-12-12T19:02:30.053964Z",
     "shell.execute_reply": "2021-12-12T19:02:30.053620Z"
    }
   },
   "outputs": [
    {
     "name": "stdout",
     "output_type": "stream",
     "text": [
      "./example/data/programmingtask_1\n"
     ]
    }
   ],
   "source": [
    "request_params = YAML_RequestDefinition(project_folder_name+project_parameter_file)\n",
    "print(request_params.parameters.project_folder)"
   ]
  },
  {
   "cell_type": "code",
   "execution_count": 8,
   "id": "cfa3386f",
   "metadata": {
    "execution": {
     "iopub.execute_input": "2021-12-12T19:02:30.056640Z",
     "iopub.status.busy": "2021-12-12T19:02:30.056293Z",
     "iopub.status.idle": "2021-12-12T19:02:30.065770Z",
     "shell.execute_reply": "2021-12-12T19:02:30.065377Z"
    }
   },
   "outputs": [
    {
     "name": "stdout",
     "output_type": "stream",
     "text": [
      "/home/zug/Desktop/github2pandas/GitHubClassroomTutorFeedback/example/notebooks\n",
      "/home/zug/Desktop/github2pandas/GitHubClassroomTutorFeedback\n"
     ]
    }
   ],
   "source": [
    "path = PurePath(os.getcwd())\n",
    "if path.name == \"notebooks\":\n",
    "    print(os.getcwd())\n",
    "    os.chdir(\"../../\")\n",
    "    print(os.getcwd())"
   ]
  },
  {
   "cell_type": "code",
   "execution_count": 9,
   "id": "974fedc7",
   "metadata": {
    "execution": {
     "iopub.execute_input": "2021-12-12T19:02:30.068696Z",
     "iopub.status.busy": "2021-12-12T19:02:30.068158Z",
     "iopub.status.idle": "2021-12-12T19:02:30.082067Z",
     "shell.execute_reply": "2021-12-12T19:02:30.082517Z"
    }
   },
   "outputs": [
    {
     "name": "stdout",
     "output_type": "stream",
     "text": [
      "example/data/programmingtask_1\n"
     ]
    }
   ],
   "source": [
    "dh = DataHandler(request_params.parameters.project_folder)"
   ]
  },
  {
   "cell_type": "code",
   "execution_count": 10,
   "id": "c058f0c7",
   "metadata": {
    "execution": {
     "iopub.execute_input": "2021-12-12T19:02:30.086056Z",
     "iopub.status.busy": "2021-12-12T19:02:30.085716Z",
     "iopub.status.idle": "2021-12-12T19:02:30.101523Z",
     "shell.execute_reply": "2021-12-12T19:02:30.101104Z"
    }
   },
   "outputs": [],
   "source": [
    "results = []\n",
    "\n",
    "for index, repo in dh.raw_pdRepositories.iterrows():\n",
    "    result = {}\n",
    "    result['Team name'] = aux.getTeamName(repo.repo_name)\n",
    "    result['Repository URL'] = f\"[Link]({repo.repo_url})\"\n",
    "    results.append(result)\n",
    "\n",
    "pdResults = pd.DataFrame(results)"
   ]
  },
  {
   "cell_type": "code",
   "execution_count": 11,
   "id": "7a6623b5",
   "metadata": {
    "execution": {
     "iopub.execute_input": "2021-12-12T19:02:30.104324Z",
     "iopub.status.busy": "2021-12-12T19:02:30.103942Z",
     "iopub.status.idle": "2021-12-12T19:02:30.115178Z",
     "shell.execute_reply": "2021-12-12T19:02:30.115475Z"
    }
   },
   "outputs": [
    {
     "name": "stdout",
     "output_type": "stream",
     "text": [
      "|    | Team name    | Repository URL                                                                            |\n",
      "|---:|:-------------|:------------------------------------------------------------------------------------------|\n",
      "|  0 | mytestteam   | [Link](https://api.github.com/repos/GitHubClassroom-Demo/programmingtask_1-mytestteam)    |\n",
      "|  1 | teamavengers | [Link](https://api.github.com/repos/GitHubClassroom-Demo/programmingtask_1-team-avengers) |\n",
      "|  2 | teamovgu     | [Link](https://api.github.com/repos/GitHubClassroom-Demo/programmingtask_1-team-ovgu)     |\n",
      "|  3 | teamtuf      | [Link](https://api.github.com/repos/GitHubClassroom-Demo/programmingtask_1-teamtuf)       |\n"
     ]
    }
   ],
   "source": [
    "print(pdResults.to_markdown())"
   ]
  },
  {
   "cell_type": "code",
   "execution_count": 12,
   "id": "82003bb5",
   "metadata": {
    "execution": {
     "iopub.execute_input": "2021-12-12T19:02:30.119195Z",
     "iopub.status.busy": "2021-12-12T19:02:30.118679Z",
     "iopub.status.idle": "2021-12-12T19:02:30.128040Z",
     "shell.execute_reply": "2021-12-12T19:02:30.127744Z"
    }
   },
   "outputs": [],
   "source": [
    "with open(result_folder + result_file_name + '.txt', 'w') as f:\n",
    "    f.write(pdResults.to_markdown())"
   ]
  },
  {
   "cell_type": "code",
   "execution_count": null,
   "id": "7ff78c62",
   "metadata": {},
   "outputs": [],
   "source": []
  }
 ],
 "metadata": {
  "interpreter": {
   "hash": "852b30626ed1c88b825557bbda93916cf473cfb003deeedf2634510ad64a3932"
  },
  "kernelspec": {
   "display_name": "Python 3 (ipykernel)",
   "language": "python",
   "name": "python3"
  },
  "language_info": {
   "codemirror_mode": {
    "name": "ipython",
    "version": 3
   },
   "file_extension": ".py",
   "mimetype": "text/x-python",
   "name": "python",
   "nbconvert_exporter": "python",
   "pygments_lexer": "ipython3",
   "version": "3.8.10"
  }
 },
 "nbformat": 4,
 "nbformat_minor": 5
}
