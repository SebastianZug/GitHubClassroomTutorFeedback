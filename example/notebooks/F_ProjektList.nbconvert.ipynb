{
 "cells": [
  {
   "cell_type": "markdown",
   "id": "ec7c47b2",
   "metadata": {},
   "source": [
    "# Generate team and repository list"
   ]
  },
  {
   "cell_type": "code",
   "execution_count": 1,
   "id": "6b20f58f",
   "metadata": {
    "execution": {
     "iopub.execute_input": "2022-05-31T07:54:59.535073Z",
     "iopub.status.busy": "2022-05-31T07:54:59.534619Z",
     "iopub.status.idle": "2022-05-31T07:54:59.702389Z",
     "shell.execute_reply": "2022-05-31T07:54:59.701992Z"
    }
   },
   "outputs": [],
   "source": [
    "import pandas as pd\n",
    "from pathlib import Path, PurePath\n",
    "import os\n",
    "import sys"
   ]
  },
  {
   "cell_type": "code",
   "execution_count": 2,
   "id": "0cbe3cbf",
   "metadata": {
    "execution": {
     "iopub.execute_input": "2022-05-31T07:54:59.704641Z",
     "iopub.status.busy": "2022-05-31T07:54:59.704459Z",
     "iopub.status.idle": "2022-05-31T07:54:59.753097Z",
     "shell.execute_reply": "2022-05-31T07:54:59.752646Z"
    }
   },
   "outputs": [],
   "source": [
    "from github2pandas_manager.config_parser import YAML_RequestDefinition\n",
    "import aux"
   ]
  },
  {
   "cell_type": "code",
   "execution_count": 3,
   "id": "741ff6ad",
   "metadata": {
    "execution": {
     "iopub.execute_input": "2022-05-31T07:54:59.755241Z",
     "iopub.status.busy": "2022-05-31T07:54:59.755110Z",
     "iopub.status.idle": "2022-05-31T07:54:59.757847Z",
     "shell.execute_reply": "2022-05-31T07:54:59.757552Z"
    }
   },
   "outputs": [],
   "source": [
    "sys.path.append(os.path.join(sys.path[0],'..','..','FeedbackGeneration'))\n",
    "from DataHandler import DataHandler"
   ]
  },
  {
   "cell_type": "code",
   "execution_count": 4,
   "id": "30b43f44",
   "metadata": {
    "execution": {
     "iopub.execute_input": "2022-05-31T07:54:59.759462Z",
     "iopub.status.busy": "2022-05-31T07:54:59.759322Z",
     "iopub.status.idle": "2022-05-31T07:54:59.768738Z",
     "shell.execute_reply": "2022-05-31T07:54:59.768413Z"
    }
   },
   "outputs": [],
   "source": [
    "%load_ext autoreload\n",
    "%autoreload 2"
   ]
  },
  {
   "cell_type": "code",
   "execution_count": 5,
   "id": "a250546e",
   "metadata": {
    "execution": {
     "iopub.execute_input": "2022-05-31T07:54:59.770586Z",
     "iopub.status.busy": "2022-05-31T07:54:59.770424Z",
     "iopub.status.idle": "2022-05-31T07:54:59.778463Z",
     "shell.execute_reply": "2022-05-31T07:54:59.777295Z"
    }
   },
   "outputs": [],
   "source": [
    "result_folder = \"./example/notebooks/\"\n",
    "result_file_name = \"F_ProjectList\""
   ]
  },
  {
   "cell_type": "code",
   "execution_count": 6,
   "id": "216afe25",
   "metadata": {
    "execution": {
     "iopub.execute_input": "2022-05-31T07:54:59.780580Z",
     "iopub.status.busy": "2022-05-31T07:54:59.780329Z",
     "iopub.status.idle": "2022-05-31T07:54:59.788247Z",
     "shell.execute_reply": "2022-05-31T07:54:59.787915Z"
    }
   },
   "outputs": [],
   "source": [
    "project_folder_name = \"../\"\n",
    "project_parameter_file = \"config.yml\""
   ]
  },
  {
   "cell_type": "code",
   "execution_count": 7,
   "id": "0edfa5f1",
   "metadata": {
    "execution": {
     "iopub.execute_input": "2022-05-31T07:54:59.789780Z",
     "iopub.status.busy": "2022-05-31T07:54:59.789609Z",
     "iopub.status.idle": "2022-05-31T07:54:59.797027Z",
     "shell.execute_reply": "2022-05-31T07:54:59.796691Z"
    }
   },
   "outputs": [],
   "source": [
    "# Just for local testing purposes \n",
    "#project_folder_name = \"./example/\""
   ]
  },
  {
   "cell_type": "code",
   "execution_count": 8,
   "id": "383f5a96",
   "metadata": {
    "execution": {
     "iopub.execute_input": "2022-05-31T07:54:59.798530Z",
     "iopub.status.busy": "2022-05-31T07:54:59.798376Z",
     "iopub.status.idle": "2022-05-31T07:54:59.807548Z",
     "shell.execute_reply": "2022-05-31T07:54:59.807164Z"
    }
   },
   "outputs": [
    {
     "name": "stdout",
     "output_type": "stream",
     "text": [
      "./example/data/TaskExamples\n"
     ]
    }
   ],
   "source": [
    "request_params = YAML_RequestDefinition(project_folder_name+project_parameter_file)\n",
    "print(request_params.parameters.project_folder)"
   ]
  },
  {
   "cell_type": "code",
   "execution_count": 9,
   "id": "cfa3386f",
   "metadata": {
    "execution": {
     "iopub.execute_input": "2022-05-31T07:54:59.809141Z",
     "iopub.status.busy": "2022-05-31T07:54:59.808987Z",
     "iopub.status.idle": "2022-05-31T07:54:59.817001Z",
     "shell.execute_reply": "2022-05-31T07:54:59.816546Z"
    }
   },
   "outputs": [
    {
     "name": "stdout",
     "output_type": "stream",
     "text": [
      "/home/zug/Desktop/github2pandas/GitHubClassroomTutorFeedback/example/notebooks\n",
      "/home/zug/Desktop/github2pandas/GitHubClassroomTutorFeedback\n"
     ]
    }
   ],
   "source": [
    "path = PurePath(os.getcwd())\n",
    "if path.name == \"notebooks\":\n",
    "    print(os.getcwd())\n",
    "    os.chdir(\"../../\")\n",
    "    print(os.getcwd())"
   ]
  },
  {
   "cell_type": "code",
   "execution_count": 10,
   "id": "974fedc7",
   "metadata": {
    "execution": {
     "iopub.execute_input": "2022-05-31T07:54:59.818607Z",
     "iopub.status.busy": "2022-05-31T07:54:59.818452Z",
     "iopub.status.idle": "2022-05-31T07:54:59.827950Z",
     "shell.execute_reply": "2022-05-31T07:54:59.827624Z"
    }
   },
   "outputs": [
    {
     "name": "stdout",
     "output_type": "stream",
     "text": [
      "example/data/TaskExamples\n"
     ]
    }
   ],
   "source": [
    "dh = DataHandler(request_params.parameters.project_folder)"
   ]
  },
  {
   "cell_type": "code",
   "execution_count": 11,
   "id": "c058f0c7",
   "metadata": {
    "execution": {
     "iopub.execute_input": "2022-05-31T07:54:59.829487Z",
     "iopub.status.busy": "2022-05-31T07:54:59.829338Z",
     "iopub.status.idle": "2022-05-31T07:54:59.838982Z",
     "shell.execute_reply": "2022-05-31T07:54:59.838600Z"
    }
   },
   "outputs": [],
   "source": [
    "results = []\n",
    "\n",
    "for index, repo in dh.raw_pdRepositories.iterrows():\n",
    "    result = {}\n",
    "    result['Team name'] = aux.getTeamName(repo.repo_name)\n",
    "    result['Repository URL'] = f\"[Link]({repo.repo_html_url})\"\n",
    "    results.append(result)\n",
    "\n",
    "pdResults = pd.DataFrame(results)"
   ]
  },
  {
   "cell_type": "code",
   "execution_count": 12,
   "id": "7a6623b5",
   "metadata": {
    "execution": {
     "iopub.execute_input": "2022-05-31T07:54:59.840647Z",
     "iopub.status.busy": "2022-05-31T07:54:59.840433Z",
     "iopub.status.idle": "2022-05-31T07:54:59.850771Z",
     "shell.execute_reply": "2022-05-31T07:54:59.850438Z"
    }
   },
   "outputs": [
    {
     "name": "stdout",
     "output_type": "stream",
     "text": [
      "|    | Team name              | Repository URL                                                                                                                 |\n",
      "|---:|:-----------------------|:-------------------------------------------------------------------------------------------------------------------------------|\n",
      "|  0 | `andre_und_sebastian1` | [Link](https://github.com/Ifi-Softwareentwicklung-SoSe2021/softwareentwicklung_aufgabe3_sose2021_tutors-andre_und_sebastian-1) |\n",
      "|  1 | `galina_und_jonas`     | [Link](https://github.com/Ifi-Softwareentwicklung-SoSe2021/softwareentwicklung_aufgabe3_sose2021_tutors-galina_und_jonas)      |\n",
      "|  2 | `nico_und_baldur`      | [Link](https://github.com/Ifi-Softwareentwicklung-SoSe2021/softwareentwicklung_aufgabe3_sose2021_tutors-nico_und_baldur)       |\n"
     ]
    }
   ],
   "source": [
    "pdResults['Team name'] = \"`\" + pdResults['Team name'] + \"`\" \n",
    "print(pdResults.to_markdown())"
   ]
  },
  {
   "cell_type": "code",
   "execution_count": 13,
   "id": "82003bb5",
   "metadata": {
    "execution": {
     "iopub.execute_input": "2022-05-31T07:54:59.852314Z",
     "iopub.status.busy": "2022-05-31T07:54:59.852135Z",
     "iopub.status.idle": "2022-05-31T07:54:59.860268Z",
     "shell.execute_reply": "2022-05-31T07:54:59.859957Z"
    }
   },
   "outputs": [],
   "source": [
    "with open(result_folder + result_file_name + '.txt', 'w') as f:\n",
    "    f.write(pdResults.to_markdown())"
   ]
  },
  {
   "cell_type": "code",
   "execution_count": null,
   "id": "7ff78c62",
   "metadata": {},
   "outputs": [],
   "source": []
  }
 ],
 "metadata": {
  "interpreter": {
   "hash": "cab5110823f2123256dd3865d0cc139994b41dbc253d281a2185f480080b4372"
  },
  "kernelspec": {
   "display_name": "Python 3.9.12 ('GitHubClassroomTutorFeedback-0MA8VVWg')",
   "language": "python",
   "name": "python3"
  },
  "language_info": {
   "codemirror_mode": {
    "name": "ipython",
    "version": 3
   },
   "file_extension": ".py",
   "mimetype": "text/x-python",
   "name": "python",
   "nbconvert_exporter": "python",
   "pygments_lexer": "ipython3",
   "version": "3.9.12"
  }
 },
 "nbformat": 4,
 "nbformat_minor": 5
}
