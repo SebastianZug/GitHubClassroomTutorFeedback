{
 "cells": [
  {
   "cell_type": "markdown",
   "id": "ec7c47b2",
   "metadata": {},
   "source": [
    "# Generate team and repository list"
   ]
  },
  {
   "cell_type": "code",
   "execution_count": 1,
   "id": "6b20f58f",
   "metadata": {
    "execution": {
     "iopub.execute_input": "2022-06-15T10:28:56.904928Z",
     "iopub.status.busy": "2022-06-15T10:28:56.904681Z",
     "iopub.status.idle": "2022-06-15T10:28:57.067780Z",
     "shell.execute_reply": "2022-06-15T10:28:57.067308Z"
    }
   },
   "outputs": [],
   "source": [
    "import pandas as pd\n",
    "from pathlib import Path, PurePath\n",
    "import os\n",
    "import sys"
   ]
  },
  {
   "cell_type": "code",
   "execution_count": 2,
   "id": "0cbe3cbf",
   "metadata": {
    "execution": {
     "iopub.execute_input": "2022-06-15T10:28:57.070085Z",
     "iopub.status.busy": "2022-06-15T10:28:57.069905Z",
     "iopub.status.idle": "2022-06-15T10:28:57.119143Z",
     "shell.execute_reply": "2022-06-15T10:28:57.117803Z"
    }
   },
   "outputs": [],
   "source": [
    "from github2pandas_manager.config_parser import YAML_RequestDefinition\n",
    "import aux"
   ]
  },
  {
   "cell_type": "code",
   "execution_count": 3,
   "id": "741ff6ad",
   "metadata": {
    "execution": {
     "iopub.execute_input": "2022-06-15T10:28:57.121380Z",
     "iopub.status.busy": "2022-06-15T10:28:57.121238Z",
     "iopub.status.idle": "2022-06-15T10:28:57.124094Z",
     "shell.execute_reply": "2022-06-15T10:28:57.123797Z"
    }
   },
   "outputs": [],
   "source": [
    "sys.path.append(os.path.join(sys.path[0],'..','..','FeedbackGeneration'))\n",
    "from DataHandler import DataHandler"
   ]
  },
  {
   "cell_type": "code",
   "execution_count": 4,
   "id": "30b43f44",
   "metadata": {
    "execution": {
     "iopub.execute_input": "2022-06-15T10:28:57.125648Z",
     "iopub.status.busy": "2022-06-15T10:28:57.125530Z",
     "iopub.status.idle": "2022-06-15T10:28:57.135241Z",
     "shell.execute_reply": "2022-06-15T10:28:57.134932Z"
    }
   },
   "outputs": [],
   "source": [
    "%load_ext autoreload\n",
    "%autoreload 2"
   ]
  },
  {
   "cell_type": "code",
   "execution_count": 5,
   "id": "a250546e",
   "metadata": {
    "execution": {
     "iopub.execute_input": "2022-06-15T10:28:57.136982Z",
     "iopub.status.busy": "2022-06-15T10:28:57.136835Z",
     "iopub.status.idle": "2022-06-15T10:28:57.145159Z",
     "shell.execute_reply": "2022-06-15T10:28:57.144732Z"
    }
   },
   "outputs": [],
   "source": [
    "result_folder = \"./example/notebooks/\"\n",
    "result_file_name = \"F_ProjectList\""
   ]
  },
  {
   "cell_type": "code",
   "execution_count": 6,
   "id": "216afe25",
   "metadata": {
    "execution": {
     "iopub.execute_input": "2022-06-15T10:28:57.147463Z",
     "iopub.status.busy": "2022-06-15T10:28:57.147324Z",
     "iopub.status.idle": "2022-06-15T10:28:57.156180Z",
     "shell.execute_reply": "2022-06-15T10:28:57.155701Z"
    }
   },
   "outputs": [],
   "source": [
    "project_folder_name = \"../\"\n",
    "project_parameter_file = \"config.yml\""
   ]
  },
  {
   "cell_type": "code",
   "execution_count": 7,
   "id": "0edfa5f1",
   "metadata": {
    "execution": {
     "iopub.execute_input": "2022-06-15T10:28:57.158214Z",
     "iopub.status.busy": "2022-06-15T10:28:57.158069Z",
     "iopub.status.idle": "2022-06-15T10:28:57.168337Z",
     "shell.execute_reply": "2022-06-15T10:28:57.167794Z"
    }
   },
   "outputs": [],
   "source": [
    "# Just for local testing purposes \n",
    "#project_folder_name = \"./example/\""
   ]
  },
  {
   "cell_type": "code",
   "execution_count": 8,
   "id": "383f5a96",
   "metadata": {
    "execution": {
     "iopub.execute_input": "2022-06-15T10:28:57.170830Z",
     "iopub.status.busy": "2022-06-15T10:28:57.170532Z",
     "iopub.status.idle": "2022-06-15T10:28:57.185255Z",
     "shell.execute_reply": "2022-06-15T10:28:57.184859Z"
    }
   },
   "outputs": [
    {
     "name": "stdout",
     "output_type": "stream",
     "text": [
      "./example/data/TaskExamples\n"
     ]
    }
   ],
   "source": [
    "request_params = YAML_RequestDefinition(project_folder_name+project_parameter_file)\n",
    "print(request_params.parameters.project_folder)"
   ]
  },
  {
   "cell_type": "code",
   "execution_count": 9,
   "id": "cfa3386f",
   "metadata": {
    "execution": {
     "iopub.execute_input": "2022-06-15T10:28:57.187348Z",
     "iopub.status.busy": "2022-06-15T10:28:57.187100Z",
     "iopub.status.idle": "2022-06-15T10:28:57.196695Z",
     "shell.execute_reply": "2022-06-15T10:28:57.196306Z"
    }
   },
   "outputs": [
    {
     "name": "stdout",
     "output_type": "stream",
     "text": [
      "/home/zug/Desktop/github2pandas/GitHubClassroomTutorFeedback/example/notebooks\n",
      "/home/zug/Desktop/github2pandas/GitHubClassroomTutorFeedback\n"
     ]
    }
   ],
   "source": [
    "path = PurePath(os.getcwd())\n",
    "if path.name == \"notebooks\":\n",
    "    print(os.getcwd())\n",
    "    os.chdir(\"../../\")\n",
    "    print(os.getcwd())"
   ]
  },
  {
   "cell_type": "code",
   "execution_count": 10,
   "id": "974fedc7",
   "metadata": {
    "execution": {
     "iopub.execute_input": "2022-06-15T10:28:57.198598Z",
     "iopub.status.busy": "2022-06-15T10:28:57.198446Z",
     "iopub.status.idle": "2022-06-15T10:28:57.209323Z",
     "shell.execute_reply": "2022-06-15T10:28:57.208880Z"
    }
   },
   "outputs": [
    {
     "name": "stdout",
     "output_type": "stream",
     "text": [
      "example/data/TaskExamples\n"
     ]
    }
   ],
   "source": [
    "dh = DataHandler(request_params.parameters.project_folder)"
   ]
  },
  {
   "cell_type": "code",
   "execution_count": 11,
   "id": "c058f0c7",
   "metadata": {
    "execution": {
     "iopub.execute_input": "2022-06-15T10:28:57.211119Z",
     "iopub.status.busy": "2022-06-15T10:28:57.210935Z",
     "iopub.status.idle": "2022-06-15T10:28:57.220792Z",
     "shell.execute_reply": "2022-06-15T10:28:57.220469Z"
    }
   },
   "outputs": [],
   "source": [
    "results = []\n",
    "\n",
    "for index, repo in dh.raw_pdRepositories.iterrows():\n",
    "    result = {}\n",
    "    result['Team name'] = aux.getTeamName(repo.repo_name)\n",
    "    result['Repository URL'] = f\"[Link]({repo.repo_html_url})\"\n",
    "    results.append(result)\n",
    "\n",
    "pdResults = pd.DataFrame(results)"
   ]
  },
  {
   "cell_type": "code",
   "execution_count": 12,
   "id": "7a6623b5",
   "metadata": {
    "execution": {
     "iopub.execute_input": "2022-06-15T10:28:57.222537Z",
     "iopub.status.busy": "2022-06-15T10:28:57.222382Z",
     "iopub.status.idle": "2022-06-15T10:28:57.232855Z",
     "shell.execute_reply": "2022-06-15T10:28:57.232433Z"
    }
   },
   "outputs": [
    {
     "name": "stdout",
     "output_type": "stream",
     "text": [
      "|    | Team name              | Repository URL                                                                                                                 |\n",
      "|---:|:-----------------------|:-------------------------------------------------------------------------------------------------------------------------------|\n",
      "|  0 | `andre_und_sebastian1` | [Link](https://github.com/Ifi-Softwareentwicklung-SoSe2021/softwareentwicklung_aufgabe3_sose2021_tutors-andre_und_sebastian-1) |\n",
      "|  1 | `galina_und_jonas`     | [Link](https://github.com/Ifi-Softwareentwicklung-SoSe2021/softwareentwicklung_aufgabe3_sose2021_tutors-galina_und_jonas)      |\n",
      "|  2 | `nico_und_baldur`      | [Link](https://github.com/Ifi-Softwareentwicklung-SoSe2021/softwareentwicklung_aufgabe3_sose2021_tutors-nico_und_baldur)       |\n"
     ]
    }
   ],
   "source": [
    "pdResults['Team name'] = \"`\" + pdResults['Team name'] + \"`\" \n",
    "print(pdResults.to_markdown())"
   ]
  },
  {
   "cell_type": "code",
   "execution_count": 13,
   "id": "82003bb5",
   "metadata": {
    "execution": {
     "iopub.execute_input": "2022-06-15T10:28:57.234958Z",
     "iopub.status.busy": "2022-06-15T10:28:57.234750Z",
     "iopub.status.idle": "2022-06-15T10:28:57.244712Z",
     "shell.execute_reply": "2022-06-15T10:28:57.244333Z"
    }
   },
   "outputs": [],
   "source": [
    "with open(result_folder + result_file_name + '.txt', 'w') as f:\n",
    "    f.write(pdResults.to_markdown())"
   ]
  },
  {
   "cell_type": "code",
   "execution_count": null,
   "id": "7ff78c62",
   "metadata": {},
   "outputs": [],
   "source": []
  }
 ],
 "metadata": {
  "interpreter": {
   "hash": "cab5110823f2123256dd3865d0cc139994b41dbc253d281a2185f480080b4372"
  },
  "kernelspec": {
   "display_name": "Python 3.9.12 ('GitHubClassroomTutorFeedback-0MA8VVWg')",
   "language": "python",
   "name": "python3"
  },
  "language_info": {
   "codemirror_mode": {
    "name": "ipython",
    "version": 3
   },
   "file_extension": ".py",
   "mimetype": "text/x-python",
   "name": "python",
   "nbconvert_exporter": "python",
   "pygments_lexer": "ipython3",
   "version": "3.9.13"
  }
 },
 "nbformat": 4,
 "nbformat_minor": 5
}
