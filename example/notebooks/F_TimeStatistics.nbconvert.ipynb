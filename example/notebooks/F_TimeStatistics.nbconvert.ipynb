{
 "cells": [
  {
   "cell_type": "markdown",
   "id": "4215506f",
   "metadata": {},
   "source": [
    "# Generate project overview"
   ]
  },
  {
   "cell_type": "code",
   "execution_count": 1,
   "id": "ab08eda8",
   "metadata": {
    "execution": {
     "iopub.execute_input": "2022-05-31T07:54:53.440326Z",
     "iopub.status.busy": "2022-05-31T07:54:53.440110Z",
     "iopub.status.idle": "2022-05-31T07:54:54.139085Z",
     "shell.execute_reply": "2022-05-31T07:54:54.138625Z"
    }
   },
   "outputs": [],
   "source": [
    "import pandas as pd\n",
    "from pathlib import Path, PurePath\n",
    "import matplotlib.pyplot as plt\n",
    "import seaborn as sns\n",
    "import os\n",
    "import sys"
   ]
  },
  {
   "cell_type": "code",
   "execution_count": 2,
   "id": "36014c24",
   "metadata": {
    "execution": {
     "iopub.execute_input": "2022-05-31T07:54:54.141257Z",
     "iopub.status.busy": "2022-05-31T07:54:54.141019Z",
     "iopub.status.idle": "2022-05-31T07:54:54.235013Z",
     "shell.execute_reply": "2022-05-31T07:54:54.234426Z"
    }
   },
   "outputs": [],
   "source": [
    "from github2pandas_manager.config_parser import YAML_RequestDefinition\n",
    "import aux"
   ]
  },
  {
   "cell_type": "code",
   "execution_count": 3,
   "id": "51b81287",
   "metadata": {
    "execution": {
     "iopub.execute_input": "2022-05-31T07:54:54.236987Z",
     "iopub.status.busy": "2022-05-31T07:54:54.236845Z",
     "iopub.status.idle": "2022-05-31T07:54:54.239403Z",
     "shell.execute_reply": "2022-05-31T07:54:54.239056Z"
    }
   },
   "outputs": [],
   "source": [
    "sys.path.append(os.path.join(sys.path[0],'..','..','FeedbackGeneration'))\n",
    "from DataHandler import DataHandler"
   ]
  },
  {
   "cell_type": "code",
   "execution_count": 4,
   "id": "bbbfe615",
   "metadata": {
    "execution": {
     "iopub.execute_input": "2022-05-31T07:54:54.240908Z",
     "iopub.status.busy": "2022-05-31T07:54:54.240725Z",
     "iopub.status.idle": "2022-05-31T07:54:54.253396Z",
     "shell.execute_reply": "2022-05-31T07:54:54.253078Z"
    }
   },
   "outputs": [],
   "source": [
    "%load_ext autoreload\n",
    "%autoreload 2"
   ]
  },
  {
   "cell_type": "code",
   "execution_count": 5,
   "id": "4cd24a27",
   "metadata": {
    "execution": {
     "iopub.execute_input": "2022-05-31T07:54:54.255044Z",
     "iopub.status.busy": "2022-05-31T07:54:54.254883Z",
     "iopub.status.idle": "2022-05-31T07:54:54.265369Z",
     "shell.execute_reply": "2022-05-31T07:54:54.265023Z"
    }
   },
   "outputs": [],
   "source": [
    "result_folder = \"./example/notebooks/\"\n",
    "result_file_name = \"F_TimeStatistics\""
   ]
  },
  {
   "cell_type": "code",
   "execution_count": 6,
   "id": "b95f36aa",
   "metadata": {
    "execution": {
     "iopub.execute_input": "2022-05-31T07:54:54.266980Z",
     "iopub.status.busy": "2022-05-31T07:54:54.266826Z",
     "iopub.status.idle": "2022-05-31T07:54:54.277260Z",
     "shell.execute_reply": "2022-05-31T07:54:54.276926Z"
    }
   },
   "outputs": [],
   "source": [
    "project_folder_name = \"../\"\n",
    "project_parameter_file = \"config.yml\""
   ]
  },
  {
   "cell_type": "code",
   "execution_count": 7,
   "id": "48441fb8",
   "metadata": {
    "execution": {
     "iopub.execute_input": "2022-05-31T07:54:54.278941Z",
     "iopub.status.busy": "2022-05-31T07:54:54.278759Z",
     "iopub.status.idle": "2022-05-31T07:54:54.288860Z",
     "shell.execute_reply": "2022-05-31T07:54:54.288424Z"
    }
   },
   "outputs": [],
   "source": [
    "# Just for local testing purposes \n",
    "#project_folder_name = \"./example/\""
   ]
  },
  {
   "cell_type": "code",
   "execution_count": 8,
   "id": "7155eeb8",
   "metadata": {
    "execution": {
     "iopub.execute_input": "2022-05-31T07:54:54.290615Z",
     "iopub.status.busy": "2022-05-31T07:54:54.290445Z",
     "iopub.status.idle": "2022-05-31T07:54:54.302720Z",
     "shell.execute_reply": "2022-05-31T07:54:54.302347Z"
    }
   },
   "outputs": [
    {
     "name": "stdout",
     "output_type": "stream",
     "text": [
      "./example/data/TaskExamples\n"
     ]
    }
   ],
   "source": [
    "request_params = YAML_RequestDefinition(project_folder_name+project_parameter_file)\n",
    "print(request_params.parameters.project_folder)"
   ]
  },
  {
   "cell_type": "code",
   "execution_count": 9,
   "id": "f62e9641",
   "metadata": {
    "execution": {
     "iopub.execute_input": "2022-05-31T07:54:54.304444Z",
     "iopub.status.busy": "2022-05-31T07:54:54.304208Z",
     "iopub.status.idle": "2022-05-31T07:54:54.315909Z",
     "shell.execute_reply": "2022-05-31T07:54:54.315522Z"
    }
   },
   "outputs": [
    {
     "name": "stdout",
     "output_type": "stream",
     "text": [
      "/home/zug/Desktop/github2pandas/GitHubClassroomTutorFeedback/example/notebooks\n",
      "/home/zug/Desktop/github2pandas/GitHubClassroomTutorFeedback\n"
     ]
    }
   ],
   "source": [
    "path = PurePath(os.getcwd())\n",
    "if path.name == \"notebooks\":\n",
    "    print(os.getcwd())\n",
    "    os.chdir(\"../../\")\n",
    "    print(os.getcwd())"
   ]
  },
  {
   "cell_type": "code",
   "execution_count": 10,
   "id": "9205ab6e",
   "metadata": {
    "execution": {
     "iopub.execute_input": "2022-05-31T07:54:54.317465Z",
     "iopub.status.busy": "2022-05-31T07:54:54.317332Z",
     "iopub.status.idle": "2022-05-31T07:54:54.329803Z",
     "shell.execute_reply": "2022-05-31T07:54:54.329421Z"
    }
   },
   "outputs": [
    {
     "name": "stdout",
     "output_type": "stream",
     "text": [
      "example/data/TaskExamples\n"
     ]
    }
   ],
   "source": [
    "dh = DataHandler(request_params.parameters.project_folder)"
   ]
  },
  {
   "cell_type": "code",
   "execution_count": 11,
   "id": "a248872d",
   "metadata": {
    "execution": {
     "iopub.execute_input": "2022-05-31T07:54:54.331449Z",
     "iopub.status.busy": "2022-05-31T07:54:54.331280Z",
     "iopub.status.idle": "2022-05-31T07:54:54.342840Z",
     "shell.execute_reply": "2022-05-31T07:54:54.342397Z"
    }
   },
   "outputs": [],
   "source": [
    "dh.raw_pdCommits['team'] =  dh.raw_pdCommits['repo_name'].apply(aux.getTeamName)"
   ]
  },
  {
   "cell_type": "code",
   "execution_count": 12,
   "id": "3bc29550",
   "metadata": {
    "execution": {
     "iopub.execute_input": "2022-05-31T07:54:54.344793Z",
     "iopub.status.busy": "2022-05-31T07:54:54.344591Z",
     "iopub.status.idle": "2022-05-31T07:54:54.908943Z",
     "shell.execute_reply": "2022-05-31T07:54:54.908577Z"
    }
   },
   "outputs": [
    {
     "data": {
      "image/png": "[encoded data removed]",
      "text/plain": [
       "<Figure size 1296x432 with 2 Axes>"
      ]
     },
     "metadata": {
      "needs_background": "light"
     },
     "output_type": "display_data"
    }
   ],
   "source": [
    "anonym_pdCommits = dh.raw_pdCommits\n",
    "anonym_pdCommits['days'] = anonym_pdCommits.commited_at.dt.dayofweek\n",
    "anonym_pdCommits['hours'] = anonym_pdCommits.commited_at.dt.hour\n",
    "fig, ax = plt.subplots(figsize=(18,6))\n",
    "y_axis_labels = ['Montag', 'Dienstag', 'Mittwoch', 'Donnerstag', 'Freitag', 'Sonnabend', 'Sonntag']\n",
    "\n",
    "g = sns.heatmap(anonym_pdCommits.groupby(['days', 'hours'])['commited_at']\\\n",
    "                                             .count()\\\n",
    "                                             .unstack(), \n",
    "            annot=True, yticklabels=y_axis_labels, ax=ax)\n",
    "\n",
    "plt.savefig(result_folder + result_file_name +'.png', dpi=400)\n",
    "plt.show()"
   ]
  },
  {
   "cell_type": "code",
   "execution_count": null,
   "id": "c865d004",
   "metadata": {},
   "outputs": [],
   "source": []
  }
 ],
 "metadata": {
  "interpreter": {
   "hash": "cab5110823f2123256dd3865d0cc139994b41dbc253d281a2185f480080b4372"
  },
  "kernelspec": {
   "display_name": "Python 3.9.12 ('GitHubClassroomTutorFeedback-0MA8VVWg')",
   "language": "python",
   "name": "python3"
  },
  "language_info": {
   "codemirror_mode": {
    "name": "ipython",
    "version": 3
   },
   "file_extension": ".py",
   "mimetype": "text/x-python",
   "name": "python",
   "nbconvert_exporter": "python",
   "pygments_lexer": "ipython3",
   "version": "3.9.12"
  }
 },
 "nbformat": 4,
 "nbformat_minor": 5
}
