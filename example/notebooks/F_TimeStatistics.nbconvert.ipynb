{
 "cells": [
  {
   "cell_type": "markdown",
   "id": "4215506f",
   "metadata": {},
   "source": [
    "# Generate project overview"
   ]
  },
  {
   "cell_type": "code",
   "execution_count": 1,
   "id": "ab08eda8",
   "metadata": {
    "execution": {
     "iopub.execute_input": "2021-12-12T19:02:18.550697Z",
     "iopub.status.busy": "2021-12-12T19:02:18.548903Z",
     "iopub.status.idle": "2021-12-12T19:02:19.855937Z",
     "shell.execute_reply": "2021-12-12T19:02:19.855462Z"
    }
   },
   "outputs": [],
   "source": [
    "import pandas as pd\n",
    "from pathlib import Path, PurePath\n",
    "import matplotlib.pyplot as plt\n",
    "import seaborn as sns\n",
    "import os\n",
    "import sys"
   ]
  },
  {
   "cell_type": "code",
   "execution_count": 2,
   "id": "36014c24",
   "metadata": {
    "execution": {
     "iopub.execute_input": "2021-12-12T19:02:19.859081Z",
     "iopub.status.busy": "2021-12-12T19:02:19.858639Z",
     "iopub.status.idle": "2021-12-12T19:02:19.946126Z",
     "shell.execute_reply": "2021-12-12T19:02:19.945749Z"
    }
   },
   "outputs": [],
   "source": [
    "from github2pandas_manager.config_parser import YAML_RequestDefinition\n",
    "import aux"
   ]
  },
  {
   "cell_type": "code",
   "execution_count": 3,
   "id": "51b81287",
   "metadata": {
    "execution": {
     "iopub.execute_input": "2021-12-12T19:02:19.949714Z",
     "iopub.status.busy": "2021-12-12T19:02:19.949262Z",
     "iopub.status.idle": "2021-12-12T19:02:19.951609Z",
     "shell.execute_reply": "2021-12-12T19:02:19.951978Z"
    }
   },
   "outputs": [],
   "source": [
    "sys.path.append(os.path.join(sys.path[0],'..','..','FeedbackGeneration'))\n",
    "from DataHandler import DataHandler"
   ]
  },
  {
   "cell_type": "code",
   "execution_count": 4,
   "id": "bbbfe615",
   "metadata": {
    "execution": {
     "iopub.execute_input": "2021-12-12T19:02:19.955284Z",
     "iopub.status.busy": "2021-12-12T19:02:19.954882Z",
     "iopub.status.idle": "2021-12-12T19:02:19.970733Z",
     "shell.execute_reply": "2021-12-12T19:02:19.970344Z"
    }
   },
   "outputs": [],
   "source": [
    "%load_ext autoreload\n",
    "%autoreload 2"
   ]
  },
  {
   "cell_type": "code",
   "execution_count": 5,
   "id": "4cd24a27",
   "metadata": {
    "execution": {
     "iopub.execute_input": "2021-12-12T19:02:19.973747Z",
     "iopub.status.busy": "2021-12-12T19:02:19.973236Z",
     "iopub.status.idle": "2021-12-12T19:02:19.987676Z",
     "shell.execute_reply": "2021-12-12T19:02:19.987287Z"
    }
   },
   "outputs": [],
   "source": [
    "result_folder = \"./example/notebooks/\"\n",
    "result_file_name = \"F_TimeStatistics\""
   ]
  },
  {
   "cell_type": "code",
   "execution_count": 6,
   "id": "b95f36aa",
   "metadata": {
    "execution": {
     "iopub.execute_input": "2021-12-12T19:02:19.991728Z",
     "iopub.status.busy": "2021-12-12T19:02:19.990048Z",
     "iopub.status.idle": "2021-12-12T19:02:20.004297Z",
     "shell.execute_reply": "2021-12-12T19:02:20.003911Z"
    }
   },
   "outputs": [],
   "source": [
    "project_folder_name = \"../\"\n",
    "project_parameter_file = \"config.yml\""
   ]
  },
  {
   "cell_type": "code",
   "execution_count": 7,
   "id": "7155eeb8",
   "metadata": {
    "execution": {
     "iopub.execute_input": "2021-12-12T19:02:20.007092Z",
     "iopub.status.busy": "2021-12-12T19:02:20.006672Z",
     "iopub.status.idle": "2021-12-12T19:02:20.027554Z",
     "shell.execute_reply": "2021-12-12T19:02:20.027892Z"
    }
   },
   "outputs": [
    {
     "name": "stdout",
     "output_type": "stream",
     "text": [
      "./example/data/programmingtask_1\n"
     ]
    }
   ],
   "source": [
    "request_params = YAML_RequestDefinition(project_folder_name+project_parameter_file)\n",
    "print(request_params.parameters.project_folder)"
   ]
  },
  {
   "cell_type": "code",
   "execution_count": 8,
   "id": "f62e9641",
   "metadata": {
    "execution": {
     "iopub.execute_input": "2021-12-12T19:02:20.031814Z",
     "iopub.status.busy": "2021-12-12T19:02:20.031110Z",
     "iopub.status.idle": "2021-12-12T19:02:20.045759Z",
     "shell.execute_reply": "2021-12-12T19:02:20.045398Z"
    }
   },
   "outputs": [
    {
     "name": "stdout",
     "output_type": "stream",
     "text": [
      "/home/zug/Desktop/github2pandas/GitHubClassroomTutorFeedback/example/notebooks\n",
      "/home/zug/Desktop/github2pandas/GitHubClassroomTutorFeedback\n"
     ]
    }
   ],
   "source": [
    "path = PurePath(os.getcwd())\n",
    "if path.name == \"notebooks\":\n",
    "    print(os.getcwd())\n",
    "    os.chdir(\"../../\")\n",
    "    print(os.getcwd())"
   ]
  },
  {
   "cell_type": "code",
   "execution_count": 9,
   "id": "9205ab6e",
   "metadata": {
    "execution": {
     "iopub.execute_input": "2021-12-12T19:02:20.049800Z",
     "iopub.status.busy": "2021-12-12T19:02:20.049087Z",
     "iopub.status.idle": "2021-12-12T19:02:20.069940Z",
     "shell.execute_reply": "2021-12-12T19:02:20.069563Z"
    }
   },
   "outputs": [
    {
     "name": "stdout",
     "output_type": "stream",
     "text": [
      "example/data/programmingtask_1\n"
     ]
    }
   ],
   "source": [
    "dh = DataHandler(request_params.parameters.project_folder)"
   ]
  },
  {
   "cell_type": "code",
   "execution_count": 10,
   "id": "a248872d",
   "metadata": {
    "execution": {
     "iopub.execute_input": "2021-12-12T19:02:20.073292Z",
     "iopub.status.busy": "2021-12-12T19:02:20.072887Z",
     "iopub.status.idle": "2021-12-12T19:02:20.088113Z",
     "shell.execute_reply": "2021-12-12T19:02:20.087722Z"
    }
   },
   "outputs": [],
   "source": [
    "dh.raw_pdCommits['team'] =  dh.raw_pdCommits['repo_name'].apply(aux.getTeamName)"
   ]
  },
  {
   "cell_type": "code",
   "execution_count": 11,
   "id": "3bc29550",
   "metadata": {
    "execution": {
     "iopub.execute_input": "2021-12-12T19:02:20.092959Z",
     "iopub.status.busy": "2021-12-12T19:02:20.092291Z",
     "iopub.status.idle": "2021-12-12T19:02:21.232057Z",
     "shell.execute_reply": "2021-12-12T19:02:21.232400Z"
    }
   },
   "outputs": [
    {
     "data": {
      "image/png": "[encoded data removed]",
      "text/plain": [
       "<Figure size 1296x432 with 2 Axes>"
      ]
     },
     "metadata": {
      "needs_background": "light"
     },
     "output_type": "display_data"
    }
   ],
   "source": [
    "anonym_pdCommits = dh.raw_pdCommits\n",
    "anonym_pdCommits['days'] = anonym_pdCommits.commited_at.dt.dayofweek\n",
    "anonym_pdCommits['hours'] = anonym_pdCommits.commited_at.dt.hour\n",
    "fig, ax = plt.subplots(figsize=(18,6))\n",
    "y_axis_labels = ['Montag', 'Dienstag', 'Mittwoch', 'Donnerstag', 'Freitag', 'Sonnabend', 'Sonntag']\n",
    "\n",
    "g = sns.heatmap(anonym_pdCommits.groupby(['days', 'hours'])['commited_at']\\\n",
    "                                             .count()\\\n",
    "                                             .unstack(), \n",
    "            annot=True, yticklabels=y_axis_labels, ax=ax)\n",
    "\n",
    "plt.savefig(result_folder + result_file_name +'.png', dpi=400)\n",
    "plt.show()"
   ]
  },
  {
   "cell_type": "code",
   "execution_count": null,
   "id": "c865d004",
   "metadata": {},
   "outputs": [],
   "source": []
  }
 ],
 "metadata": {
  "kernelspec": {
   "display_name": "Python 3 (ipykernel)",
   "language": "python",
   "name": "python3"
  },
  "language_info": {
   "codemirror_mode": {
    "name": "ipython",
    "version": 3
   },
   "file_extension": ".py",
   "mimetype": "text/x-python",
   "name": "python",
   "nbconvert_exporter": "python",
   "pygments_lexer": "ipython3",
   "version": "3.8.10"
  }
 },
 "nbformat": 4,
 "nbformat_minor": 5
}
