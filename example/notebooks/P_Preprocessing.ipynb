{
 "cells": [
  {
   "cell_type": "code",
   "execution_count": null,
   "metadata": {
    "execution": {
     "iopub.execute_input": "2021-06-24T14:58:12.527435Z",
     "iopub.status.busy": "2021-06-24T14:58:12.526208Z",
     "iopub.status.idle": "2021-06-24T14:58:12.771868Z",
     "shell.execute_reply": "2021-06-24T14:58:12.771483Z"
    }
   },
   "outputs": [],
   "source": [
    "from pathlib import Path\n",
    "import pandas as pda\n",
    "import sys\n",
    "import os\n",
    "sys.path.append(os.path.join(sys.path[0],'..','..','GithubActivities'))\n",
    "from DataHandling import DataManager\n",
    "%load_ext autoreload\n",
    "%autoreload 2"
   ]
  },
  {
   "cell_type": "code",
   "execution_count": null,
   "metadata": {
    "execution": {
     "iopub.execute_input": "2021-06-24T14:58:12.773995Z",
     "iopub.status.busy": "2021-06-24T14:58:12.773683Z",
     "iopub.status.idle": "2021-06-24T14:58:12.779882Z",
     "shell.execute_reply": "2021-06-24T14:58:12.780143Z"
    }
   },
   "outputs": [],
   "source": [
    "print(os.getcwd())\n",
    "os.chdir(\"../../\")\n",
    "print(os.getcwd())"
   ]
  },
  {
   "cell_type": "code",
   "execution_count": null,
   "metadata": {
    "execution": {
     "iopub.execute_input": "2021-06-24T14:58:12.782281Z",
     "iopub.status.busy": "2021-06-24T14:58:12.781967Z",
     "iopub.status.idle": "2021-06-24T14:58:12.800604Z",
     "shell.execute_reply": "2021-06-24T14:58:12.801069Z"
    }
   },
   "outputs": [],
   "source": [
    "project_folder_name = \"./example/\"\n",
    "project_parameter_file = \"parameter.yml\"\n",
    "\n",
    "dataHandler = DataManager(project_folder_name + project_parameter_file)"
   ]
  },
  {
   "cell_type": "code",
   "execution_count": null,
   "metadata": {
    "execution": {
     "iopub.execute_input": "2021-06-24T14:58:12.805614Z",
     "iopub.status.busy": "2021-06-24T14:58:12.804819Z",
     "iopub.status.idle": "2021-06-24T14:58:12.820157Z",
     "shell.execute_reply": "2021-06-24T14:58:12.819769Z"
    }
   },
   "outputs": [],
   "source": [
    "raw_pdCommits = dataHandler.unpickle_From_Raw_Data_Folder(\"raw_pdCommits.p\")\n",
    "raw_pdUsers = dataHandler.unpickle_From_Raw_Data_Folder(\"raw_pdUsers.p\")\n",
    "raw_pdReleases = dataHandler.unpickle_From_Raw_Data_Folder(\"raw_pdReleases.p\")\n",
    "raw_pdEdits = dataHandler.unpickle_From_Raw_Data_Folder(\"raw_pdEdits.p\")\n",
    "raw_pdIssues = dataHandler.unpickle_From_Raw_Data_Folder(\"raw_pdIssues.p\")\n",
    "raw_pdBranches = dataHandler.unpickle_From_Raw_Data_Folder(\"raw_pdBranches.p\")\n",
    "raw_pdPullRequests = dataHandler.unpickle_From_Raw_Data_Folder(\"raw_pdPullRequests.p\")"
   ]
  },
  {
   "cell_type": "markdown",
   "metadata": {},
   "source": [
    "## Check user list"
   ]
  },
  {
   "cell_type": "code",
   "execution_count": null,
   "metadata": {
    "execution": {
     "iopub.execute_input": "2021-06-24T14:58:12.822877Z",
     "iopub.status.busy": "2021-06-24T14:58:12.822364Z",
     "iopub.status.idle": "2021-06-24T14:58:12.833791Z",
     "shell.execute_reply": "2021-06-24T14:58:12.834054Z"
    }
   },
   "outputs": [],
   "source": [
    "github_users_black_list = [\"github-classroom[bot]\", \"actions-user\", \"web-flow\"]\n",
    "github_users_black_list_ids = raw_pdUsers [raw_pdUsers.login.isin(github_users_black_list)].anonym_uuid.unique().tolist() \n",
    "github_users_black_list_ids"
   ]
  },
  {
   "cell_type": "code",
   "execution_count": null,
   "metadata": {
    "execution": {
     "iopub.execute_input": "2021-06-24T14:58:12.836365Z",
     "iopub.status.busy": "2021-06-24T14:58:12.835878Z",
     "iopub.status.idle": "2021-06-24T14:58:12.846335Z",
     "shell.execute_reply": "2021-06-24T14:58:12.846051Z"
    }
   },
   "outputs": [],
   "source": [
    "raw_pdCommits['commiter_role'] = \"student\"\n",
    "raw_pdCommits.loc[raw_pdCommits.author.isin(github_users_black_list_ids), \"commiter_role\"] = 'github'"
   ]
  },
  {
   "cell_type": "code",
   "execution_count": null,
   "metadata": {
    "execution": {
     "iopub.execute_input": "2021-06-24T14:58:12.848783Z",
     "iopub.status.busy": "2021-06-24T14:58:12.848251Z",
     "iopub.status.idle": "2021-06-24T14:58:12.863865Z",
     "shell.execute_reply": "2021-06-24T14:58:12.863536Z"
    }
   },
   "outputs": [],
   "source": [
    "raw_pdUsers[~raw_pdUsers.anonym_uuid.isin(github_users_black_list_ids)]"
   ]
  },
  {
   "cell_type": "markdown",
   "metadata": {},
   "source": [
    "## Eliminate none authors"
   ]
  },
  {
   "cell_type": "code",
   "execution_count": null,
   "metadata": {
    "execution": {
     "iopub.execute_input": "2021-06-24T14:58:12.866316Z",
     "iopub.status.busy": "2021-06-24T14:58:12.865821Z",
     "iopub.status.idle": "2021-06-24T14:58:12.879053Z",
     "shell.execute_reply": "2021-06-24T14:58:12.879317Z"
    }
   },
   "outputs": [],
   "source": [
    "raw_pdCommits[raw_pdCommits.author.isnull()]"
   ]
  },
  {
   "cell_type": "markdown",
   "metadata": {},
   "source": [
    "## Anonymize authors and teams"
   ]
  },
  {
   "cell_type": "code",
   "execution_count": null,
   "metadata": {
    "execution": {
     "iopub.execute_input": "2021-06-24T14:58:12.882006Z",
     "iopub.status.busy": "2021-06-24T14:58:12.881517Z",
     "iopub.status.idle": "2021-06-24T14:58:12.894893Z",
     "shell.execute_reply": "2021-06-24T14:58:12.894065Z"
    }
   },
   "outputs": [],
   "source": [
    "authors = raw_pdCommits.author.unique()\n",
    "authors_dict = dict(zip(authors, range(len(authors))))\n",
    "\n",
    "teams = raw_pdCommits.team.unique()\n",
    "teams_dict = dict(zip(teams, range(len(teams))))"
   ]
  },
  {
   "cell_type": "code",
   "execution_count": null,
   "metadata": {
    "execution": {
     "iopub.execute_input": "2021-06-24T14:58:12.901888Z",
     "iopub.status.busy": "2021-06-24T14:58:12.900919Z",
     "iopub.status.idle": "2021-06-24T14:58:12.917832Z",
     "shell.execute_reply": "2021-06-24T14:58:12.918109Z"
    }
   },
   "outputs": [],
   "source": [
    "def annoymizeDataFrame(raw_df, teams_dict, authors_dict):\n",
    "    df = raw_df.copy()\n",
    "    if 'author' in df.columns:\n",
    "        df['authorKey'] = df['author'].apply(lambda s: authors_dict.get(s) if s in authors_dict else s)\n",
    "    if 'team' in df.columns:\n",
    "        df['teamKey'] = df['team'].apply(lambda s: teams_dict.get(s) if s in teams_dict else s)\n",
    "    return df\n",
    "\n",
    "anonym_pdCommits = annoymizeDataFrame(raw_pdCommits, teams_dict, authors_dict)\n",
    "anonym_pdReleases = annoymizeDataFrame(raw_pdReleases, teams_dict, authors_dict)\n",
    "anonym_pdEdits = annoymizeDataFrame(raw_pdEdits, teams_dict, authors_dict)\n",
    "anonym_pdIssues = annoymizeDataFrame(raw_pdIssues, teams_dict, authors_dict)\n",
    "anonym_pdBranches = annoymizeDataFrame(raw_pdBranches, teams_dict, authors_dict)\n",
    "anonym_pdPullRequests = annoymizeDataFrame(raw_pdPullRequests, teams_dict, authors_dict)"
   ]
  },
  {
   "cell_type": "markdown",
   "metadata": {},
   "source": [
    "## Save files"
   ]
  },
  {
   "cell_type": "code",
   "execution_count": null,
   "metadata": {
    "execution": {
     "iopub.execute_input": "2021-06-24T14:58:12.921340Z",
     "iopub.status.busy": "2021-06-24T14:58:12.920798Z",
     "iopub.status.idle": "2021-06-24T14:58:12.932051Z",
     "shell.execute_reply": "2021-06-24T14:58:12.931761Z"
    }
   },
   "outputs": [],
   "source": [
    "dataHandler.pickle_File_To_Preproc_Data_Folder(anonym_pdCommits, \"anonym_pdCommits.p\")\n",
    "dataHandler.pickle_File_To_Preproc_Data_Folder(anonym_pdReleases, \"anonym_pdReleases.p\")\n",
    "dataHandler.pickle_File_To_Preproc_Data_Folder(anonym_pdEdits, \"anonym_pdEdits.p\")\n",
    "dataHandler.pickle_File_To_Preproc_Data_Folder(anonym_pdIssues, \"anonym_pdIssues.p\")\n",
    "dataHandler.pickle_File_To_Preproc_Data_Folder(anonym_pdBranches, \"anonym_pdBranches.p\")\n",
    "dataHandler.pickle_File_To_Preproc_Data_Folder(anonym_pdPullRequests, \"anonym_pdPullRequests.p\")\n",
    "dataHandler.pickle_File_To_Preproc_Data_Folder(teams_dict, \"teams_dict.p\")"
   ]
  },
  {
   "cell_type": "code",
   "execution_count": null,
   "metadata": {},
   "outputs": [],
   "source": []
  }
 ],
 "metadata": {
  "kernelspec": {
   "display_name": "My Great Env",
   "language": "python",
   "name": "mygreatenv"
  },
  "language_info": {
   "codemirror_mode": {
    "name": "ipython",
    "version": 3
   },
   "file_extension": ".py",
   "mimetype": "text/x-python",
   "name": "python",
   "nbconvert_exporter": "python",
   "pygments_lexer": "ipython3",
   "version": "3.8.5"
  }
 },
 "nbformat": 4,
 "nbformat_minor": 5
}