{
 "cells": [
  {
   "cell_type": "markdown",
   "id": "4215506f",
   "metadata": {},
   "source": [
    "# Generate project overview"
   ]
  },
  {
   "cell_type": "code",
   "execution_count": null,
   "id": "ab08eda8",
   "metadata": {},
   "outputs": [],
   "source": [
    "import pandas as pd\n",
    "from pathlib import Path, PurePath\n",
    "import matplotlib.pyplot as plt\n",
    "import seaborn as sns\n",
    "import os\n",
    "import sys"
   ]
  },
  {
   "cell_type": "code",
   "execution_count": null,
   "id": "36014c24",
   "metadata": {},
   "outputs": [],
   "source": [
    "from github2pandas_manager.config_parser import YAML_RequestDefinition\n",
    "import aux"
   ]
  },
  {
   "cell_type": "code",
   "execution_count": null,
   "id": "51b81287",
   "metadata": {},
   "outputs": [],
   "source": [
    "sys.path.append(os.path.join(sys.path[0],'..','..','FeedbackGeneration'))\n",
    "from DataHandler import DataHandler"
   ]
  },
  {
   "cell_type": "code",
   "execution_count": null,
   "id": "bbbfe615",
   "metadata": {
    "execution": {
     "iopub.execute_input": "2021-06-24T14:58:20.818028Z",
     "iopub.status.busy": "2021-06-24T14:58:20.817637Z",
     "iopub.status.idle": "2021-06-24T14:58:21.171369Z",
     "shell.execute_reply": "2021-06-24T14:58:21.170890Z"
    }
   },
   "outputs": [],
   "source": [
    "%load_ext autoreload\n",
    "%autoreload 2"
   ]
  },
  {
   "cell_type": "code",
   "execution_count": null,
   "id": "4cd24a27",
   "metadata": {
    "execution": {
     "iopub.execute_input": "2021-06-24T14:58:21.174178Z",
     "iopub.status.busy": "2021-06-24T14:58:21.173795Z",
     "iopub.status.idle": "2021-06-24T14:58:21.183388Z",
     "shell.execute_reply": "2021-06-24T14:58:21.182999Z"
    }
   },
   "outputs": [],
   "source": [
    "result_folder = \"./example/notebooks/\"\n",
    "result_file_name = \"F_TimeStatistics\""
   ]
  },
  {
   "cell_type": "code",
   "execution_count": null,
   "id": "b95f36aa",
   "metadata": {
    "execution": {
     "iopub.execute_input": "2021-06-24T14:58:21.185761Z",
     "iopub.status.busy": "2021-06-24T14:58:21.185392Z",
     "iopub.status.idle": "2021-06-24T14:58:21.201399Z",
     "shell.execute_reply": "2021-06-24T14:58:21.201078Z"
    }
   },
   "outputs": [],
   "source": [
    "project_folder_name = \"../\"\n",
    "project_parameter_file = \"config.yml\""
   ]
  },
  {
   "cell_type": "code",
   "execution_count": null,
   "id": "48441fb8",
   "metadata": {},
   "outputs": [],
   "source": [
    "# Just for local testing purposes \n",
    "#project_folder_name = \"./example/\""
   ]
  },
  {
   "cell_type": "code",
   "execution_count": null,
   "id": "7155eeb8",
   "metadata": {
    "execution": {
     "iopub.execute_input": "2021-06-24T14:58:21.203660Z",
     "iopub.status.busy": "2021-06-24T14:58:21.203204Z",
     "iopub.status.idle": "2021-06-24T14:58:21.215628Z",
     "shell.execute_reply": "2021-06-24T14:58:21.215288Z"
    }
   },
   "outputs": [],
   "source": [
    "request_params = YAML_RequestDefinition(project_folder_name+project_parameter_file)\n",
    "print(request_params.parameters.project_folder)"
   ]
  },
  {
   "cell_type": "code",
   "execution_count": null,
   "id": "f62e9641",
   "metadata": {},
   "outputs": [],
   "source": [
    "path = PurePath(os.getcwd())\n",
    "if path.name == \"notebooks\":\n",
    "    print(os.getcwd())\n",
    "    os.chdir(\"../../\")\n",
    "    print(os.getcwd())"
   ]
  },
  {
   "cell_type": "code",
   "execution_count": null,
   "id": "9205ab6e",
   "metadata": {},
   "outputs": [],
   "source": [
    "dh = DataHandler(request_params.parameters.project_folder)"
   ]
  },
  {
   "cell_type": "code",
   "execution_count": null,
   "id": "a248872d",
   "metadata": {},
   "outputs": [],
   "source": [
    "dh.raw_pdCommits['team'] =  dh.raw_pdCommits['repo_name'].apply(aux.getTeamName)"
   ]
  },
  {
   "cell_type": "code",
   "execution_count": null,
   "id": "3bc29550",
   "metadata": {},
   "outputs": [],
   "source": [
    "anonym_pdCommits = dh.raw_pdCommits\n",
    "anonym_pdCommits['days'] = anonym_pdCommits.commited_at.dt.dayofweek\n",
    "anonym_pdCommits['hours'] = anonym_pdCommits.commited_at.dt.hour\n",
    "fig, ax = plt.subplots(figsize=(18,6))\n",
    "y_axis_labels = ['Montag', 'Dienstag', 'Mittwoch', 'Donnerstag', 'Freitag', 'Sonnabend', 'Sonntag']\n",
    "\n",
    "g = sns.heatmap(anonym_pdCommits.groupby(['days', 'hours'])['commited_at']\\\n",
    "                                             .count()\\\n",
    "                                             .unstack(), \n",
    "            annot=True, yticklabels=y_axis_labels, ax=ax)\n",
    "\n",
    "plt.savefig(result_folder + result_file_name +'.png', dpi=400)\n",
    "plt.show()"
   ]
  },
  {
   "cell_type": "code",
   "execution_count": null,
   "id": "c865d004",
   "metadata": {},
   "outputs": [],
   "source": []
  }
 ],
 "metadata": {
  "interpreter": {
   "hash": "cab5110823f2123256dd3865d0cc139994b41dbc253d281a2185f480080b4372"
  },
  "kernelspec": {
   "display_name": "Python 3.9.12 ('GitHubClassroomTutorFeedback-0MA8VVWg')",
   "language": "python",
   "name": "python3"
  },
  "language_info": {
   "codemirror_mode": {
    "name": "ipython",
    "version": 3
   },
   "file_extension": ".py",
   "mimetype": "text/x-python",
   "name": "python",
   "nbconvert_exporter": "python",
   "pygments_lexer": "ipython3",
   "version": "3.9.12"
  }
 },
 "nbformat": 4,
 "nbformat_minor": 5
}
