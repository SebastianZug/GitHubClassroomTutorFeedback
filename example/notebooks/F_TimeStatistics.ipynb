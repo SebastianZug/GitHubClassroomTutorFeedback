{
 "cells": [
  {
   "cell_type": "markdown",
   "metadata": {},
   "source": [
    "# Feedback for tutors"
   ]
  },
  {
   "cell_type": "code",
   "execution_count": null,
   "metadata": {
    "execution": {
     "iopub.execute_input": "2021-06-24T14:58:15.801584Z",
     "iopub.status.busy": "2021-06-24T14:58:15.801196Z",
     "iopub.status.idle": "2021-06-24T14:58:16.708231Z",
     "shell.execute_reply": "2021-06-24T14:58:16.707779Z"
    }
   },
   "outputs": [],
   "source": [
    "from github2pandas.utility import Utility\n",
    "from pathlib import Path, PurePath\n",
    "import matplotlib.pyplot as plt\n",
    "import seaborn as sns\n",
    "import pandas as pd\n",
    "import time\n",
    "import os\n",
    "import sys\n",
    "sys.path.append(os.path.join(sys.path[0],'..','..','GithubActivities'))\n",
    "from DataHandling import DataManager\n",
    "%load_ext autoreload\n",
    "%autoreload 2"
   ]
  },
  {
   "cell_type": "code",
   "execution_count": null,
   "metadata": {
    "execution": {
     "iopub.execute_input": "2021-06-24T14:58:16.711021Z",
     "iopub.status.busy": "2021-06-24T14:58:16.710625Z",
     "iopub.status.idle": "2021-06-24T14:58:16.722677Z",
     "shell.execute_reply": "2021-06-24T14:58:16.723005Z"
    }
   },
   "outputs": [],
   "source": [
    "path = PurePath(os.getcwd())\n",
    "if path.name == \"notebooks\":\n",
    "    print(os.getcwd())\n",
    "    os.chdir(\"../../\")\n",
    "    print(os.getcwd())"
   ]
  },
  {
   "cell_type": "code",
   "execution_count": null,
   "metadata": {
    "execution": {
     "iopub.execute_input": "2021-06-24T14:58:16.725390Z",
     "iopub.status.busy": "2021-06-24T14:58:16.725014Z",
     "iopub.status.idle": "2021-06-24T14:58:16.742590Z",
     "shell.execute_reply": "2021-06-24T14:58:16.742241Z"
    }
   },
   "outputs": [],
   "source": [
    "project_folder_name = \"./example/\"\n",
    "project_parameter_file = \"parameter.yml\"\n",
    "\n",
    "dataHandler = DataManager(project_folder_name + project_parameter_file)"
   ]
  },
  {
   "cell_type": "code",
   "execution_count": null,
   "metadata": {
    "execution": {
     "iopub.execute_input": "2021-06-24T14:58:16.744924Z",
     "iopub.status.busy": "2021-06-24T14:58:16.744528Z",
     "iopub.status.idle": "2021-06-24T14:58:16.757469Z",
     "shell.execute_reply": "2021-06-24T14:58:16.757778Z"
    }
   },
   "outputs": [],
   "source": [
    "result_folder = \"./example/notebooks/\"\n",
    "result_file_name = \"F_TimeStatistics\""
   ]
  },
  {
   "cell_type": "code",
   "execution_count": null,
   "metadata": {
    "execution": {
     "iopub.execute_input": "2021-06-24T14:58:16.760722Z",
     "iopub.status.busy": "2021-06-24T14:58:16.760353Z",
     "iopub.status.idle": "2021-06-24T14:58:16.778312Z",
     "shell.execute_reply": "2021-06-24T14:58:16.777968Z"
    }
   },
   "outputs": [],
   "source": [
    "anonym_pdCommits = dataHandler.unpickle_From_Preproc_Data_Folder(\"anonym_pdCommits.p\")\n",
    "anonym_pdReleases = dataHandler.unpickle_From_Preproc_Data_Folder(\"anonym_pdReleases.p\")\n",
    "anonym_pdEdits = dataHandler.unpickle_From_Preproc_Data_Folder(\"anonym_pdEdits.p\")\n",
    "anonym_pdIssues = dataHandler.unpickle_From_Preproc_Data_Folder(\"anonym_pdIssues.p\")\n",
    "anonym_pdBranches = dataHandler.unpickle_From_Preproc_Data_Folder(\"anonym_pdBranches.p\")\n",
    "anonym_pdPullRequests = dataHandler.unpickle_From_Preproc_Data_Folder(\"anonym_pdPullRequests.p\")\n",
    "teams_dict = dataHandler.unpickle_From_Preproc_Data_Folder(\"teams_dict.p\")"
   ]
  },
  {
   "cell_type": "code",
   "execution_count": null,
   "metadata": {
    "execution": {
     "iopub.execute_input": "2021-06-24T14:58:16.782056Z",
     "iopub.status.busy": "2021-06-24T14:58:16.781516Z",
     "iopub.status.idle": "2021-06-24T14:58:17.925038Z",
     "shell.execute_reply": "2021-06-24T14:58:17.924672Z"
    }
   },
   "outputs": [],
   "source": [
    "anonym_pdCommits['days'] = anonym_pdCommits.commited_at.dt.dayofweek\n",
    "anonym_pdCommits['hours'] = anonym_pdCommits.commited_at.dt.hour\n",
    "fig, ax = plt.subplots(figsize=(18,6))\n",
    "y_axis_labels = ['Montag', 'Dienstag', 'Mittwoch', 'Donnerstag', 'Freitag', 'Sonnabend', 'Sonntag']\n",
    "\n",
    "g = sns.heatmap(anonym_pdCommits[anonym_pdCommits.commiter_role != 'github']\\\n",
    "                                             .groupby(['days', 'hours'])['commited_at']\\\n",
    "                                             .count()\\\n",
    "                                             .unstack(), \n",
    "            annot=True, yticklabels=y_axis_labels, ax=ax)\n",
    "\n",
    "plt.savefig(result_folder + result_file_name +'.png', dpi=400)\n",
    "plt.show()"
   ]
  },
  {
   "cell_type": "code",
   "execution_count": null,
   "metadata": {},
   "outputs": [],
   "source": []
  }
 ],
 "metadata": {
  "kernelspec": {
   "display_name": "My Great Env",
   "language": "python",
   "name": "mygreatenv"
  },
  "language_info": {
   "codemirror_mode": {
    "name": "ipython",
    "version": 3
   },
   "file_extension": ".py",
   "mimetype": "text/x-python",
   "name": "python",
   "nbconvert_exporter": "python",
   "pygments_lexer": "ipython3",
   "version": "3.8.5"
  }
 },
 "nbformat": 4,
 "nbformat_minor": 5
}