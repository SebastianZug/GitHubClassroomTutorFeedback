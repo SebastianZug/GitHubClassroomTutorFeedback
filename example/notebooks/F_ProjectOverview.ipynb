{
 "cells": [
  {
   "cell_type": "markdown",
   "metadata": {},
   "source": [
    "# Feedback for tutors"
   ]
  },
  {
   "cell_type": "code",
   "execution_count": null,
   "metadata": {
    "execution": {
     "iopub.execute_input": "2021-06-24T14:58:20.818028Z",
     "iopub.status.busy": "2021-06-24T14:58:20.817637Z",
     "iopub.status.idle": "2021-06-24T14:58:21.171369Z",
     "shell.execute_reply": "2021-06-24T14:58:21.170890Z"
    }
   },
   "outputs": [],
   "source": [
    "from github2pandas.utility import Utility\n",
    "from pathlib import Path, PurePath\n",
    "import pandas as pd\n",
    "import os\n",
    "import sys\n",
    "sys.path.append(os.path.join(sys.path[0],'..','..','GithubActivities'))\n",
    "from DataHandling import DataManager\n",
    "%load_ext autoreload\n",
    "%autoreload 2"
   ]
  },
  {
   "cell_type": "code",
   "execution_count": null,
   "metadata": {
    "execution": {
     "iopub.execute_input": "2021-06-24T14:58:21.174178Z",
     "iopub.status.busy": "2021-06-24T14:58:21.173795Z",
     "iopub.status.idle": "2021-06-24T14:58:21.183388Z",
     "shell.execute_reply": "2021-06-24T14:58:21.182999Z"
    }
   },
   "outputs": [],
   "source": [
    "path = PurePath(os.getcwd())\n",
    "if path.name == \"notebooks\":\n",
    "    print(os.getcwd())\n",
    "    os.chdir(\"../../\")\n",
    "    print(os.getcwd())"
   ]
  },
  {
   "cell_type": "code",
   "execution_count": null,
   "metadata": {
    "execution": {
     "iopub.execute_input": "2021-06-24T14:58:21.185761Z",
     "iopub.status.busy": "2021-06-24T14:58:21.185392Z",
     "iopub.status.idle": "2021-06-24T14:58:21.201399Z",
     "shell.execute_reply": "2021-06-24T14:58:21.201078Z"
    }
   },
   "outputs": [],
   "source": [
    "project_folder_name = \"./example/\"\n",
    "project_parameter_file = \"parameter.yml\"\n",
    "\n",
    "dataHandler = DataManager(project_folder_name + project_parameter_file)"
   ]
  },
  {
   "cell_type": "code",
   "execution_count": null,
   "metadata": {
    "execution": {
     "iopub.execute_input": "2021-06-24T14:58:21.203660Z",
     "iopub.status.busy": "2021-06-24T14:58:21.203204Z",
     "iopub.status.idle": "2021-06-24T14:58:21.215628Z",
     "shell.execute_reply": "2021-06-24T14:58:21.215288Z"
    }
   },
   "outputs": [],
   "source": [
    "result_folder = \"./example/notebooks/\"\n",
    "result_file_name = \"F_ProjectOverview\""
   ]
  },
  {
   "cell_type": "code",
   "execution_count": null,
   "metadata": {
    "execution": {
     "iopub.execute_input": "2021-06-24T14:58:21.218153Z",
     "iopub.status.busy": "2021-06-24T14:58:21.217792Z",
     "iopub.status.idle": "2021-06-24T14:58:21.234870Z",
     "shell.execute_reply": "2021-06-24T14:58:21.234460Z"
    }
   },
   "outputs": [],
   "source": [
    "anonym_pdCommits = dataHandler.unpickle_From_Preproc_Data_Folder(\"anonym_pdCommits.p\")\n",
    "anonym_pdReleases = dataHandler.unpickle_From_Preproc_Data_Folder(\"anonym_pdReleases.p\")\n",
    "anonym_pdEdits = dataHandler.unpickle_From_Preproc_Data_Folder(\"anonym_pdEdits.p\")\n",
    "anonym_pdIssues = dataHandler.unpickle_From_Preproc_Data_Folder(\"anonym_pdIssues.p\")\n",
    "anonym_pdBranches = dataHandler.unpickle_From_Preproc_Data_Folder(\"anonym_pdBranches.p\")\n",
    "anonym_pdPullRequests = dataHandler.unpickle_From_Preproc_Data_Folder(\"anonym_pdPullRequests.p\")\n",
    "teams_dict = dataHandler.unpickle_From_Preproc_Data_Folder(\"teams_dict.p\")"
   ]
  },
  {
   "cell_type": "markdown",
   "metadata": {},
   "source": [
    "## Working activities"
   ]
  },
  {
   "cell_type": "code",
   "execution_count": null,
   "metadata": {
    "execution": {
     "iopub.execute_input": "2021-06-24T14:58:21.237392Z",
     "iopub.status.busy": "2021-06-24T14:58:21.237027Z",
     "iopub.status.idle": "2021-06-24T14:58:21.246136Z",
     "shell.execute_reply": "2021-06-24T14:58:21.245794Z"
    }
   },
   "outputs": [],
   "source": [
    "results = pd.DataFrame()\n",
    "inv_teams_dict = {teams_dict[k] : k for k in teams_dict}"
   ]
  },
  {
   "cell_type": "code",
   "execution_count": null,
   "metadata": {
    "execution": {
     "iopub.execute_input": "2021-06-24T14:58:21.250225Z",
     "iopub.status.busy": "2021-06-24T14:58:21.249826Z",
     "iopub.status.idle": "2021-06-24T14:58:21.310827Z",
     "shell.execute_reply": "2021-06-24T14:58:21.310460Z"
    }
   },
   "outputs": [],
   "source": [
    "results['Team'] = \"\"\n",
    "results['Commits'] = 0\n",
    "results['Branches'] = 0\n",
    "results['Issues'] = 0\n",
    "results['PullRequests'] = 0\n",
    "results['Releases'] = 0\n",
    "\n",
    "for team_id in range(len(teams_dict)):\n",
    "    results.loc[team_id, 'Team'] = inv_teams_dict[team_id]\n",
    "    results.loc[team_id, 'Commits'] = anonym_pdCommits[anonym_pdCommits.teamKey == team_id].commit_sha.count()\n",
    "    results.loc[team_id, 'Branches'] = anonym_pdBranches[anonym_pdBranches.teamKey == team_id].branch_names.count()\n",
    "    results.loc[team_id, 'Issues'] = anonym_pdIssues[anonym_pdIssues.teamKey == team_id].task.count()\n",
    "    results.loc[team_id, 'PullRequests'] = anonym_pdPullRequests[anonym_pdPullRequests.teamKey == team_id].id.count()\n",
    "    results.loc[team_id, 'Releases'] = anonym_pdReleases[anonym_pdReleases.teamKey == team_id].team.count()"
   ]
  },
  {
   "cell_type": "code",
   "execution_count": null,
   "metadata": {
    "execution": {
     "iopub.execute_input": "2021-06-24T14:58:21.327619Z",
     "iopub.status.busy": "2021-06-24T14:58:21.327239Z",
     "iopub.status.idle": "2021-06-24T14:58:21.337719Z",
     "shell.execute_reply": "2021-06-24T14:58:21.338042Z"
    }
   },
   "outputs": [],
   "source": [
    "with open(result_folder + result_file_name + '.txt', 'w') as f:\n",
    "    f.write(results.to_markdown())"
   ]
  }
 ],
 "metadata": {
  "kernelspec": {
   "display_name": "My Great Env",
   "language": "python",
   "name": "mygreatenv"
  },
  "language_info": {
   "codemirror_mode": {
    "name": "ipython",
    "version": 3
   },
   "file_extension": ".py",
   "mimetype": "text/x-python",
   "name": "python",
   "nbconvert_exporter": "python",
   "pygments_lexer": "ipython3",
   "version": "3.8.5"
  }
 },
 "nbformat": 4,
 "nbformat_minor": 5
}