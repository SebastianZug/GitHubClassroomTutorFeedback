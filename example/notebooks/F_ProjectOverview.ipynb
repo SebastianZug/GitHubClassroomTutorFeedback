{
 "cells": [
  {
   "cell_type": "markdown",
   "id": "4215506f",
   "metadata": {},
   "source": [
    "# Generate project overview"
   ]
  },
  {
   "cell_type": "code",
   "execution_count": null,
   "id": "ab08eda8",
   "metadata": {},
   "outputs": [],
   "source": [
    "import pandas as pd\n",
    "from pathlib import Path, PurePath\n",
    "import os\n",
    "import sys"
   ]
  },
  {
   "cell_type": "code",
   "execution_count": null,
   "id": "36014c24",
   "metadata": {},
   "outputs": [],
   "source": [
    "from github2pandas_manager.config_parser import YAML_RequestDefinition\n",
    "import aux"
   ]
  },
  {
   "cell_type": "code",
   "execution_count": null,
   "id": "51b81287",
   "metadata": {},
   "outputs": [],
   "source": [
    "sys.path.append(os.path.join(sys.path[0],'..','..','FeedbackGeneration'))\n",
    "from DataHandler import DataHandler"
   ]
  },
  {
   "cell_type": "code",
   "execution_count": null,
   "id": "bbbfe615",
   "metadata": {
    "execution": {
     "iopub.execute_input": "2021-06-24T14:58:20.818028Z",
     "iopub.status.busy": "2021-06-24T14:58:20.817637Z",
     "iopub.status.idle": "2021-06-24T14:58:21.171369Z",
     "shell.execute_reply": "2021-06-24T14:58:21.170890Z"
    }
   },
   "outputs": [],
   "source": [
    "%load_ext autoreload\n",
    "%autoreload 2"
   ]
  },
  {
   "cell_type": "code",
   "execution_count": null,
   "id": "4cd24a27",
   "metadata": {
    "execution": {
     "iopub.execute_input": "2021-06-24T14:58:21.174178Z",
     "iopub.status.busy": "2021-06-24T14:58:21.173795Z",
     "iopub.status.idle": "2021-06-24T14:58:21.183388Z",
     "shell.execute_reply": "2021-06-24T14:58:21.182999Z"
    }
   },
   "outputs": [],
   "source": [
    "result_folder = \"./example/notebooks/\"\n",
    "result_file_name = \"F_ProjectOverview\""
   ]
  },
  {
   "cell_type": "code",
   "execution_count": null,
   "id": "b95f36aa",
   "metadata": {
    "execution": {
     "iopub.execute_input": "2021-06-24T14:58:21.185761Z",
     "iopub.status.busy": "2021-06-24T14:58:21.185392Z",
     "iopub.status.idle": "2021-06-24T14:58:21.201399Z",
     "shell.execute_reply": "2021-06-24T14:58:21.201078Z"
    }
   },
   "outputs": [],
   "source": [
    "project_folder_name = \"../\"\n",
    "project_parameter_file = \"config.yml\""
   ]
  },
  {
   "cell_type": "code",
   "execution_count": null,
   "id": "74f8adac",
   "metadata": {},
   "outputs": [],
   "source": [
    "# Just for local testing purposes \n",
    "#project_folder_name = \"./example/\""
   ]
  },
  {
   "cell_type": "code",
   "execution_count": null,
   "id": "7155eeb8",
   "metadata": {
    "execution": {
     "iopub.execute_input": "2021-06-24T14:58:21.203660Z",
     "iopub.status.busy": "2021-06-24T14:58:21.203204Z",
     "iopub.status.idle": "2021-06-24T14:58:21.215628Z",
     "shell.execute_reply": "2021-06-24T14:58:21.215288Z"
    }
   },
   "outputs": [],
   "source": [
    "request_params = YAML_RequestDefinition(project_folder_name+project_parameter_file)\n",
    "print(request_params.parameters.project_folder)"
   ]
  },
  {
   "cell_type": "code",
   "execution_count": null,
   "id": "f62e9641",
   "metadata": {},
   "outputs": [],
   "source": [
    "path = PurePath(os.getcwd())\n",
    "if path.name == \"notebooks\":\n",
    "    print(os.getcwd())\n",
    "    os.chdir(\"../../\")\n",
    "    print(os.getcwd())"
   ]
  },
  {
   "cell_type": "code",
   "execution_count": null,
   "id": "9205ab6e",
   "metadata": {},
   "outputs": [],
   "source": [
    "dh = DataHandler(request_params.parameters.project_folder)"
   ]
  },
  {
   "cell_type": "code",
   "execution_count": null,
   "id": "a248872d",
   "metadata": {},
   "outputs": [],
   "source": [
    "dh.raw_pdCommits['team'] =  dh.raw_pdCommits['repo_name'].apply(aux.getTeamName)\n",
    "dh.raw_pdEdits['team'] =  dh.raw_pdEdits['repo_name'].apply(aux.getTeamName)\n",
    "dh.raw_pdIssues['team'] =  dh.raw_pdIssues['repo_name'].apply(aux.getTeamName)\n",
    "dh.raw_pdRepositories['team'] =  dh.raw_pdRepositories['repo_name'].apply(aux.getTeamName)\n",
    "dh.raw_pdPullRequests['team'] =  dh.raw_pdPullRequests['repo_name'].apply(aux.getTeamName)\n",
    "dh.raw_pdReleases['team'] =  dh.raw_pdReleases['repo_name'].apply(aux.getTeamName)"
   ]
  },
  {
   "cell_type": "code",
   "execution_count": null,
   "id": "3bc29550",
   "metadata": {},
   "outputs": [],
   "source": [
    "teams = dh.raw_pdRepositories['team'].unique()\n",
    "print(teams)"
   ]
  },
  {
   "cell_type": "code",
   "execution_count": null,
   "id": "7746bcce",
   "metadata": {},
   "outputs": [],
   "source": [
    "dh.raw_pdIssues"
   ]
  },
  {
   "cell_type": "markdown",
   "id": "2cc7b670",
   "metadata": {},
   "source": [
    "## Working activities"
   ]
  },
  {
   "cell_type": "code",
   "execution_count": null,
   "id": "4f65b458",
   "metadata": {
    "execution": {
     "iopub.execute_input": "2021-06-24T14:58:21.250225Z",
     "iopub.status.busy": "2021-06-24T14:58:21.249826Z",
     "iopub.status.idle": "2021-06-24T14:58:21.310827Z",
     "shell.execute_reply": "2021-06-24T14:58:21.310460Z"
    }
   },
   "outputs": [],
   "source": [
    "results = []\n",
    "\n",
    "for team in teams:\n",
    "    result = {}  \n",
    "    result['Team name'] = team\n",
    "    result['Commit count'] = dh.raw_pdCommits[dh.raw_pdCommits.team == team].commit_sha.count()\n",
    "    #result[]'Branches'] = dh.raw_pdBranches[dh.raw_pdBranches.teamKey == team_id].branch_names.count()\n",
    "    result['Issues'] = dh.raw_pdIssues[dh.raw_pdIssues.team == team].shape[0]\n",
    "    result['PullRequests'] = dh.raw_pdPullRequests[dh.raw_pdPullRequests.team == team].shape[0]\n",
    "    result['Releases'] = dh.raw_pdReleases[dh.raw_pdReleases.team == team].shape[0]\n",
    "    results.append(result)\n",
    "    \n",
    "pdResults = pd.DataFrame(results)"
   ]
  },
  {
   "cell_type": "code",
   "execution_count": null,
   "id": "b9fc01c6",
   "metadata": {},
   "outputs": [],
   "source": [
    "pdResults['Team name'] = \"`\" + pdResults['Team name'] + \"`\" "
   ]
  },
  {
   "cell_type": "code",
   "execution_count": null,
   "id": "4f28195e",
   "metadata": {},
   "outputs": [],
   "source": [
    "pdResults"
   ]
  },
  {
   "cell_type": "code",
   "execution_count": null,
   "id": "94dda1a6",
   "metadata": {
    "execution": {
     "iopub.execute_input": "2021-06-24T14:58:21.327619Z",
     "iopub.status.busy": "2021-06-24T14:58:21.327239Z",
     "iopub.status.idle": "2021-06-24T14:58:21.337719Z",
     "shell.execute_reply": "2021-06-24T14:58:21.338042Z"
    }
   },
   "outputs": [],
   "source": [
    "with open(result_folder + result_file_name + '.txt', 'w') as f:\n",
    "    f.write(pdResults.to_markdown())"
   ]
  },
  {
   "cell_type": "code",
   "execution_count": null,
   "id": "c865d004",
   "metadata": {},
   "outputs": [],
   "source": []
  }
 ],
 "metadata": {
  "interpreter": {
   "hash": "cab5110823f2123256dd3865d0cc139994b41dbc253d281a2185f480080b4372"
  },
  "kernelspec": {
   "display_name": "Python 3.9.12 ('GitHubClassroomTutorFeedback-0MA8VVWg')",
   "language": "python",
   "name": "python3"
  },
  "language_info": {
   "codemirror_mode": {
    "name": "ipython",
    "version": 3
   },
   "file_extension": ".py",
   "mimetype": "text/x-python",
   "name": "python",
   "nbconvert_exporter": "python",
   "pygments_lexer": "ipython3",
   "version": "3.9.12"
  }
 },
 "nbformat": 4,
 "nbformat_minor": 5
}
