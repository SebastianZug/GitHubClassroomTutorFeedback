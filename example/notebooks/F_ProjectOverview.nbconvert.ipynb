{
 "cells": [
  {
   "cell_type": "markdown",
   "id": "4215506f",
   "metadata": {},
   "source": [
    "# Generate project overview"
   ]
  },
  {
   "cell_type": "code",
   "execution_count": 1,
   "id": "ab08eda8",
   "metadata": {
    "execution": {
     "iopub.execute_input": "2022-05-31T07:54:57.084279Z",
     "iopub.status.busy": "2022-05-31T07:54:57.084090Z",
     "iopub.status.idle": "2022-05-31T07:54:57.248714Z",
     "shell.execute_reply": "2022-05-31T07:54:57.248260Z"
    }
   },
   "outputs": [],
   "source": [
    "import pandas as pd\n",
    "from pathlib import Path, PurePath\n",
    "import os\n",
    "import sys"
   ]
  },
  {
   "cell_type": "code",
   "execution_count": 2,
   "id": "36014c24",
   "metadata": {
    "execution": {
     "iopub.execute_input": "2022-05-31T07:54:57.250956Z",
     "iopub.status.busy": "2022-05-31T07:54:57.250747Z",
     "iopub.status.idle": "2022-05-31T07:54:57.302423Z",
     "shell.execute_reply": "2022-05-31T07:54:57.302057Z"
    }
   },
   "outputs": [],
   "source": [
    "from github2pandas_manager.config_parser import YAML_RequestDefinition\n",
    "import aux"
   ]
  },
  {
   "cell_type": "code",
   "execution_count": 3,
   "id": "51b81287",
   "metadata": {
    "execution": {
     "iopub.execute_input": "2022-05-31T07:54:57.304742Z",
     "iopub.status.busy": "2022-05-31T07:54:57.304537Z",
     "iopub.status.idle": "2022-05-31T07:54:57.307235Z",
     "shell.execute_reply": "2022-05-31T07:54:57.306926Z"
    }
   },
   "outputs": [],
   "source": [
    "sys.path.append(os.path.join(sys.path[0],'..','..','FeedbackGeneration'))\n",
    "from DataHandler import DataHandler"
   ]
  },
  {
   "cell_type": "code",
   "execution_count": 4,
   "id": "bbbfe615",
   "metadata": {
    "execution": {
     "iopub.execute_input": "2022-05-31T07:54:57.308834Z",
     "iopub.status.busy": "2022-05-31T07:54:57.308655Z",
     "iopub.status.idle": "2022-05-31T07:54:57.317832Z",
     "shell.execute_reply": "2022-05-31T07:54:57.317525Z"
    }
   },
   "outputs": [],
   "source": [
    "%load_ext autoreload\n",
    "%autoreload 2"
   ]
  },
  {
   "cell_type": "code",
   "execution_count": 5,
   "id": "4cd24a27",
   "metadata": {
    "execution": {
     "iopub.execute_input": "2022-05-31T07:54:57.319409Z",
     "iopub.status.busy": "2022-05-31T07:54:57.319271Z",
     "iopub.status.idle": "2022-05-31T07:54:57.326649Z",
     "shell.execute_reply": "2022-05-31T07:54:57.326244Z"
    }
   },
   "outputs": [],
   "source": [
    "result_folder = \"./example/notebooks/\"\n",
    "result_file_name = \"F_ProjectOverview\""
   ]
  },
  {
   "cell_type": "code",
   "execution_count": 6,
   "id": "b95f36aa",
   "metadata": {
    "execution": {
     "iopub.execute_input": "2022-05-31T07:54:57.328536Z",
     "iopub.status.busy": "2022-05-31T07:54:57.328377Z",
     "iopub.status.idle": "2022-05-31T07:54:57.335482Z",
     "shell.execute_reply": "2022-05-31T07:54:57.335173Z"
    }
   },
   "outputs": [],
   "source": [
    "project_folder_name = \"../\"\n",
    "project_parameter_file = \"config.yml\""
   ]
  },
  {
   "cell_type": "code",
   "execution_count": 7,
   "id": "74f8adac",
   "metadata": {
    "execution": {
     "iopub.execute_input": "2022-05-31T07:54:57.337026Z",
     "iopub.status.busy": "2022-05-31T07:54:57.336885Z",
     "iopub.status.idle": "2022-05-31T07:54:57.344640Z",
     "shell.execute_reply": "2022-05-31T07:54:57.344078Z"
    }
   },
   "outputs": [],
   "source": [
    "# Just for local testing purposes \n",
    "#project_folder_name = \"./example/\""
   ]
  },
  {
   "cell_type": "code",
   "execution_count": 8,
   "id": "7155eeb8",
   "metadata": {
    "execution": {
     "iopub.execute_input": "2022-05-31T07:54:57.347039Z",
     "iopub.status.busy": "2022-05-31T07:54:57.346795Z",
     "iopub.status.idle": "2022-05-31T07:54:57.356900Z",
     "shell.execute_reply": "2022-05-31T07:54:57.356539Z"
    }
   },
   "outputs": [
    {
     "name": "stdout",
     "output_type": "stream",
     "text": [
      "./example/data/TaskExamples\n"
     ]
    }
   ],
   "source": [
    "request_params = YAML_RequestDefinition(project_folder_name+project_parameter_file)\n",
    "print(request_params.parameters.project_folder)"
   ]
  },
  {
   "cell_type": "code",
   "execution_count": 9,
   "id": "f62e9641",
   "metadata": {
    "execution": {
     "iopub.execute_input": "2022-05-31T07:54:57.358492Z",
     "iopub.status.busy": "2022-05-31T07:54:57.358324Z",
     "iopub.status.idle": "2022-05-31T07:54:57.366473Z",
     "shell.execute_reply": "2022-05-31T07:54:57.366142Z"
    }
   },
   "outputs": [
    {
     "name": "stdout",
     "output_type": "stream",
     "text": [
      "/home/zug/Desktop/github2pandas/GitHubClassroomTutorFeedback/example/notebooks\n",
      "/home/zug/Desktop/github2pandas/GitHubClassroomTutorFeedback\n"
     ]
    }
   ],
   "source": [
    "path = PurePath(os.getcwd())\n",
    "if path.name == \"notebooks\":\n",
    "    print(os.getcwd())\n",
    "    os.chdir(\"../../\")\n",
    "    print(os.getcwd())"
   ]
  },
  {
   "cell_type": "code",
   "execution_count": 10,
   "id": "9205ab6e",
   "metadata": {
    "execution": {
     "iopub.execute_input": "2022-05-31T07:54:57.368041Z",
     "iopub.status.busy": "2022-05-31T07:54:57.367894Z",
     "iopub.status.idle": "2022-05-31T07:54:57.377468Z",
     "shell.execute_reply": "2022-05-31T07:54:57.377121Z"
    }
   },
   "outputs": [
    {
     "name": "stdout",
     "output_type": "stream",
     "text": [
      "example/data/TaskExamples\n"
     ]
    }
   ],
   "source": [
    "dh = DataHandler(request_params.parameters.project_folder)"
   ]
  },
  {
   "cell_type": "code",
   "execution_count": 11,
   "id": "a248872d",
   "metadata": {
    "execution": {
     "iopub.execute_input": "2022-05-31T07:54:57.379082Z",
     "iopub.status.busy": "2022-05-31T07:54:57.378911Z",
     "iopub.status.idle": "2022-05-31T07:54:57.389879Z",
     "shell.execute_reply": "2022-05-31T07:54:57.389522Z"
    }
   },
   "outputs": [],
   "source": [
    "dh.raw_pdCommits['team'] =  dh.raw_pdCommits['repo_name'].apply(aux.getTeamName)\n",
    "dh.raw_pdEdits['team'] =  dh.raw_pdEdits['repo_name'].apply(aux.getTeamName)\n",
    "dh.raw_pdIssues['team'] =  dh.raw_pdIssues['repo_name'].apply(aux.getTeamName)\n",
    "dh.raw_pdRepositories['team'] =  dh.raw_pdRepositories['repo_name'].apply(aux.getTeamName)\n",
    "dh.raw_pdPullRequests['team'] =  dh.raw_pdPullRequests['repo_name'].apply(aux.getTeamName)\n",
    "dh.raw_pdReleases['team'] =  dh.raw_pdReleases['repo_name'].apply(aux.getTeamName)"
   ]
  },
  {
   "cell_type": "code",
   "execution_count": 12,
   "id": "3bc29550",
   "metadata": {
    "execution": {
     "iopub.execute_input": "2022-05-31T07:54:57.391754Z",
     "iopub.status.busy": "2022-05-31T07:54:57.391605Z",
     "iopub.status.idle": "2022-05-31T07:54:57.399796Z",
     "shell.execute_reply": "2022-05-31T07:54:57.399438Z"
    }
   },
   "outputs": [
    {
     "name": "stdout",
     "output_type": "stream",
     "text": [
      "['andre_und_sebastian1' 'galina_und_jonas' 'nico_und_baldur']\n"
     ]
    }
   ],
   "source": [
    "teams = dh.raw_pdRepositories['team'].unique()\n",
    "print(teams)"
   ]
  },
  {
   "cell_type": "code",
   "execution_count": 13,
   "id": "7746bcce",
   "metadata": {
    "execution": {
     "iopub.execute_input": "2022-05-31T07:54:57.401363Z",
     "iopub.status.busy": "2022-05-31T07:54:57.401209Z",
     "iopub.status.idle": "2022-05-31T07:54:57.419871Z",
     "shell.execute_reply": "2022-05-31T07:54:57.419516Z"
    }
   },
   "outputs": [
    {
     "data": {
      "text/html": [
       "<div>\n",
       "<style scoped>\n",
       "    .dataframe tbody tr th:only-of-type {\n",
       "        vertical-align: middle;\n",
       "    }\n",
       "\n",
       "    .dataframe tbody tr th {\n",
       "        vertical-align: top;\n",
       "    }\n",
       "\n",
       "    .dataframe thead th {\n",
       "        text-align: right;\n",
       "    }\n",
       "</style>\n",
       "<table border=\"1\" class=\"dataframe\">\n",
       "  <thead>\n",
       "    <tr style=\"text-align: right;\">\n",
       "      <th></th>\n",
       "      <th>assignees</th>\n",
       "      <th>body</th>\n",
       "      <th>closed_at</th>\n",
       "      <th>comments</th>\n",
       "      <th>created_at</th>\n",
       "      <th>id</th>\n",
       "      <th>labels</th>\n",
       "      <th>locked</th>\n",
       "      <th>active_lock_reason</th>\n",
       "      <th>number</th>\n",
       "      <th>state</th>\n",
       "      <th>title</th>\n",
       "      <th>updated_at</th>\n",
       "      <th>url</th>\n",
       "      <th>author</th>\n",
       "      <th>is_pull_request</th>\n",
       "      <th>repo_name</th>\n",
       "      <th>team</th>\n",
       "    </tr>\n",
       "  </thead>\n",
       "  <tbody>\n",
       "    <tr>\n",
       "      <th>0</th>\n",
       "      <td>[open-young-friend-night]</td>\n",
       "      <td>transfer txt content to markdown</td>\n",
       "      <td>2021-07-05 09:04:09</td>\n",
       "      <td>0</td>\n",
       "      <td>2021-07-05 07:54:30</td>\n",
       "      <td>936801424</td>\n",
       "      <td>[]</td>\n",
       "      <td>False</td>\n",
       "      <td>None</td>\n",
       "      <td>1</td>\n",
       "      <td>closed</td>\n",
       "      <td>txt_to_md</td>\n",
       "      <td>2021-07-05 09:04:09</td>\n",
       "      <td>https://api.github.com/repos/Ifi-Softwareentwi...</td>\n",
       "      <td>take-certain-word-end</td>\n",
       "      <td>False</td>\n",
       "      <td>softwareentwicklung_aufgabe3_sose2021_tutors-a...</td>\n",
       "      <td>andre_und_sebastian1</td>\n",
       "    </tr>\n",
       "    <tr>\n",
       "      <th>1</th>\n",
       "      <td>[]</td>\n",
       "      <td>Es sind noch mögliche Fehler enthalten ...</td>\n",
       "      <td>2021-07-05 09:04:09</td>\n",
       "      <td>3</td>\n",
       "      <td>2021-07-05 08:07:29</td>\n",
       "      <td>936813677</td>\n",
       "      <td>[]</td>\n",
       "      <td>False</td>\n",
       "      <td>None</td>\n",
       "      <td>2</td>\n",
       "      <td>closed</td>\n",
       "      <td>Adds example md-file (closes #1)</td>\n",
       "      <td>2021-07-05 09:04:13</td>\n",
       "      <td>https://api.github.com/repos/Ifi-Softwareentwi...</td>\n",
       "      <td>open-young-friend-night</td>\n",
       "      <td>True</td>\n",
       "      <td>softwareentwicklung_aufgabe3_sose2021_tutors-a...</td>\n",
       "      <td>andre_und_sebastian1</td>\n",
       "    </tr>\n",
       "    <tr>\n",
       "      <th>2</th>\n",
       "      <td>[happen-democratic-early-game]</td>\n",
       "      <td>Bitte eine neue Datei im md-Format mit dem Inh...</td>\n",
       "      <td>2021-06-29 12:09:07</td>\n",
       "      <td>0</td>\n",
       "      <td>2021-06-28 06:47:21</td>\n",
       "      <td>931231440</td>\n",
       "      <td>[]</td>\n",
       "      <td>False</td>\n",
       "      <td>None</td>\n",
       "      <td>1</td>\n",
       "      <td>closed</td>\n",
       "      <td>txt_to_md</td>\n",
       "      <td>2021-06-29 12:09:07</td>\n",
       "      <td>https://api.github.com/repos/Ifi-Softwareentwi...</td>\n",
       "      <td>expect-bring-medical-lot</td>\n",
       "      <td>False</td>\n",
       "      <td>softwareentwicklung_aufgabe3_sose2021_tutors-g...</td>\n",
       "      <td>galina_und_jonas</td>\n",
       "    </tr>\n",
       "    <tr>\n",
       "      <th>3</th>\n",
       "      <td>[]</td>\n",
       "      <td>This PR closes #1 and also adds a *HelloWorld*...</td>\n",
       "      <td>2021-06-29 12:09:07</td>\n",
       "      <td>2</td>\n",
       "      <td>2021-06-28 15:43:46</td>\n",
       "      <td>931708211</td>\n",
       "      <td>[]</td>\n",
       "      <td>False</td>\n",
       "      <td>None</td>\n",
       "      <td>2</td>\n",
       "      <td>closed</td>\n",
       "      <td>Markdown + HelloWorld</td>\n",
       "      <td>2021-06-29 12:09:07</td>\n",
       "      <td>https://api.github.com/repos/Ifi-Softwareentwi...</td>\n",
       "      <td>happen-democratic-early-game</td>\n",
       "      <td>True</td>\n",
       "      <td>softwareentwicklung_aufgabe3_sose2021_tutors-g...</td>\n",
       "      <td>galina_und_jonas</td>\n",
       "    </tr>\n",
       "    <tr>\n",
       "      <th>4</th>\n",
       "      <td>[may-live-short-lot]</td>\n",
       "      <td>Bitte CSharpBasics.txt zu CSharpBasics.md konv...</td>\n",
       "      <td>2021-07-09 11:16:36</td>\n",
       "      <td>0</td>\n",
       "      <td>2021-07-09 08:00:20</td>\n",
       "      <td>940520557</td>\n",
       "      <td>[good first issue]</td>\n",
       "      <td>False</td>\n",
       "      <td>None</td>\n",
       "      <td>1</td>\n",
       "      <td>closed</td>\n",
       "      <td>.txt zu .md konvertieren</td>\n",
       "      <td>2021-07-09 11:16:36</td>\n",
       "      <td>https://api.github.com/repos/Ifi-Softwareentwi...</td>\n",
       "      <td>serve-stay-cultural-reason</td>\n",
       "      <td>False</td>\n",
       "      <td>softwareentwicklung_aufgabe3_sose2021_tutors-n...</td>\n",
       "      <td>nico_und_baldur</td>\n",
       "    </tr>\n",
       "    <tr>\n",
       "      <th>5</th>\n",
       "      <td>[]</td>\n",
       "      <td>Insert useful comments here.</td>\n",
       "      <td>2021-07-09 11:16:37</td>\n",
       "      <td>0</td>\n",
       "      <td>2021-07-09 09:13:56</td>\n",
       "      <td>940578606</td>\n",
       "      <td>[]</td>\n",
       "      <td>False</td>\n",
       "      <td>None</td>\n",
       "      <td>2</td>\n",
       "      <td>closed</td>\n",
       "      <td>(#1) Creating and updating CSharpBasics.md</td>\n",
       "      <td>2021-07-09 11:17:34</td>\n",
       "      <td>https://api.github.com/repos/Ifi-Softwareentwi...</td>\n",
       "      <td>may-live-short-lot</td>\n",
       "      <td>True</td>\n",
       "      <td>softwareentwicklung_aufgabe3_sose2021_tutors-n...</td>\n",
       "      <td>nico_und_baldur</td>\n",
       "    </tr>\n",
       "  </tbody>\n",
       "</table>\n",
       "</div>"
      ],
      "text/plain": [
       "                        assignees  \\\n",
       "0       [open-young-friend-night]   \n",
       "1                              []   \n",
       "2  [happen-democratic-early-game]   \n",
       "3                              []   \n",
       "4            [may-live-short-lot]   \n",
       "5                              []   \n",
       "\n",
       "                                                body           closed_at  \\\n",
       "0                   transfer txt content to markdown 2021-07-05 09:04:09   \n",
       "1         Es sind noch mögliche Fehler enthalten ... 2021-07-05 09:04:09   \n",
       "2  Bitte eine neue Datei im md-Format mit dem Inh... 2021-06-29 12:09:07   \n",
       "3  This PR closes #1 and also adds a *HelloWorld*... 2021-06-29 12:09:07   \n",
       "4  Bitte CSharpBasics.txt zu CSharpBasics.md konv... 2021-07-09 11:16:36   \n",
       "5                       Insert useful comments here. 2021-07-09 11:16:37   \n",
       "\n",
       "   comments          created_at         id              labels  locked  \\\n",
       "0         0 2021-07-05 07:54:30  936801424                  []   False   \n",
       "1         3 2021-07-05 08:07:29  936813677                  []   False   \n",
       "2         0 2021-06-28 06:47:21  931231440                  []   False   \n",
       "3         2 2021-06-28 15:43:46  931708211                  []   False   \n",
       "4         0 2021-07-09 08:00:20  940520557  [good first issue]   False   \n",
       "5         0 2021-07-09 09:13:56  940578606                  []   False   \n",
       "\n",
       "  active_lock_reason  number   state  \\\n",
       "0               None       1  closed   \n",
       "1               None       2  closed   \n",
       "2               None       1  closed   \n",
       "3               None       2  closed   \n",
       "4               None       1  closed   \n",
       "5               None       2  closed   \n",
       "\n",
       "                                        title          updated_at  \\\n",
       "0                                   txt_to_md 2021-07-05 09:04:09   \n",
       "1            Adds example md-file (closes #1) 2021-07-05 09:04:13   \n",
       "2                                   txt_to_md 2021-06-29 12:09:07   \n",
       "3                       Markdown + HelloWorld 2021-06-29 12:09:07   \n",
       "4                    .txt zu .md konvertieren 2021-07-09 11:16:36   \n",
       "5  (#1) Creating and updating CSharpBasics.md 2021-07-09 11:17:34   \n",
       "\n",
       "                                                 url  \\\n",
       "0  https://api.github.com/repos/Ifi-Softwareentwi...   \n",
       "1  https://api.github.com/repos/Ifi-Softwareentwi...   \n",
       "2  https://api.github.com/repos/Ifi-Softwareentwi...   \n",
       "3  https://api.github.com/repos/Ifi-Softwareentwi...   \n",
       "4  https://api.github.com/repos/Ifi-Softwareentwi...   \n",
       "5  https://api.github.com/repos/Ifi-Softwareentwi...   \n",
       "\n",
       "                         author  is_pull_request  \\\n",
       "0         take-certain-word-end            False   \n",
       "1       open-young-friend-night             True   \n",
       "2      expect-bring-medical-lot            False   \n",
       "3  happen-democratic-early-game             True   \n",
       "4    serve-stay-cultural-reason            False   \n",
       "5            may-live-short-lot             True   \n",
       "\n",
       "                                           repo_name                  team  \n",
       "0  softwareentwicklung_aufgabe3_sose2021_tutors-a...  andre_und_sebastian1  \n",
       "1  softwareentwicklung_aufgabe3_sose2021_tutors-a...  andre_und_sebastian1  \n",
       "2  softwareentwicklung_aufgabe3_sose2021_tutors-g...      galina_und_jonas  \n",
       "3  softwareentwicklung_aufgabe3_sose2021_tutors-g...      galina_und_jonas  \n",
       "4  softwareentwicklung_aufgabe3_sose2021_tutors-n...       nico_und_baldur  \n",
       "5  softwareentwicklung_aufgabe3_sose2021_tutors-n...       nico_und_baldur  "
      ]
     },
     "execution_count": 13,
     "metadata": {},
     "output_type": "execute_result"
    }
   ],
   "source": [
    "dh.raw_pdIssues"
   ]
  },
  {
   "cell_type": "markdown",
   "id": "2cc7b670",
   "metadata": {},
   "source": [
    "## Working activities"
   ]
  },
  {
   "cell_type": "code",
   "execution_count": 14,
   "id": "4f65b458",
   "metadata": {
    "execution": {
     "iopub.execute_input": "2022-05-31T07:54:57.421448Z",
     "iopub.status.busy": "2022-05-31T07:54:57.421305Z",
     "iopub.status.idle": "2022-05-31T07:54:57.434072Z",
     "shell.execute_reply": "2022-05-31T07:54:57.433740Z"
    }
   },
   "outputs": [],
   "source": [
    "results = []\n",
    "\n",
    "for team in teams:\n",
    "    result = {}  \n",
    "    result['Team name'] = team\n",
    "    result['Commit count'] = dh.raw_pdCommits[dh.raw_pdCommits.team == team].commit_sha.count()\n",
    "    #result[]'Branches'] = dh.raw_pdBranches[dh.raw_pdBranches.teamKey == team_id].branch_names.count()\n",
    "    result['Issues'] = dh.raw_pdIssues[dh.raw_pdIssues.team == team].shape[0]\n",
    "    result['PullRequests'] = dh.raw_pdPullRequests[dh.raw_pdPullRequests.team == team].shape[0]\n",
    "    result['Releases'] = dh.raw_pdReleases[dh.raw_pdReleases.team == team].shape[0]\n",
    "    results.append(result)\n",
    "    \n",
    "pdResults = pd.DataFrame(results)"
   ]
  },
  {
   "cell_type": "code",
   "execution_count": 15,
   "id": "b9fc01c6",
   "metadata": {
    "execution": {
     "iopub.execute_input": "2022-05-31T07:54:57.435926Z",
     "iopub.status.busy": "2022-05-31T07:54:57.435762Z",
     "iopub.status.idle": "2022-05-31T07:54:57.443833Z",
     "shell.execute_reply": "2022-05-31T07:54:57.443497Z"
    }
   },
   "outputs": [],
   "source": [
    "pdResults['Team name'] = \"`\" + pdResults['Team name'] + \"`\" "
   ]
  },
  {
   "cell_type": "code",
   "execution_count": 16,
   "id": "4f28195e",
   "metadata": {
    "execution": {
     "iopub.execute_input": "2022-05-31T07:54:57.445564Z",
     "iopub.status.busy": "2022-05-31T07:54:57.445420Z",
     "iopub.status.idle": "2022-05-31T07:54:57.454937Z",
     "shell.execute_reply": "2022-05-31T07:54:57.454618Z"
    }
   },
   "outputs": [
    {
     "data": {
      "text/html": [
       "<div>\n",
       "<style scoped>\n",
       "    .dataframe tbody tr th:only-of-type {\n",
       "        vertical-align: middle;\n",
       "    }\n",
       "\n",
       "    .dataframe tbody tr th {\n",
       "        vertical-align: top;\n",
       "    }\n",
       "\n",
       "    .dataframe thead th {\n",
       "        text-align: right;\n",
       "    }\n",
       "</style>\n",
       "<table border=\"1\" class=\"dataframe\">\n",
       "  <thead>\n",
       "    <tr style=\"text-align: right;\">\n",
       "      <th></th>\n",
       "      <th>Team name</th>\n",
       "      <th>Commit count</th>\n",
       "      <th>Issues</th>\n",
       "      <th>PullRequests</th>\n",
       "      <th>Releases</th>\n",
       "    </tr>\n",
       "  </thead>\n",
       "  <tbody>\n",
       "    <tr>\n",
       "      <th>0</th>\n",
       "      <td>`andre_und_sebastian1`</td>\n",
       "      <td>5</td>\n",
       "      <td>2</td>\n",
       "      <td>1</td>\n",
       "      <td>1</td>\n",
       "    </tr>\n",
       "    <tr>\n",
       "      <th>1</th>\n",
       "      <td>`galina_und_jonas`</td>\n",
       "      <td>8</td>\n",
       "      <td>2</td>\n",
       "      <td>1</td>\n",
       "      <td>1</td>\n",
       "    </tr>\n",
       "    <tr>\n",
       "      <th>2</th>\n",
       "      <td>`nico_und_baldur`</td>\n",
       "      <td>8</td>\n",
       "      <td>2</td>\n",
       "      <td>1</td>\n",
       "      <td>1</td>\n",
       "    </tr>\n",
       "  </tbody>\n",
       "</table>\n",
       "</div>"
      ],
      "text/plain": [
       "                Team name  Commit count  Issues  PullRequests  Releases\n",
       "0  `andre_und_sebastian1`             5       2             1         1\n",
       "1      `galina_und_jonas`             8       2             1         1\n",
       "2       `nico_und_baldur`             8       2             1         1"
      ]
     },
     "execution_count": 16,
     "metadata": {},
     "output_type": "execute_result"
    }
   ],
   "source": [
    "pdResults"
   ]
  },
  {
   "cell_type": "code",
   "execution_count": 17,
   "id": "94dda1a6",
   "metadata": {
    "execution": {
     "iopub.execute_input": "2022-05-31T07:54:57.456781Z",
     "iopub.status.busy": "2022-05-31T07:54:57.456530Z",
     "iopub.status.idle": "2022-05-31T07:54:57.466311Z",
     "shell.execute_reply": "2022-05-31T07:54:57.465974Z"
    }
   },
   "outputs": [],
   "source": [
    "with open(result_folder + result_file_name + '.txt', 'w') as f:\n",
    "    f.write(pdResults.to_markdown())"
   ]
  },
  {
   "cell_type": "code",
   "execution_count": null,
   "id": "c865d004",
   "metadata": {},
   "outputs": [],
   "source": []
  }
 ],
 "metadata": {
  "interpreter": {
   "hash": "cab5110823f2123256dd3865d0cc139994b41dbc253d281a2185f480080b4372"
  },
  "kernelspec": {
   "display_name": "Python 3.9.12 ('GitHubClassroomTutorFeedback-0MA8VVWg')",
   "language": "python",
   "name": "python3"
  },
  "language_info": {
   "codemirror_mode": {
    "name": "ipython",
    "version": 3
   },
   "file_extension": ".py",
   "mimetype": "text/x-python",
   "name": "python",
   "nbconvert_exporter": "python",
   "pygments_lexer": "ipython3",
   "version": "3.9.12"
  }
 },
 "nbformat": 4,
 "nbformat_minor": 5
}
