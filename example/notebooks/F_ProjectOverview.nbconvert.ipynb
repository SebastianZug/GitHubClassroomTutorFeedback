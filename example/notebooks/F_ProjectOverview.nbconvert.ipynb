{
 "cells": [
  {
   "cell_type": "markdown",
   "id": "4215506f",
   "metadata": {},
   "source": [
    "# Generate project overview"
   ]
  },
  {
   "cell_type": "code",
   "execution_count": 1,
   "id": "ab08eda8",
   "metadata": {
    "execution": {
     "iopub.execute_input": "2021-12-12T19:02:24.928664Z",
     "iopub.status.busy": "2021-12-12T19:02:24.927979Z",
     "iopub.status.idle": "2021-12-12T19:02:25.236316Z",
     "shell.execute_reply": "2021-12-12T19:02:25.235615Z"
    }
   },
   "outputs": [],
   "source": [
    "import pandas as pd\n",
    "from pathlib import Path, PurePath\n",
    "import os\n",
    "import sys"
   ]
  },
  {
   "cell_type": "code",
   "execution_count": 2,
   "id": "36014c24",
   "metadata": {
    "execution": {
     "iopub.execute_input": "2021-12-12T19:02:25.239341Z",
     "iopub.status.busy": "2021-12-12T19:02:25.238900Z",
     "iopub.status.idle": "2021-12-12T19:02:25.327284Z",
     "shell.execute_reply": "2021-12-12T19:02:25.327694Z"
    }
   },
   "outputs": [],
   "source": [
    "from github2pandas_manager.config_parser import YAML_RequestDefinition\n",
    "import aux"
   ]
  },
  {
   "cell_type": "code",
   "execution_count": 3,
   "id": "51b81287",
   "metadata": {
    "execution": {
     "iopub.execute_input": "2021-12-12T19:02:25.330919Z",
     "iopub.status.busy": "2021-12-12T19:02:25.330411Z",
     "iopub.status.idle": "2021-12-12T19:02:25.333070Z",
     "shell.execute_reply": "2021-12-12T19:02:25.333417Z"
    }
   },
   "outputs": [],
   "source": [
    "sys.path.append(os.path.join(sys.path[0],'..','..','FeedbackGeneration'))\n",
    "from DataHandler import DataHandler"
   ]
  },
  {
   "cell_type": "code",
   "execution_count": 4,
   "id": "bbbfe615",
   "metadata": {
    "execution": {
     "iopub.execute_input": "2021-12-12T19:02:25.337243Z",
     "iopub.status.busy": "2021-12-12T19:02:25.336856Z",
     "iopub.status.idle": "2021-12-12T19:02:25.347170Z",
     "shell.execute_reply": "2021-12-12T19:02:25.347503Z"
    }
   },
   "outputs": [],
   "source": [
    "%load_ext autoreload\n",
    "%autoreload 2"
   ]
  },
  {
   "cell_type": "code",
   "execution_count": 5,
   "id": "4cd24a27",
   "metadata": {
    "execution": {
     "iopub.execute_input": "2021-12-12T19:02:25.349987Z",
     "iopub.status.busy": "2021-12-12T19:02:25.349597Z",
     "iopub.status.idle": "2021-12-12T19:02:25.358314Z",
     "shell.execute_reply": "2021-12-12T19:02:25.357927Z"
    }
   },
   "outputs": [],
   "source": [
    "result_folder = \"./example/notebooks/\"\n",
    "result_file_name = \"F_ProjectOverview\""
   ]
  },
  {
   "cell_type": "code",
   "execution_count": 6,
   "id": "b95f36aa",
   "metadata": {
    "execution": {
     "iopub.execute_input": "2021-12-12T19:02:25.360962Z",
     "iopub.status.busy": "2021-12-12T19:02:25.360468Z",
     "iopub.status.idle": "2021-12-12T19:02:25.369361Z",
     "shell.execute_reply": "2021-12-12T19:02:25.369022Z"
    }
   },
   "outputs": [],
   "source": [
    "project_folder_name = \"../\"\n",
    "project_parameter_file = \"config.yml\""
   ]
  },
  {
   "cell_type": "code",
   "execution_count": 7,
   "id": "7155eeb8",
   "metadata": {
    "execution": {
     "iopub.execute_input": "2021-12-12T19:02:25.373051Z",
     "iopub.status.busy": "2021-12-12T19:02:25.371534Z",
     "iopub.status.idle": "2021-12-12T19:02:25.382577Z",
     "shell.execute_reply": "2021-12-12T19:02:25.382268Z"
    }
   },
   "outputs": [
    {
     "name": "stdout",
     "output_type": "stream",
     "text": [
      "./example/data/programmingtask_1\n"
     ]
    }
   ],
   "source": [
    "request_params = YAML_RequestDefinition(project_folder_name+project_parameter_file)\n",
    "print(request_params.parameters.project_folder)"
   ]
  },
  {
   "cell_type": "code",
   "execution_count": 8,
   "id": "f62e9641",
   "metadata": {
    "execution": {
     "iopub.execute_input": "2021-12-12T19:02:25.385379Z",
     "iopub.status.busy": "2021-12-12T19:02:25.385006Z",
     "iopub.status.idle": "2021-12-12T19:02:25.394245Z",
     "shell.execute_reply": "2021-12-12T19:02:25.394568Z"
    }
   },
   "outputs": [
    {
     "name": "stdout",
     "output_type": "stream",
     "text": [
      "/home/zug/Desktop/github2pandas/GitHubClassroomTutorFeedback/example/notebooks\n",
      "/home/zug/Desktop/github2pandas/GitHubClassroomTutorFeedback\n"
     ]
    }
   ],
   "source": [
    "path = PurePath(os.getcwd())\n",
    "if path.name == \"notebooks\":\n",
    "    print(os.getcwd())\n",
    "    os.chdir(\"../../\")\n",
    "    print(os.getcwd())"
   ]
  },
  {
   "cell_type": "code",
   "execution_count": 9,
   "id": "9205ab6e",
   "metadata": {
    "execution": {
     "iopub.execute_input": "2021-12-12T19:02:25.397161Z",
     "iopub.status.busy": "2021-12-12T19:02:25.396757Z",
     "iopub.status.idle": "2021-12-12T19:02:25.412377Z",
     "shell.execute_reply": "2021-12-12T19:02:25.412657Z"
    }
   },
   "outputs": [
    {
     "name": "stdout",
     "output_type": "stream",
     "text": [
      "example/data/programmingtask_1\n"
     ]
    }
   ],
   "source": [
    "dh = DataHandler(request_params.parameters.project_folder)"
   ]
  },
  {
   "cell_type": "code",
   "execution_count": 10,
   "id": "a248872d",
   "metadata": {
    "execution": {
     "iopub.execute_input": "2021-12-12T19:02:25.416080Z",
     "iopub.status.busy": "2021-12-12T19:02:25.415681Z",
     "iopub.status.idle": "2021-12-12T19:02:25.430340Z",
     "shell.execute_reply": "2021-12-12T19:02:25.430004Z"
    }
   },
   "outputs": [],
   "source": [
    "dh.raw_pdCommits['team'] =  dh.raw_pdCommits['repo_name'].apply(aux.getTeamName)\n",
    "dh.raw_pdEdits['team'] =  dh.raw_pdEdits['repo_name'].apply(aux.getTeamName)\n",
    "#dh.raw_pdBranches['team'] =  dh.raw_pdBranches['repo_name'].apply(aux.getTeamName)\n",
    "dh.raw_pdIssues['team'] =  dh.raw_pdIssues['repo_name'].apply(aux.getTeamName)\n",
    "dh.raw_pdRepositories['team'] =  dh.raw_pdRepositories['repo_name'].apply(aux.getTeamName)\n",
    "dh.raw_pdPullRequests['team'] =  dh.raw_pdPullRequests['repo_name'].apply(aux.getTeamName)\n",
    "dh.raw_pdReleases['team'] =  dh.raw_pdReleases['repo_name'].apply(aux.getTeamName)"
   ]
  },
  {
   "cell_type": "code",
   "execution_count": 11,
   "id": "3bc29550",
   "metadata": {
    "execution": {
     "iopub.execute_input": "2021-12-12T19:02:25.433374Z",
     "iopub.status.busy": "2021-12-12T19:02:25.432751Z",
     "iopub.status.idle": "2021-12-12T19:02:25.444056Z",
     "shell.execute_reply": "2021-12-12T19:02:25.443681Z"
    }
   },
   "outputs": [
    {
     "name": "stdout",
     "output_type": "stream",
     "text": [
      "['mytestteam' 'teamavengers' 'teamovgu' 'teamtuf']\n"
     ]
    }
   ],
   "source": [
    "teams = dh.raw_pdRepositories['team'].unique()\n",
    "print(teams)"
   ]
  },
  {
   "cell_type": "code",
   "execution_count": 12,
   "id": "7746bcce",
   "metadata": {
    "execution": {
     "iopub.execute_input": "2021-12-12T19:02:25.446698Z",
     "iopub.status.busy": "2021-12-12T19:02:25.446273Z",
     "iopub.status.idle": "2021-12-12T19:02:25.472716Z",
     "shell.execute_reply": "2021-12-12T19:02:25.473068Z"
    }
   },
   "outputs": [
    {
     "data": {
      "text/html": [
       "<div>\n",
       "<style scoped>\n",
       "    .dataframe tbody tr th:only-of-type {\n",
       "        vertical-align: middle;\n",
       "    }\n",
       "\n",
       "    .dataframe tbody tr th {\n",
       "        vertical-align: top;\n",
       "    }\n",
       "\n",
       "    .dataframe thead th {\n",
       "        text-align: right;\n",
       "    }\n",
       "</style>\n",
       "<table border=\"1\" class=\"dataframe\">\n",
       "  <thead>\n",
       "    <tr style=\"text-align: right;\">\n",
       "      <th></th>\n",
       "      <th>repo_name</th>\n",
       "      <th>assignees</th>\n",
       "      <th>body</th>\n",
       "      <th>closed_at</th>\n",
       "      <th>created_at</th>\n",
       "      <th>id</th>\n",
       "      <th>labels</th>\n",
       "      <th>state</th>\n",
       "      <th>title</th>\n",
       "      <th>updated_at</th>\n",
       "      <th>author</th>\n",
       "      <th>team</th>\n",
       "    </tr>\n",
       "  </thead>\n",
       "  <tbody>\n",
       "    <tr>\n",
       "      <th>0</th>\n",
       "      <td>programmingtask_1-team-avengers</td>\n",
       "      <td></td>\n",
       "      <td>It is necessary, to highlight important terms ...</td>\n",
       "      <td>None</td>\n",
       "      <td>2021-11-19 08:46:17</td>\n",
       "      <td>1.058285e+09</td>\n",
       "      <td></td>\n",
       "      <td>open</td>\n",
       "      <td>Style improvement</td>\n",
       "      <td>2021-11-19 14:48:08</td>\n",
       "      <td>think-old-current-family</td>\n",
       "      <td>teamavengers</td>\n",
       "    </tr>\n",
       "    <tr>\n",
       "      <th>1</th>\n",
       "      <td>programmingtask_1-team-avengers</td>\n",
       "      <td></td>\n",
       "      <td>I would like to have more requirements present...</td>\n",
       "      <td>None</td>\n",
       "      <td>2021-11-19 08:43:52</td>\n",
       "      <td>1.058283e+09</td>\n",
       "      <td></td>\n",
       "      <td>open</td>\n",
       "      <td>Requirement Analysis</td>\n",
       "      <td>2021-11-19 13:43:17</td>\n",
       "      <td>think-old-current-family</td>\n",
       "      <td>teamavengers</td>\n",
       "    </tr>\n",
       "  </tbody>\n",
       "</table>\n",
       "</div>"
      ],
      "text/plain": [
       "                         repo_name assignees  \\\n",
       "0  programmingtask_1-team-avengers             \n",
       "1  programmingtask_1-team-avengers             \n",
       "\n",
       "                                                body closed_at  \\\n",
       "0  It is necessary, to highlight important terms ...      None   \n",
       "1  I would like to have more requirements present...      None   \n",
       "\n",
       "           created_at            id labels state                 title  \\\n",
       "0 2021-11-19 08:46:17  1.058285e+09         open     Style improvement   \n",
       "1 2021-11-19 08:43:52  1.058283e+09         open  Requirement Analysis   \n",
       "\n",
       "           updated_at                    author          team  \n",
       "0 2021-11-19 14:48:08  think-old-current-family  teamavengers  \n",
       "1 2021-11-19 13:43:17  think-old-current-family  teamavengers  "
      ]
     },
     "execution_count": 12,
     "metadata": {},
     "output_type": "execute_result"
    }
   ],
   "source": [
    "dh.raw_pdIssues"
   ]
  },
  {
   "cell_type": "markdown",
   "id": "2cc7b670",
   "metadata": {},
   "source": [
    "## Working activities"
   ]
  },
  {
   "cell_type": "code",
   "execution_count": 13,
   "id": "4f65b458",
   "metadata": {
    "execution": {
     "iopub.execute_input": "2021-12-12T19:02:25.476977Z",
     "iopub.status.busy": "2021-12-12T19:02:25.476556Z",
     "iopub.status.idle": "2021-12-12T19:02:25.496585Z",
     "shell.execute_reply": "2021-12-12T19:02:25.496104Z"
    }
   },
   "outputs": [],
   "source": [
    "results = []\n",
    "\n",
    "for team in teams:\n",
    "    result = {}  \n",
    "    result['Team name'] = team\n",
    "    result['Commit count'] = dh.raw_pdCommits[dh.raw_pdCommits.team == team].commit_sha.count()\n",
    "    #result[]'Branches'] = dh.raw_pdBranches[dh.raw_pdBranches.teamKey == team_id].branch_names.count()\n",
    "    result['Issues'] = dh.raw_pdIssues[dh.raw_pdIssues.team == team].shape[0]\n",
    "    result['PullRequests'] = dh.raw_pdPullRequests[dh.raw_pdPullRequests.team == team].shape[0]\n",
    "    result['Releases'] = dh.raw_pdReleases[dh.raw_pdReleases.team == team].shape[0]\n",
    "    results.append(result)\n",
    "    \n",
    "pdResults = pd.DataFrame(results)"
   ]
  },
  {
   "cell_type": "code",
   "execution_count": 14,
   "id": "4f28195e",
   "metadata": {
    "execution": {
     "iopub.execute_input": "2021-12-12T19:02:25.501161Z",
     "iopub.status.busy": "2021-12-12T19:02:25.500694Z",
     "iopub.status.idle": "2021-12-12T19:02:25.514370Z",
     "shell.execute_reply": "2021-12-12T19:02:25.513685Z"
    }
   },
   "outputs": [
    {
     "data": {
      "text/html": [
       "<div>\n",
       "<style scoped>\n",
       "    .dataframe tbody tr th:only-of-type {\n",
       "        vertical-align: middle;\n",
       "    }\n",
       "\n",
       "    .dataframe tbody tr th {\n",
       "        vertical-align: top;\n",
       "    }\n",
       "\n",
       "    .dataframe thead th {\n",
       "        text-align: right;\n",
       "    }\n",
       "</style>\n",
       "<table border=\"1\" class=\"dataframe\">\n",
       "  <thead>\n",
       "    <tr style=\"text-align: right;\">\n",
       "      <th></th>\n",
       "      <th>Team name</th>\n",
       "      <th>Commit count</th>\n",
       "      <th>Issues</th>\n",
       "      <th>PullRequests</th>\n",
       "      <th>Releases</th>\n",
       "    </tr>\n",
       "  </thead>\n",
       "  <tbody>\n",
       "    <tr>\n",
       "      <th>0</th>\n",
       "      <td>mytestteam</td>\n",
       "      <td>2</td>\n",
       "      <td>0</td>\n",
       "      <td>0</td>\n",
       "      <td>0</td>\n",
       "    </tr>\n",
       "    <tr>\n",
       "      <th>1</th>\n",
       "      <td>teamavengers</td>\n",
       "      <td>8</td>\n",
       "      <td>2</td>\n",
       "      <td>0</td>\n",
       "      <td>0</td>\n",
       "    </tr>\n",
       "    <tr>\n",
       "      <th>2</th>\n",
       "      <td>teamovgu</td>\n",
       "      <td>1</td>\n",
       "      <td>0</td>\n",
       "      <td>0</td>\n",
       "      <td>0</td>\n",
       "    </tr>\n",
       "    <tr>\n",
       "      <th>3</th>\n",
       "      <td>teamtuf</td>\n",
       "      <td>4</td>\n",
       "      <td>0</td>\n",
       "      <td>0</td>\n",
       "      <td>0</td>\n",
       "    </tr>\n",
       "  </tbody>\n",
       "</table>\n",
       "</div>"
      ],
      "text/plain": [
       "      Team name  Commit count  Issues  PullRequests  Releases\n",
       "0    mytestteam             2       0             0         0\n",
       "1  teamavengers             8       2             0         0\n",
       "2      teamovgu             1       0             0         0\n",
       "3       teamtuf             4       0             0         0"
      ]
     },
     "execution_count": 14,
     "metadata": {},
     "output_type": "execute_result"
    }
   ],
   "source": [
    "pdResults"
   ]
  },
  {
   "cell_type": "code",
   "execution_count": 15,
   "id": "94dda1a6",
   "metadata": {
    "execution": {
     "iopub.execute_input": "2021-12-12T19:02:25.517566Z",
     "iopub.status.busy": "2021-12-12T19:02:25.517146Z",
     "iopub.status.idle": "2021-12-12T19:02:25.530013Z",
     "shell.execute_reply": "2021-12-12T19:02:25.529307Z"
    }
   },
   "outputs": [],
   "source": [
    "with open(result_folder + result_file_name + '.txt', 'w') as f:\n",
    "    f.write(pdResults.to_markdown())"
   ]
  },
  {
   "cell_type": "code",
   "execution_count": null,
   "id": "c865d004",
   "metadata": {},
   "outputs": [],
   "source": []
  }
 ],
 "metadata": {
  "kernelspec": {
   "display_name": "Python 3 (ipykernel)",
   "language": "python",
   "name": "python3"
  },
  "language_info": {
   "codemirror_mode": {
    "name": "ipython",
    "version": 3
   },
   "file_extension": ".py",
   "mimetype": "text/x-python",
   "name": "python",
   "nbconvert_exporter": "python",
   "pygments_lexer": "ipython3",
   "version": "3.8.10"
  }
 },
 "nbformat": 4,
 "nbformat_minor": 5
}
